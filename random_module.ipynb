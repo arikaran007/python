{
  "nbformat": 4,
  "nbformat_minor": 0,
  "metadata": {
    "colab": {
      "provenance": [],
      "authorship_tag": "ABX9TyPMAff2sizF8nbc+WpAPBjD",
      "include_colab_link": true
    },
    "kernelspec": {
      "name": "python3",
      "display_name": "Python 3"
    },
    "language_info": {
      "name": "python"
    }
  },
  "cells": [
    {
      "cell_type": "markdown",
      "metadata": {
        "id": "view-in-github",
        "colab_type": "text"
      },
      "source": [
        "<a href=\"https://colab.research.google.com/github/arikaran007/python/blob/main/random_module.ipynb\" target=\"_parent\"><img src=\"https://colab.research.google.com/assets/colab-badge.svg\" alt=\"Open In Colab\"/></a>"
      ]
    },
    {
      "cell_type": "code",
      "execution_count": null,
      "metadata": {
        "colab": {
          "base_uri": "https://localhost:8080/"
        },
        "id": "LbinRGaqmFzP",
        "outputId": "76719a3e-4ccd-448d-c2f0-aab52476e94a"
      },
      "outputs": [
        {
          "output_type": "stream",
          "name": "stdout",
          "text": [
            "0.1788495251820892\n"
          ]
        }
      ],
      "source": [
        "import random\n",
        "\n",
        "value = random.random()\n",
        "print(value)"
      ]
    },
    {
      "cell_type": "code",
      "source": [
        "value = random.uniform(1,10)\n",
        "print(value)"
      ],
      "metadata": {
        "colab": {
          "base_uri": "https://localhost:8080/"
        },
        "id": "ueAMoVewm2jZ",
        "outputId": "ce2483a8-85f4-47fb-903e-244eb00fc574"
      },
      "execution_count": null,
      "outputs": [
        {
          "output_type": "stream",
          "name": "stdout",
          "text": [
            "5.464743775125763\n"
          ]
        }
      ]
    },
    {
      "cell_type": "code",
      "source": [
        "value = random.randint(1,10)\n",
        "print(value)"
      ],
      "metadata": {
        "colab": {
          "base_uri": "https://localhost:8080/"
        },
        "id": "bA_PI4bum7UH",
        "outputId": "ca626c83-6cd9-433a-e97a-1437ed54e8cd"
      },
      "execution_count": null,
      "outputs": [
        {
          "output_type": "stream",
          "name": "stdout",
          "text": [
            "6\n"
          ]
        }
      ]
    },
    {
      "cell_type": "code",
      "source": [
        "greeting  = ['hi','hello','hfd','aga']\n",
        "\n",
        "value  = random.choice(greeting)\n",
        "print(value)"
      ],
      "metadata": {
        "colab": {
          "base_uri": "https://localhost:8080/"
        },
        "id": "jmi37knenAAS",
        "outputId": "c3fe5b83-e3df-436f-c1a6-f0e34458cbb4"
      },
      "execution_count": null,
      "outputs": [
        {
          "output_type": "stream",
          "name": "stdout",
          "text": [
            "hi\n"
          ]
        }
      ]
    },
    {
      "cell_type": "code",
      "source": [
        "colors = ['red','blue','black']\n",
        "\n",
        "result = random.choices(colors,k=10)\n",
        "print(result)"
      ],
      "metadata": {
        "colab": {
          "base_uri": "https://localhost:8080/"
        },
        "id": "j-x9rO9Tn0jc",
        "outputId": "64fec4f4-df21-4fab-d4f9-4f334c20e4a9"
      },
      "execution_count": null,
      "outputs": [
        {
          "output_type": "stream",
          "name": "stdout",
          "text": [
            "['red', 'blue', 'black', 'blue', 'blue', 'red', 'black', 'blue', 'red', 'black']\n"
          ]
        }
      ]
    },
    {
      "cell_type": "code",
      "source": [
        "colors = ['red','blue','black']\n",
        "\n",
        "result = random.choices(colors,weights=[10,7,4],k=10)\n",
        "print(result)"
      ],
      "metadata": {
        "colab": {
          "base_uri": "https://localhost:8080/"
        },
        "id": "19Tnj62sn_nZ",
        "outputId": "7002a4cf-b42f-4475-cf00-14f743322867"
      },
      "execution_count": null,
      "outputs": [
        {
          "output_type": "stream",
          "name": "stdout",
          "text": [
            "['blue', 'blue', 'blue', 'black', 'red', 'black', 'blue', 'black', 'red', 'red']\n"
          ]
        }
      ]
    },
    {
      "cell_type": "code",
      "source": [
        "deck = list(range(1,52))\n",
        "\n",
        "hand = random.sample(deck,k=5)\n",
        "print(hand)"
      ],
      "metadata": {
        "colab": {
          "base_uri": "https://localhost:8080/"
        },
        "id": "vqHrjRf0oeht",
        "outputId": "82143e07-d378-4616-f93e-f4f263608e13"
      },
      "execution_count": null,
      "outputs": [
        {
          "output_type": "stream",
          "name": "stdout",
          "text": [
            "[21, 18, 6, 47, 44]\n"
          ]
        }
      ]
    },
    {
      "cell_type": "code",
      "source": [
        "first_names = ['John', 'Jane', 'Corey', 'Travis', 'Dave', 'Kurt', 'Neil', 'Sam', 'Steve', 'Tom', 'James', 'Robert', 'Michael', 'Charles', 'Joe', 'Mary', 'Maggie', 'Nicole', 'Patricia', 'Linda', 'Barbara', 'Elizabeth', 'Laura', 'Jennifer', 'Maria']\n",
        "\n",
        "last_names = ['Smith', 'Doe', 'Jenkins', 'Robinson', 'Davis', 'Stuart', 'Jefferson', 'Jacobs', 'Wright', 'Patterson', 'Wilks', 'Arnold', 'Johnson', 'Williams', 'Jones', 'Brown', 'Davis', 'Miller', 'Wilson', 'Moore', 'Taylor', 'Anderson', 'Thomas', 'Jackson', 'White', 'Harris', 'Martin']\n",
        "\n",
        "street_names = ['Main', 'High', 'Pearl', 'Maple', 'Park', 'Oak', 'Pine', 'Cedar', 'Elm', 'Washington', 'Lake', 'Hill']\n",
        "\n",
        "fake_cities = ['Metropolis', 'Eerie', \"King's Landing\", 'Sunnydale', 'Bedrock', 'South Park', 'Atlantis', 'Mordor', 'Olympus', 'Dawnstar', 'Balmora', 'Gotham', 'Springfield', 'Quahog', 'Smalltown', 'Epicburg', 'Pythonville', 'Faketown', 'Westworld', 'Thundera', 'Vice City', 'Blackwater', 'Oldtown', 'Valyria', 'Winterfell', 'Braavos‎', 'Lakeview']\n",
        "\n",
        "states = ['AL', 'AK', 'AZ', 'AR', 'CA', 'CO', 'CT', 'DC', 'DE', 'FL', 'GA', 'HI', 'ID', 'IL', 'IN', 'IA', 'KS', 'KY', 'LA', 'ME', 'MD', 'MA', 'MI', 'MN', 'MS', 'MO', 'MT', 'NE', 'NV', 'NH', 'NJ', 'NM', 'NY', 'NC', 'ND', 'OH', 'OK', 'OR', 'PA', 'RI', 'SC', 'SD', 'TN', 'TX', 'UT', 'VT', 'VA', 'WA', 'WV', 'WI', 'WY']\n",
        "\n",
        "for num in range(10):\n",
        "  first = random.choice(first_names)\n",
        "  last = random.choice(last_names)\n",
        "\n",
        "  phone = f'{random.randint(100,999)}555-{random.randint(1000,9999)}'\n",
        "\n",
        "  street_num = random.randint(1000,9999)\n",
        "  street = random.choice(street_names)\n",
        "  city = random.choice(fake_cities)\n",
        "  states = random.choice(states)\n",
        "  zip = random.randint(10000,89999)\n",
        "  address  = f'{street_num},{street},{city},{states},{zip}'\n",
        "\n",
        "  email =first.lower()+last.lower() + '@gmail.com'\n",
        "\n",
        "  print(f'{first}{last}\\n{phone}\\n{address}\\n{email}\\n')"
      ],
      "metadata": {
        "colab": {
          "base_uri": "https://localhost:8080/"
        },
        "id": "-MUuEyXepCJI",
        "outputId": "fde544e8-04e2-4f6e-b15a-b1fe2f23a8b1"
      },
      "execution_count": null,
      "outputs": [
        {
          "output_type": "stream",
          "name": "stdout",
          "text": [
            "SteveJohnson\n",
            "251555-7490\n",
            "6407,Pearl,Gotham,LA,63381\n",
            "stevejohnson@gmail.com\n",
            "\n",
            "LindaWilson\n",
            "656555-1859\n",
            "4959,Hill,Braavos‎,A,28198\n",
            "lindawilson@gmail.com\n",
            "\n",
            "TomStuart\n",
            "236555-9444\n",
            "8981,Pine,Oldtown,A,34985\n",
            "tomstuart@gmail.com\n",
            "\n",
            "JamesWilliams\n",
            "981555-7899\n",
            "1368,Oak,Quahog,A,11123\n",
            "jameswilliams@gmail.com\n",
            "\n",
            "JamesMoore\n",
            "344555-4295\n",
            "9507,Elm,Smalltown,A,68704\n",
            "jamesmoore@gmail.com\n",
            "\n",
            "LindaSmith\n",
            "278555-5664\n",
            "8783,High,Sunnydale,A,19311\n",
            "lindasmith@gmail.com\n",
            "\n",
            "JaneDavis\n",
            "385555-8002\n",
            "2637,Hill,Olympus,A,36210\n",
            "janedavis@gmail.com\n",
            "\n",
            "JenniferSmith\n",
            "791555-7297\n",
            "3453,Elm,Valyria,A,19895\n",
            "jennifersmith@gmail.com\n",
            "\n",
            "TravisDavis\n",
            "911555-3966\n",
            "7535,Maple,Blackwater,A,50950\n",
            "travisdavis@gmail.com\n",
            "\n",
            "BarbaraMoore\n",
            "640555-7244\n",
            "6153,Cedar,Valyria,A,29892\n",
            "barbaramoore@gmail.com\n",
            "\n"
          ]
        }
      ]
    },
    {
      "cell_type": "code",
      "source": [],
      "metadata": {
        "id": "fvPlPBRlr2hN"
      },
      "execution_count": null,
      "outputs": []
    }
  ]
}