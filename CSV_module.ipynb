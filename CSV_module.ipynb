{
  "nbformat": 4,
  "nbformat_minor": 0,
  "metadata": {
    "colab": {
      "provenance": [],
      "authorship_tag": "ABX9TyP7sApagGL7xfhTlCdB0ueq",
      "include_colab_link": true
    },
    "kernelspec": {
      "name": "python3",
      "display_name": "Python 3"
    },
    "language_info": {
      "name": "python"
    }
  },
  "cells": [
    {
      "cell_type": "markdown",
      "metadata": {
        "id": "view-in-github",
        "colab_type": "text"
      },
      "source": [
        "<a href=\"https://colab.research.google.com/github/arikaran007/python/blob/main/CSV_module.ipynb\" target=\"_parent\"><img src=\"https://colab.research.google.com/assets/colab-badge.svg\" alt=\"Open In Colab\"/></a>"
      ]
    },
    {
      "cell_type": "code",
      "execution_count": null,
      "metadata": {
        "colab": {
          "base_uri": "https://localhost:8080/"
        },
        "id": "7fssKR4WtoPu",
        "outputId": "68257541-78e0-4b42-a989-9bfb6888da5f"
      },
      "outputs": [
        {
          "output_type": "stream",
          "name": "stdout",
          "text": [
            "<_csv.reader object at 0x78a9a0a24e40>\n"
          ]
        }
      ],
      "source": [
        "import csv\n",
        "\n",
        "with open('names.csv','r') as csv_file:\n",
        "  csv_reader  = csv.reader(csv_file)\n",
        "  print(csv_reader)"
      ]
    },
    {
      "cell_type": "code",
      "source": [
        "with open('names.csv','r') as csv_file:\n",
        "  csv_reader  = csv.reader(csv_file)\n",
        "\n",
        "  next(csv_reader)\n",
        "\n",
        "  for line in csv_reader:\n",
        "    print(line[2])"
      ],
      "metadata": {
        "colab": {
          "base_uri": "https://localhost:8080/"
        },
        "id": "2rPmaZT6uSf3",
        "outputId": "45744e2e-7472-483a-e1da-88c8f4d68097"
      },
      "execution_count": null,
      "outputs": [
        {
          "output_type": "stream",
          "name": "stdout",
          "text": [
            "john-doe@bogusemail.com\n",
            "maryjacobs@bogusemail.com\n",
            "davesmith@bogusemail.com\n",
            "janestuart@bogusemail.com\n",
            "tomwright@bogusemail.com\n",
            "steverobinson@bogusemail.com\n",
            "nicolejacobs@bogusemail.com\n",
            "janewright@bogusemail.com\n",
            "janedoe@bogusemail.com\n",
            "kurtwright@bogusemail.com\n",
            "kurtrobinson@bogusemail.com\n",
            "janejenkins@bogusemail.com\n",
            "neilrobinson@bogusemail.com\n",
            "tompatterson@bogusemail.com\n",
            "samjenkins@bogusemail.com\n",
            "stevestuart@bogusemail.com\n",
            "maggiepatterson@bogusemail.com\n",
            "maggiestuart@bogusemail.com\n",
            "janedoe@bogusemail.com\n",
            "stevepatterson@bogusemail.com\n",
            "davesmith@bogusemail.com\n",
            "samwilks@bogusemail.com\n",
            "kurtjefferson@bogusemail.com\n",
            "samstuart@bogusemail.com\n",
            "janestuart@bogusemail.com\n",
            "davedavis@bogusemail.com\n",
            "sampatterson@bogusemail.com\n",
            "tomjefferson@bogusemail.com\n",
            "janestuart@bogusemail.com\n",
            "maggiejefferson@bogusemail.com\n",
            "marywilks@bogusemail.com\n",
            "neilpatterson@bogusemail.com\n",
            "coreydavis@bogusemail.com\n",
            "stevejacobs@bogusemail.com\n",
            "janejenkins@bogusemail.com\n",
            "johnjacobs@bogusemail.com\n",
            "neilsmith@bogusemail.com\n",
            "coreywilks@bogusemail.com\n",
            "coreysmith@bogusemail.com\n",
            "marypatterson@bogusemail.com\n",
            "janestuart@bogusemail.com\n",
            "travisarnold@bogusemail.com\n",
            "johnrobinson@bogusemail.com\n",
            "travisarnold@bogusemail.com\n"
          ]
        }
      ]
    },
    {
      "cell_type": "code",
      "source": [
        "with open('names.csv','r') as csv_file:\n",
        "  csv_reader  = csv.reader(csv_file)\n",
        "\n",
        "  with open('new_name.csv','w') as new_file:\n",
        "    csv_writer = csv.writer(new_file,delimiter = '\\t')\n",
        "\n",
        "    for line in csv_reader:\n",
        "      csv_writer.writerow(line)\n"
      ],
      "metadata": {
        "id": "-3Ut7JAXufaD"
      },
      "execution_count": null,
      "outputs": []
    },
    {
      "cell_type": "code",
      "source": [
        "with open('names.csv','r') as csv_file:\n",
        "  csv_reader  = csv.DictReader(csv_file)\n",
        "\n",
        "  for line in csv_reader:\n",
        "    print(line)\n"
      ],
      "metadata": {
        "colab": {
          "base_uri": "https://localhost:8080/"
        },
        "id": "cB3Bw6x9v20A",
        "outputId": "aca62eca-67c4-4c52-8c9e-bf44058fba60"
      },
      "execution_count": null,
      "outputs": [
        {
          "output_type": "stream",
          "name": "stdout",
          "text": [
            "{'first_name': 'John', 'last_name': 'Doe', 'email': 'john-doe@bogusemail.com'}\n",
            "{'first_name': 'Mary', 'last_name': 'Smith-Robinson', 'email': 'maryjacobs@bogusemail.com'}\n",
            "{'first_name': 'Dave', 'last_name': 'Smith', 'email': 'davesmith@bogusemail.com'}\n",
            "{'first_name': 'Jane', 'last_name': 'Stuart', 'email': 'janestuart@bogusemail.com'}\n",
            "{'first_name': 'Tom', 'last_name': 'Wright', 'email': 'tomwright@bogusemail.com'}\n",
            "{'first_name': 'Steve', 'last_name': 'Robinson', 'email': 'steverobinson@bogusemail.com'}\n",
            "{'first_name': 'Nicole', 'last_name': 'Jacobs', 'email': 'nicolejacobs@bogusemail.com'}\n",
            "{'first_name': 'Jane', 'last_name': 'Wright', 'email': 'janewright@bogusemail.com'}\n",
            "{'first_name': 'Jane', 'last_name': 'Doe', 'email': 'janedoe@bogusemail.com'}\n",
            "{'first_name': 'Kurt', 'last_name': 'Wright', 'email': 'kurtwright@bogusemail.com'}\n",
            "{'first_name': 'Kurt', 'last_name': 'Robinson', 'email': 'kurtrobinson@bogusemail.com'}\n",
            "{'first_name': 'Jane', 'last_name': 'Jenkins', 'email': 'janejenkins@bogusemail.com'}\n",
            "{'first_name': 'Neil', 'last_name': 'Robinson', 'email': 'neilrobinson@bogusemail.com'}\n",
            "{'first_name': 'Tom', 'last_name': 'Patterson', 'email': 'tompatterson@bogusemail.com'}\n",
            "{'first_name': 'Sam', 'last_name': 'Jenkins', 'email': 'samjenkins@bogusemail.com'}\n",
            "{'first_name': 'Steve', 'last_name': 'Stuart', 'email': 'stevestuart@bogusemail.com'}\n",
            "{'first_name': 'Maggie', 'last_name': 'Patterson', 'email': 'maggiepatterson@bogusemail.com'}\n",
            "{'first_name': 'Maggie', 'last_name': 'Stuart', 'email': 'maggiestuart@bogusemail.com'}\n",
            "{'first_name': 'Jane', 'last_name': 'Doe', 'email': 'janedoe@bogusemail.com'}\n",
            "{'first_name': 'Steve', 'last_name': 'Patterson', 'email': 'stevepatterson@bogusemail.com'}\n",
            "{'first_name': 'Dave', 'last_name': 'Smith', 'email': 'davesmith@bogusemail.com'}\n",
            "{'first_name': 'Sam', 'last_name': 'Wilks', 'email': 'samwilks@bogusemail.com'}\n",
            "{'first_name': 'Kurt', 'last_name': 'Jefferson', 'email': 'kurtjefferson@bogusemail.com'}\n",
            "{'first_name': 'Sam', 'last_name': 'Stuart', 'email': 'samstuart@bogusemail.com'}\n",
            "{'first_name': 'Jane', 'last_name': 'Stuart', 'email': 'janestuart@bogusemail.com'}\n",
            "{'first_name': 'Dave', 'last_name': 'Davis', 'email': 'davedavis@bogusemail.com'}\n",
            "{'first_name': 'Sam', 'last_name': 'Patterson', 'email': 'sampatterson@bogusemail.com'}\n",
            "{'first_name': 'Tom', 'last_name': 'Jefferson', 'email': 'tomjefferson@bogusemail.com'}\n",
            "{'first_name': 'Jane', 'last_name': 'Stuart', 'email': 'janestuart@bogusemail.com'}\n",
            "{'first_name': 'Maggie', 'last_name': 'Jefferson', 'email': 'maggiejefferson@bogusemail.com'}\n",
            "{'first_name': 'Mary', 'last_name': 'Wilks', 'email': 'marywilks@bogusemail.com'}\n",
            "{'first_name': 'Neil', 'last_name': 'Patterson', 'email': 'neilpatterson@bogusemail.com'}\n",
            "{'first_name': 'Corey', 'last_name': 'Davis', 'email': 'coreydavis@bogusemail.com'}\n",
            "{'first_name': 'Steve', 'last_name': 'Jacobs', 'email': 'stevejacobs@bogusemail.com'}\n",
            "{'first_name': 'Jane', 'last_name': 'Jenkins', 'email': 'janejenkins@bogusemail.com'}\n",
            "{'first_name': 'John', 'last_name': 'Jacobs', 'email': 'johnjacobs@bogusemail.com'}\n",
            "{'first_name': 'Neil', 'last_name': 'Smith', 'email': 'neilsmith@bogusemail.com'}\n",
            "{'first_name': 'Corey', 'last_name': 'Wilks', 'email': 'coreywilks@bogusemail.com'}\n",
            "{'first_name': 'Corey', 'last_name': 'Smith', 'email': 'coreysmith@bogusemail.com'}\n",
            "{'first_name': 'Mary', 'last_name': 'Patterson', 'email': 'marypatterson@bogusemail.com'}\n",
            "{'first_name': 'Jane', 'last_name': 'Stuart', 'email': 'janestuart@bogusemail.com'}\n",
            "{'first_name': 'Travis', 'last_name': 'Arnold', 'email': 'travisarnold@bogusemail.com'}\n",
            "{'first_name': 'John', 'last_name': 'Robinson', 'email': 'johnrobinson@bogusemail.com'}\n",
            "{'first_name': 'Travis', 'last_name': 'Arnold', 'email': 'travisarnold@bogusemail.com'}\n"
          ]
        }
      ]
    },
    {
      "cell_type": "code",
      "source": [
        "with open('names.csv','r') as csv_file:\n",
        "  csv_reader  = csv.DictReader(csv_file)\n",
        "\n",
        "  with open('new_name.csv','w') as new_file:\n",
        "    fieldnames = ['first_name','last_name']\n",
        "    csv_writer = csv.DictWriter(new_file,fieldnames=fieldnames,delimiter = '\\t')\n",
        "\n",
        "    csv_writer.writeheader()\n",
        "\n",
        "    for line in csv_reader:\n",
        "      del line['email']\n",
        "      csv_writer.writerow(line)\n"
      ],
      "metadata": {
        "id": "2xl5F5hDweqV"
      },
      "execution_count": null,
      "outputs": []
    },
    {
      "cell_type": "code",
      "source": [],
      "metadata": {
        "id": "WWyr1v5gxgck"
      },
      "execution_count": null,
      "outputs": []
    }
  ]
}