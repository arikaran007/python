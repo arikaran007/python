{
  "nbformat": 4,
  "nbformat_minor": 0,
  "metadata": {
    "colab": {
      "provenance": [],
      "authorship_tag": "ABX9TyOvP3Egwkzruab9omWP9/5i",
      "include_colab_link": true
    },
    "kernelspec": {
      "name": "python3",
      "display_name": "Python 3"
    },
    "language_info": {
      "name": "python"
    }
  },
  "cells": [
    {
      "cell_type": "markdown",
      "metadata": {
        "id": "view-in-github",
        "colab_type": "text"
      },
      "source": [
        "<a href=\"https://colab.research.google.com/github/arikaran007/python/blob/main/class_instances.ipynb\" target=\"_parent\"><img src=\"https://colab.research.google.com/assets/colab-badge.svg\" alt=\"Open In Colab\"/></a>"
      ]
    },
    {
      "cell_type": "code",
      "execution_count": null,
      "metadata": {
        "colab": {
          "base_uri": "https://localhost:8080/"
        },
        "id": "RWUF72Vg4d1y",
        "outputId": "6b8aa1c5-56f7-4c8f-fa93-62247e887bb4"
      },
      "outputs": [
        {
          "output_type": "stream",
          "name": "stdout",
          "text": [
            "arikaran@gmail.com\n",
            "ari\n"
          ]
        }
      ],
      "source": [
        "class employee:\n",
        "  def __init__(self,first,last,pay):\n",
        "    self.first = first\n",
        "    self.last = last\n",
        "    self.pay = pay\n",
        "    self.email = first + last + '@gmail.com'\n",
        "\n",
        "emp1 = employee('ari','karan',245002)\n",
        "emp2 = employee('karan','ari',6548756485)\n",
        "\n",
        "print(emp1.email)\n",
        "print(emp1.first)"
      ]
    },
    {
      "cell_type": "code",
      "source": [
        "class employee:\n",
        "  def __init__(self,first,last,pay):\n",
        "    self.first = first\n",
        "    self.last = last\n",
        "    self.pay = pay\n",
        "    self.email = first + last + '@gmail.com'\n",
        "\n",
        "  def fullname(self):\n",
        "    print('{}{}'.format(self.first,self.last))\n",
        "\n",
        "emp1 = employee('ari','karan',245002)\n",
        "emp2 = employee('karan','ari',6548756485)\n",
        "\n",
        "print(employee.fullname(emp1))"
      ],
      "metadata": {
        "colab": {
          "base_uri": "https://localhost:8080/"
        },
        "id": "tKtId8QK9Wwg",
        "outputId": "6b81b663-934e-41c6-bb64-e31190892602"
      },
      "execution_count": null,
      "outputs": [
        {
          "output_type": "stream",
          "name": "stdout",
          "text": [
            "arikaran\n",
            "None\n"
          ]
        }
      ]
    },
    {
      "cell_type": "code",
      "source": [
        "print(emp1.fullname)"
      ],
      "metadata": {
        "colab": {
          "base_uri": "https://localhost:8080/"
        },
        "id": "YNZ3r23yAodx",
        "outputId": "f818f61e-0028-441c-a17a-9628b889e4c1"
      },
      "execution_count": null,
      "outputs": [
        {
          "output_type": "stream",
          "name": "stdout",
          "text": [
            "<bound method employee.fullname of <__main__.employee object at 0x7d9bdfd0ae00>>\n"
          ]
        }
      ]
    },
    {
      "cell_type": "code",
      "source": [
        "print(emp1.fullname())"
      ],
      "metadata": {
        "id": "KEovVDeWAyad",
        "outputId": "db1fb79e-6264-46d2-8579-7a230c7e8ff3",
        "colab": {
          "base_uri": "https://localhost:8080/"
        }
      },
      "execution_count": null,
      "outputs": [
        {
          "output_type": "stream",
          "name": "stdout",
          "text": [
            "arikaran\n",
            "None\n"
          ]
        }
      ]
    },
    {
      "cell_type": "code",
      "source": [],
      "metadata": {
        "id": "300oIq9kA1V_"
      },
      "execution_count": null,
      "outputs": []
    }
  ]
}