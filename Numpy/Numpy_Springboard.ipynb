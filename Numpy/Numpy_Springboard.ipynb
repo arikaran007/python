{
  "nbformat": 4,
  "nbformat_minor": 0,
  "metadata": {
    "colab": {
      "provenance": [],
      "authorship_tag": "ABX9TyNQWMp2fd2kWTbk0jTOd4/r",
      "include_colab_link": true
    },
    "kernelspec": {
      "name": "python3",
      "display_name": "Python 3"
    },
    "language_info": {
      "name": "python"
    }
  },
  "cells": [
    {
      "cell_type": "markdown",
      "metadata": {
        "id": "view-in-github",
        "colab_type": "text"
      },
      "source": [
        "<a href=\"https://colab.research.google.com/github/arikaran007/python/blob/main/Numpy/Numpy_Springboard.ipynb\" target=\"_parent\"><img src=\"https://colab.research.google.com/assets/colab-badge.svg\" alt=\"Open In Colab\"/></a>"
      ]
    },
    {
      "cell_type": "markdown",
      "source": [
        "A python List can be used to store a group of elements together in a sequence. It can contain heterogeneous elements."
      ],
      "metadata": {
        "id": "0HcyI4wYsYqz"
      }
    },
    {
      "cell_type": "code",
      "execution_count": 1,
      "metadata": {
        "id": "Hh0979qUsEAF"
      },
      "outputs": [],
      "source": [
        "item_list=['bread','milk','egg','butter']\n",
        "mark=[43,76,98,45]\n",
        "hetero_list=[1,2,3.0,\"text\",True,3+2j]"
      ]
    },
    {
      "cell_type": "code",
      "source": [
        "for i in range(len(mark)):\n",
        "  mark[i]+=5\n",
        "print(mark)"
      ],
      "metadata": {
        "colab": {
          "base_uri": "https://localhost:8080/"
        },
        "id": "wxbzaDavtI9N",
        "outputId": "c7d8fa7a-9246-4957-c2ef-92b31eb519c3"
      },
      "execution_count": 3,
      "outputs": [
        {
          "output_type": "stream",
          "name": "stdout",
          "text": [
            "[48, 81, 103, 50]\n"
          ]
        }
      ]
    },
    {
      "cell_type": "code",
      "source": [
        "%%time\n",
        "\n",
        "list1 = list(range(1,1000000))\n",
        "list2 = list(range(2,1000001))\n",
        "list3=[]\n",
        "\n",
        "for i in range(len(list1)):\n",
        "  list3.append(list1[i]+list2[i])\n",
        "print(list3)"
      ],
      "metadata": {
        "colab": {
          "base_uri": "https://localhost:8080/"
        },
        "id": "E7Pgg1w9tjZz",
        "outputId": "beb72714-0b27-408e-d577-0fc3808600b8"
      },
      "execution_count": 12,
      "outputs": [
        {
          "output_type": "stream",
          "name": "stderr",
          "text": [
            "IOPub data rate exceeded.\n",
            "The notebook server will temporarily stop sending output\n",
            "to the client in order to avoid crashing it.\n",
            "To change this limit, set the config variable\n",
            "`--NotebookApp.iopub_data_rate_limit`.\n",
            "\n",
            "Current values:\n",
            "NotebookApp.iopub_data_rate_limit=1000000.0 (bytes/sec)\n",
            "NotebookApp.rate_limit_window=3.0 (secs)\n",
            "\n"
          ]
        }
      ]
    },
    {
      "cell_type": "code",
      "source": [
        "%%time\n",
        "import numpy as np\n",
        "\n",
        "list1 = np.arange(1,1000000)\n",
        "list2 = np.arange(2,1000001)\n",
        "\n",
        "list3 = list1+list2"
      ],
      "metadata": {
        "colab": {
          "base_uri": "https://localhost:8080/"
        },
        "id": "_rqPWVY-up5y",
        "outputId": "8778db58-16c0-4012-b857-e68467d97c23"
      },
      "execution_count": 11,
      "outputs": [
        {
          "output_type": "stream",
          "name": "stdout",
          "text": [
            "CPU times: user 7.4 ms, sys: 2.83 ms, total: 10.2 ms\n",
            "Wall time: 18.3 ms\n"
          ]
        }
      ]
    },
    {
      "cell_type": "code",
      "source": [
        "import numpy as np\n",
        "student_marks_arr = np.array([78, 92, 36, 64, 89])\n",
        "student_marks_arr\n"
      ],
      "metadata": {
        "colab": {
          "base_uri": "https://localhost:8080/"
        },
        "id": "ZOm3RyqWvSdC",
        "outputId": "2c7f965b-8d73-41a5-bc49-f870e6a08a7e"
      },
      "execution_count": 13,
      "outputs": [
        {
          "output_type": "execute_result",
          "data": {
            "text/plain": [
              "array([78, 92, 36, 64, 89])"
            ]
          },
          "metadata": {},
          "execution_count": 13
        }
      ]
    },
    {
      "cell_type": "markdown",
      "source": [
        "Multiple array"
      ],
      "metadata": {
        "id": "C2MSNn0KwGI_"
      }
    },
    {
      "cell_type": "code",
      "source": [
        "car_attributes = [[18, 15, 18, 16, 17],[130, 165, 150, 150, 140],[307, 350, 318, 304, 302]]\n",
        "car_attributes_arr = np.array(car_attributes)\n",
        "car_attributes_arr\n"
      ],
      "metadata": {
        "colab": {
          "base_uri": "https://localhost:8080/"
        },
        "id": "IE0WvRk4vy96",
        "outputId": "e921f8b4-c531-4026-b446-151cd70b0e8f"
      },
      "execution_count": 14,
      "outputs": [
        {
          "output_type": "execute_result",
          "data": {
            "text/plain": [
              "array([[ 18,  15,  18,  16,  17],\n",
              "       [130, 165, 150, 150, 140],\n",
              "       [307, 350, 318, 304, 302]])"
            ]
          },
          "metadata": {},
          "execution_count": 14
        }
      ]
    },
    {
      "cell_type": "code",
      "source": [
        "car_attributes_arr.shape"
      ],
      "metadata": {
        "colab": {
          "base_uri": "https://localhost:8080/"
        },
        "id": "wzlRvf9owHzf",
        "outputId": "36bac7c7-8f8c-4e6c-81eb-c1494c317cb0"
      },
      "execution_count": 15,
      "outputs": [
        {
          "output_type": "execute_result",
          "data": {
            "text/plain": [
              "(3, 5)"
            ]
          },
          "metadata": {},
          "execution_count": 15
        }
      ]
    },
    {
      "cell_type": "code",
      "source": [
        "car_attributes_arr.dtype"
      ],
      "metadata": {
        "colab": {
          "base_uri": "https://localhost:8080/"
        },
        "id": "I0RqPbA5wFA5",
        "outputId": "b1b33719-387d-497e-b084-1809b5589cc8"
      },
      "execution_count": 18,
      "outputs": [
        {
          "output_type": "execute_result",
          "data": {
            "text/plain": [
              "dtype('int64')"
            ]
          },
          "metadata": {},
          "execution_count": 18
        }
      ]
    },
    {
      "cell_type": "markdown",
      "source": [
        " Accessing element from 1D array."
      ],
      "metadata": {
        "id": "hlBAzVfJEG-p"
      }
    },
    {
      "cell_type": "code",
      "source": [
        "cars = np.array(['chevrolet chevelle malibu', 'buick skylark 320', 'plymouth satellite', 'amc rebel sst', 'ford torino'])\n",
        "cars[1]"
      ],
      "metadata": {
        "colab": {
          "base_uri": "https://localhost:8080/",
          "height": 35
        },
        "id": "1wHJe1n3Dw5q",
        "outputId": "e149dd0e-d13e-4b66-d16c-e7a1b3e2f944"
      },
      "execution_count": 19,
      "outputs": [
        {
          "output_type": "execute_result",
          "data": {
            "text/plain": [
              "'buick skylark 320'"
            ],
            "application/vnd.google.colaboratory.intrinsic+json": {
              "type": "string"
            }
          },
          "metadata": {},
          "execution_count": 19
        }
      ]
    },
    {
      "cell_type": "markdown",
      "source": [
        " Accessing elements from a 2D array"
      ],
      "metadata": {
        "id": "E7cUo9m4EM6B"
      }
    },
    {
      "cell_type": "code",
      "source": [
        "car_names = ['chevrolet chevelle malibu', 'buick skylark 320', 'plymouth satellite', 'amc rebel sst', 'ford torino']\n",
        "horsepower = [130, 165, 150, 150, 140]\n",
        "\n",
        "car_power = np.array([car_names,horsepower])\n",
        "car_power"
      ],
      "metadata": {
        "id": "UEClAugzEMun",
        "outputId": "8ea96d6a-60db-43d7-f0eb-e461f4fad93f",
        "colab": {
          "base_uri": "https://localhost:8080/"
        }
      },
      "execution_count": 20,
      "outputs": [
        {
          "output_type": "execute_result",
          "data": {
            "text/plain": [
              "array([['chevrolet chevelle malibu', 'buick skylark 320',\n",
              "        'plymouth satellite', 'amc rebel sst', 'ford torino'],\n",
              "       ['130', '165', '150', '150', '140']], dtype='<U25')"
            ]
          },
          "metadata": {},
          "execution_count": 20
        }
      ]
    },
    {
      "cell_type": "code",
      "source": [
        "car_power[1]"
      ],
      "metadata": {
        "id": "gysxvreeEKSo",
        "outputId": "9859e520-99d3-4e80-929f-75a8ba9ad7f5",
        "colab": {
          "base_uri": "https://localhost:8080/"
        }
      },
      "execution_count": 21,
      "outputs": [
        {
          "output_type": "execute_result",
          "data": {
            "text/plain": [
              "array(['130', '165', '150', '150', '140'], dtype='<U25')"
            ]
          },
          "metadata": {},
          "execution_count": 21
        }
      ]
    },
    {
      "cell_type": "code",
      "source": [
        "car_power[0,2]"
      ],
      "metadata": {
        "id": "CqPnaE-PEpNU",
        "outputId": "6cdf695a-d0b4-4f4c-a106-928f205a1b48",
        "colab": {
          "base_uri": "https://localhost:8080/",
          "height": 35
        }
      },
      "execution_count": 22,
      "outputs": [
        {
          "output_type": "execute_result",
          "data": {
            "text/plain": [
              "'plymouth satellite'"
            ],
            "application/vnd.google.colaboratory.intrinsic+json": {
              "type": "string"
            }
          },
          "metadata": {},
          "execution_count": 22
        }
      ]
    },
    {
      "cell_type": "markdown",
      "source": [
        "Slicing from 1D array"
      ],
      "metadata": {
        "id": "qyx8-nTUEvat"
      }
    },
    {
      "cell_type": "code",
      "source": [
        "car_names = ['chevrolet chevelle malibu', 'buick skylark 320', 'plymouth satellite', 'amc rebel sst', 'ford torino']\n",
        "car_names[1:3]"
      ],
      "metadata": {
        "id": "xmWWxYkyErsR",
        "outputId": "d6181d57-542d-47a8-bd41-d15ff46736d0",
        "colab": {
          "base_uri": "https://localhost:8080/"
        }
      },
      "execution_count": 25,
      "outputs": [
        {
          "output_type": "execute_result",
          "data": {
            "text/plain": [
              "['buick skylark 320', 'plymouth satellite']"
            ]
          },
          "metadata": {},
          "execution_count": 25
        }
      ]
    },
    {
      "cell_type": "markdown",
      "source": [
        "Slicing from a 2D array"
      ],
      "metadata": {
        "id": "N6dd6MoNE-U9"
      }
    },
    {
      "cell_type": "code",
      "source": [
        "car_names = ['chevrolet chevelle malibu', 'buick skylark 320', 'plymouth satellite', 'amc rebel sst', 'ford torino']\n",
        "horsepower = [130, 165, 150, 150, 140]\n",
        "acceleration = [18, 15, 18, 16, 17]\n",
        "total = np.array([car_names,horsepower,acceleration])\n",
        "total\n"
      ],
      "metadata": {
        "id": "oIK5qNnXExoS",
        "outputId": "4dffaa72-485f-4aad-945a-928652994445",
        "colab": {
          "base_uri": "https://localhost:8080/"
        }
      },
      "execution_count": 26,
      "outputs": [
        {
          "output_type": "execute_result",
          "data": {
            "text/plain": [
              "array([['chevrolet chevelle malibu', 'buick skylark 320',\n",
              "        'plymouth satellite', 'amc rebel sst', 'ford torino'],\n",
              "       ['130', '165', '150', '150', '140'],\n",
              "       ['18', '15', '18', '16', '17']], dtype='<U25')"
            ]
          },
          "metadata": {},
          "execution_count": 26
        }
      ]
    },
    {
      "cell_type": "code",
      "source": [
        "horsepower = [130, 165, 150, 150, 140]\n",
        "car = np.array(horsepower)\n",
        "np.mean(car)"
      ],
      "metadata": {
        "id": "WYit0ncCFaey",
        "outputId": "59be99d6-8402-4f23-af01-383aa9d649a0",
        "colab": {
          "base_uri": "https://localhost:8080/"
        }
      },
      "execution_count": 27,
      "outputs": [
        {
          "output_type": "execute_result",
          "data": {
            "text/plain": [
              "147.0"
            ]
          },
          "metadata": {},
          "execution_count": 27
        }
      ]
    },
    {
      "cell_type": "code",
      "source": [
        "np.median(car)"
      ],
      "metadata": {
        "id": "sw8bkcObGCOR",
        "outputId": "52d86c1f-c3ce-49d2-df0f-19bf0f379590",
        "colab": {
          "base_uri": "https://localhost:8080/"
        }
      },
      "execution_count": 28,
      "outputs": [
        {
          "output_type": "execute_result",
          "data": {
            "text/plain": [
              "150.0"
            ]
          },
          "metadata": {},
          "execution_count": 28
        }
      ]
    },
    {
      "cell_type": "code",
      "source": [
        " print(np.min(car))\n",
        " print(np.max(car))"
      ],
      "metadata": {
        "id": "ZvT6P71YGF0p",
        "outputId": "56c5f2fd-3cf8-4474-a766-297343003197",
        "colab": {
          "base_uri": "https://localhost:8080/"
        }
      },
      "execution_count": 31,
      "outputs": [
        {
          "output_type": "stream",
          "name": "stdout",
          "text": [
            "130\n",
            "165\n"
          ]
        }
      ]
    },
    {
      "cell_type": "markdown",
      "source": [
        "Index of minimum and maximum values:"
      ],
      "metadata": {
        "id": "E833xRavGP-T"
      }
    },
    {
      "cell_type": "code",
      "source": [
        "np.argmax(car)"
      ],
      "metadata": {
        "id": "QqrujzECGPrQ",
        "outputId": "5cb1c3b9-3833-45b4-e664-d94a38601d8d",
        "colab": {
          "base_uri": "https://localhost:8080/"
        }
      },
      "execution_count": 32,
      "outputs": [
        {
          "output_type": "execute_result",
          "data": {
            "text/plain": [
              "1"
            ]
          },
          "metadata": {},
          "execution_count": 32
        }
      ]
    },
    {
      "cell_type": "code",
      "source": [
        "np.argmin(car)"
      ],
      "metadata": {
        "id": "5MyfZQR_GeAK",
        "outputId": "2b08245d-11ab-45b7-af49-dbaafea9c138",
        "colab": {
          "base_uri": "https://localhost:8080/"
        }
      },
      "execution_count": 33,
      "outputs": [
        {
          "output_type": "execute_result",
          "data": {
            "text/plain": [
              "0"
            ]
          },
          "metadata": {},
          "execution_count": 33
        }
      ]
    },
    {
      "cell_type": "markdown",
      "source": [
        "The engineers at XYZ Custom Cars want to know the horsepower of cars that are greater than or equal to 150."
      ],
      "metadata": {
        "id": "yGkmk14UGlkw"
      }
    },
    {
      "cell_type": "code",
      "source": [
        "x = np.where(car >= 150)\n",
        "print(x)\n",
        "\n",
        "car[x]"
      ],
      "metadata": {
        "id": "Kk2wqGmhGf7o",
        "outputId": "bab56cc1-cafe-434f-b750-570f3e187838",
        "colab": {
          "base_uri": "https://localhost:8080/"
        }
      },
      "execution_count": 35,
      "outputs": [
        {
          "output_type": "stream",
          "name": "stdout",
          "text": [
            "(array([1, 2, 3]),)\n"
          ]
        },
        {
          "output_type": "execute_result",
          "data": {
            "text/plain": [
              "array([165, 150, 150])"
            ]
          },
          "metadata": {},
          "execution_count": 35
        }
      ]
    },
    {
      "cell_type": "markdown",
      "source": [
        "The Engineers at XYZ Custom Cars want to create a separate array consisting of filtered values of horsepower greater than 135."
      ],
      "metadata": {
        "id": "cFc9U6peG2dx"
      }
    },
    {
      "cell_type": "code",
      "source": [
        "filt = car > 135\n",
        "new = car[filt]\n",
        "\n",
        "print(new)"
      ],
      "metadata": {
        "id": "guMWfG2rGtDq",
        "outputId": "88783624-6b5c-4d0e-d211-574ebb4ef194",
        "colab": {
          "base_uri": "https://localhost:8080/"
        }
      },
      "execution_count": 36,
      "outputs": [
        {
          "output_type": "stream",
          "name": "stdout",
          "text": [
            "[165 150 150 140]\n"
          ]
        }
      ]
    },
    {
      "cell_type": "markdown",
      "source": [
        "The engineers at XYZ Custom Cars want the horsepower in sorted order."
      ],
      "metadata": {
        "id": "5zh1aMqMHSG9"
      }
    },
    {
      "cell_type": "code",
      "source": [
        "sort_new=np.sort(car)\n",
        "print(sort_new)"
      ],
      "metadata": {
        "id": "9NacoNCnHNMN",
        "outputId": "caded2fc-5718-47a2-a369-51a58f957602",
        "colab": {
          "base_uri": "https://localhost:8080/"
        }
      },
      "execution_count": 39,
      "outputs": [
        {
          "output_type": "stream",
          "name": "stdout",
          "text": [
            "[130 140 150 150 165]\n"
          ]
        }
      ]
    },
    {
      "cell_type": "markdown",
      "source": [
        "Numpy provides various mathematical functions such as sum(), add(), sub(), log(), sin() etc. which uses vectorization."
      ],
      "metadata": {
        "id": "M_biQgAUH5OU"
      }
    },
    {
      "cell_type": "code",
      "source": [
        "student_marks_arr = np.array([78, 92, 36, 64, 89])\n",
        "print(np.sum(student_marks_arr))"
      ],
      "metadata": {
        "id": "o8wLEQjSHXDq",
        "outputId": "27976ec2-0f0d-481f-d36d-931b9328a06b",
        "colab": {
          "base_uri": "https://localhost:8080/"
        }
      },
      "execution_count": 40,
      "outputs": [
        {
          "output_type": "stream",
          "name": "stdout",
          "text": [
            "359\n"
          ]
        }
      ]
    },
    {
      "cell_type": "code",
      "source": [
        "\n",
        "np.arange(0,10000)\n",
        "np.arange(0,10,2)"
      ],
      "metadata": {
        "id": "UoujfOt3H81K",
        "outputId": "fa8f5bb7-9992-411e-a0f9-e8cc06bd5dff",
        "colab": {
          "base_uri": "https://localhost:8080/"
        }
      },
      "execution_count": 42,
      "outputs": [
        {
          "output_type": "execute_result",
          "data": {
            "text/plain": [
              "array([0, 2, 4, 6, 8])"
            ]
          },
          "metadata": {},
          "execution_count": 42
        }
      ]
    },
    {
      "cell_type": "markdown",
      "source": [
        "Linspace:"
      ],
      "metadata": {
        "id": "8iRMQTGHJufl"
      }
    },
    {
      "cell_type": "markdown",
      "source": [
        "This method returns the given number of evenly spaced values, between the given intervals. By default, the number of values between a given interval is 50."
      ],
      "metadata": {
        "id": "kvMWCdzDJyRY"
      }
    },
    {
      "cell_type": "code",
      "source": [
        "arr = np.linspace(1,10)\n",
        "print(arr)"
      ],
      "metadata": {
        "id": "hZkYwkEwJnRd",
        "outputId": "52d5a98c-9642-4807-8079-75f8f7160d7d",
        "colab": {
          "base_uri": "https://localhost:8080/"
        }
      },
      "execution_count": 43,
      "outputs": [
        {
          "output_type": "stream",
          "name": "stdout",
          "text": [
            "[ 1.          1.18367347  1.36734694  1.55102041  1.73469388  1.91836735\n",
            "  2.10204082  2.28571429  2.46938776  2.65306122  2.83673469  3.02040816\n",
            "  3.20408163  3.3877551   3.57142857  3.75510204  3.93877551  4.12244898\n",
            "  4.30612245  4.48979592  4.67346939  4.85714286  5.04081633  5.2244898\n",
            "  5.40816327  5.59183673  5.7755102   5.95918367  6.14285714  6.32653061\n",
            "  6.51020408  6.69387755  6.87755102  7.06122449  7.24489796  7.42857143\n",
            "  7.6122449   7.79591837  7.97959184  8.16326531  8.34693878  8.53061224\n",
            "  8.71428571  8.89795918  9.08163265  9.26530612  9.44897959  9.63265306\n",
            "  9.81632653 10.        ]\n"
          ]
        }
      ]
    },
    {
      "cell_type": "code",
      "source": [
        "np.zeros(5)\n"
      ],
      "metadata": {
        "id": "-KJgsu6UJ45a",
        "outputId": "fb2ef2ac-75d0-4557-a54a-9c3773cd9de6",
        "colab": {
          "base_uri": "https://localhost:8080/"
        }
      },
      "execution_count": 45,
      "outputs": [
        {
          "output_type": "execute_result",
          "data": {
            "text/plain": [
              "array([0., 0., 0., 0., 0.])"
            ]
          },
          "metadata": {},
          "execution_count": 45
        }
      ]
    },
    {
      "cell_type": "code",
      "source": [
        "np.zeros([3,5])"
      ],
      "metadata": {
        "id": "jXhzniEKKDOq",
        "outputId": "2d777b73-fa03-4a64-90cb-4180ae7b8eaa",
        "colab": {
          "base_uri": "https://localhost:8080/"
        }
      },
      "execution_count": 46,
      "outputs": [
        {
          "output_type": "execute_result",
          "data": {
            "text/plain": [
              "array([[0., 0., 0., 0., 0.],\n",
              "       [0., 0., 0., 0., 0.],\n",
              "       [0., 0., 0., 0., 0.]])"
            ]
          },
          "metadata": {},
          "execution_count": 46
        }
      ]
    },
    {
      "cell_type": "code",
      "source": [
        "np.ones(2)"
      ],
      "metadata": {
        "id": "aUYU-rGIKKQq",
        "outputId": "4e6dc2fc-6e8e-468c-840b-60db57c17234",
        "colab": {
          "base_uri": "https://localhost:8080/"
        }
      },
      "execution_count": 47,
      "outputs": [
        {
          "output_type": "execute_result",
          "data": {
            "text/plain": [
              "array([1., 1.])"
            ]
          },
          "metadata": {},
          "execution_count": 47
        }
      ]
    },
    {
      "cell_type": "code",
      "source": [
        "np.full(5,7)"
      ],
      "metadata": {
        "id": "zp8zdNX5KOKf",
        "outputId": "e97df28d-0805-43ad-d660-18a1ce22dacf",
        "colab": {
          "base_uri": "https://localhost:8080/"
        }
      },
      "execution_count": 48,
      "outputs": [
        {
          "output_type": "execute_result",
          "data": {
            "text/plain": [
              "array([7, 7, 7, 7, 7])"
            ]
          },
          "metadata": {},
          "execution_count": 48
        }
      ]
    },
    {
      "cell_type": "code",
      "source": [
        "np.full([3,3],\"ari\")"
      ],
      "metadata": {
        "id": "ir0u6mLUKTGC",
        "outputId": "bfef4884-5625-4123-9d0b-7da342cdf7ea",
        "colab": {
          "base_uri": "https://localhost:8080/"
        }
      },
      "execution_count": 50,
      "outputs": [
        {
          "output_type": "execute_result",
          "data": {
            "text/plain": [
              "array([['ari', 'ari', 'ari'],\n",
              "       ['ari', 'ari', 'ari'],\n",
              "       ['ari', 'ari', 'ari']], dtype='<U3')"
            ]
          },
          "metadata": {},
          "execution_count": 50
        }
      ]
    },
    {
      "cell_type": "code",
      "source": [
        "np.eye(3)"
      ],
      "metadata": {
        "id": "bxLMP3-YKXlK",
        "outputId": "c11dde70-b872-4bb0-acfb-1a7849b1a411",
        "colab": {
          "base_uri": "https://localhost:8080/"
        }
      },
      "execution_count": 52,
      "outputs": [
        {
          "output_type": "execute_result",
          "data": {
            "text/plain": [
              "array([[1., 0., 0.],\n",
              "       [0., 1., 0.],\n",
              "       [0., 0., 1.]])"
            ]
          },
          "metadata": {},
          "execution_count": 52
        }
      ]
    },
    {
      "cell_type": "code",
      "source": [
        "np.random.rand(22)"
      ],
      "metadata": {
        "id": "_EmNan8eKb-C",
        "outputId": "35c48a08-6deb-4635-fabe-1cd03428e609",
        "colab": {
          "base_uri": "https://localhost:8080/"
        }
      },
      "execution_count": 53,
      "outputs": [
        {
          "output_type": "execute_result",
          "data": {
            "text/plain": [
              "array([0.88904951, 0.69608665, 0.2440969 , 0.89592435, 0.21316952,\n",
              "       0.40499018, 0.08064272, 0.52381682, 0.19909348, 0.45069307,\n",
              "       0.39987458, 0.11304795, 0.87997064, 0.20361444, 0.03316118,\n",
              "       0.90924652, 0.66387723, 0.93321002, 0.83647477, 0.66368773,\n",
              "       0.00138794, 0.38431089])"
            ]
          },
          "metadata": {},
          "execution_count": 53
        }
      ]
    },
    {
      "cell_type": "code",
      "source": [
        "np.random.randint(1,10, size=3)"
      ],
      "metadata": {
        "id": "xHDzFDFQKiV6",
        "outputId": "a06b58b1-44b9-4af2-c6cb-d1e6cf33ee13",
        "colab": {
          "base_uri": "https://localhost:8080/"
        }
      },
      "execution_count": 54,
      "outputs": [
        {
          "output_type": "execute_result",
          "data": {
            "text/plain": [
              "array([1, 9, 7])"
            ]
          },
          "metadata": {},
          "execution_count": 54
        }
      ]
    },
    {
      "cell_type": "code",
      "source": [
        "x = np.random.choice([9, 3, 7, 5])\n",
        "print(x)\n"
      ],
      "metadata": {
        "id": "HoepRYoyKqF_",
        "outputId": "31007a8d-ce81-4a2a-d51a-5465805cf350",
        "colab": {
          "base_uri": "https://localhost:8080/"
        }
      },
      "execution_count": 56,
      "outputs": [
        {
          "output_type": "stream",
          "name": "stdout",
          "text": [
            "5\n"
          ]
        }
      ]
    },
    {
      "cell_type": "code",
      "source": [],
      "metadata": {
        "id": "obwRrHPKKwMA"
      },
      "execution_count": null,
      "outputs": []
    }
  ]
}