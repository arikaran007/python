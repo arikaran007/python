{
  "nbformat": 4,
  "nbformat_minor": 0,
  "metadata": {
    "colab": {
      "provenance": [],
      "authorship_tag": "ABX9TyMUFMlXspNlN5FQQqIPn6ZQ",
      "include_colab_link": true
    },
    "kernelspec": {
      "name": "python3",
      "display_name": "Python 3"
    },
    "language_info": {
      "name": "python"
    }
  },
  "cells": [
    {
      "cell_type": "markdown",
      "metadata": {
        "id": "view-in-github",
        "colab_type": "text"
      },
      "source": [
        "<a href=\"https://colab.research.google.com/github/arikaran007/python/blob/main/conditions_and_boolean.ipynb\" target=\"_parent\"><img src=\"https://colab.research.google.com/assets/colab-badge.svg\" alt=\"Open In Colab\"/></a>"
      ]
    },
    {
      "cell_type": "markdown",
      "source": [
        "# Comparisons:\n",
        " Equal:            == ,\n",
        " Not Equal:        != ,\n",
        " Greater Than:     > ,\n",
        " Less Than:        < ,\n",
        " Greater or Equal: >= ,\n",
        " Less or Equal:    <= ,\n",
        " Object Identity:  is ."
      ],
      "metadata": {
        "id": "ilvseCUbOPdv"
      }
    },
    {
      "cell_type": "code",
      "execution_count": 3,
      "metadata": {
        "colab": {
          "base_uri": "https://localhost:8080/"
        },
        "id": "Q1IM1w2oNBed",
        "outputId": "655876d7-3b6f-439d-d678-5e42051058e5"
      },
      "outputs": [
        {
          "output_type": "stream",
          "name": "stdout",
          "text": [
            "nothing\n"
          ]
        }
      ],
      "source": [
        "language = 'pytho'\n",
        "\n",
        "if language == 'python':\n",
        "  print('python language')\n",
        "elif language == 'java':\n",
        "  print('java language')\n",
        "else:\n",
        "  print('nothing')"
      ]
    },
    {
      "cell_type": "code",
      "source": [
        "a =[1,2,3]\n",
        "b=[1,2,3]\n",
        "\n",
        "print(a==b)\n",
        "print(a is b)\n",
        "print(id(a))\n",
        "print(id(b))"
      ],
      "metadata": {
        "colab": {
          "base_uri": "https://localhost:8080/"
        },
        "id": "2Mz2oos5Q2mC",
        "outputId": "0fd3c3c7-3f61-4928-a22f-01c5fdc8b737"
      },
      "execution_count": 11,
      "outputs": [
        {
          "output_type": "stream",
          "name": "stdout",
          "text": [
            "True\n",
            "False\n",
            "138140041019200\n",
            "138140042757248\n"
          ]
        }
      ]
    },
    {
      "cell_type": "code",
      "source": [
        "a =[1,2,3]\n",
        "a = b\n",
        "\n",
        "print(id(a))\n",
        "print(id(b))\n",
        "print(a is b)"
      ],
      "metadata": {
        "colab": {
          "base_uri": "https://localhost:8080/"
        },
        "id": "rIwqsDG0RAjA",
        "outputId": "5ec3b883-7265-4d74-8ef3-90d88bc7a045"
      },
      "execution_count": 9,
      "outputs": [
        {
          "output_type": "stream",
          "name": "stdout",
          "text": [
            "138140885452992\n",
            "138140885452992\n",
            "True\n"
          ]
        }
      ]
    },
    {
      "cell_type": "markdown",
      "source": [
        "and,or,not"
      ],
      "metadata": {
        "id": "R8svu-jjO4yU"
      }
    },
    {
      "cell_type": "code",
      "source": [
        "user =\"admin\"\n",
        "logged  = False\n",
        "\n",
        "if user==\"admin\" and logged:\n",
        "  print(\"log sucess\")\n",
        "else:\n",
        "  print(\"unsucess\")"
      ],
      "metadata": {
        "colab": {
          "base_uri": "https://localhost:8080/"
        },
        "id": "P-dKPOg6O2IQ",
        "outputId": "9a22c27a-07be-460c-f977-35bbbf08bcfc"
      },
      "execution_count": 4,
      "outputs": [
        {
          "output_type": "stream",
          "name": "stdout",
          "text": [
            "unsucess\n"
          ]
        }
      ]
    },
    {
      "cell_type": "code",
      "source": [
        "user =\"admin\"\n",
        "logged  = False\n",
        "\n",
        "if user==\"admin\" or logged:\n",
        "  print(\"log sucess\")\n",
        "else:\n",
        "  print(\"unsucess\")"
      ],
      "metadata": {
        "colab": {
          "base_uri": "https://localhost:8080/"
        },
        "id": "KCMV_VH8QKju",
        "outputId": "f3834692-6de3-49b7-c212-e04363476b7f"
      },
      "execution_count": 5,
      "outputs": [
        {
          "output_type": "stream",
          "name": "stdout",
          "text": [
            "log sucess\n"
          ]
        }
      ]
    },
    {
      "cell_type": "code",
      "source": [
        "if not logged:\n",
        "  print(\"log page\")\n",
        "else:\n",
        "  print(\"welcome\")"
      ],
      "metadata": {
        "colab": {
          "base_uri": "https://localhost:8080/"
        },
        "id": "7endOX71QNdd",
        "outputId": "c17831af-de87-4f07-9f56-08fbbe4d0600"
      },
      "execution_count": 6,
      "outputs": [
        {
          "output_type": "stream",
          "name": "stdout",
          "text": [
            "log page\n"
          ]
        }
      ]
    },
    {
      "cell_type": "markdown",
      "source": [
        "# False Values:\n",
        "    # False\n",
        "    # None\n",
        "    # Zero of any numeric type\n",
        "    # Any empty sequence. For example, '', (), [].\n",
        "    # Any empty mapping. For example, {}."
      ],
      "metadata": {
        "id": "DqYSmHv6RVv1"
      }
    },
    {
      "cell_type": "code",
      "source": [
        "condition = False\n",
        "\n",
        "if condition:\n",
        "    print('Evaluated to True')\n",
        "else:\n",
        "    print('Evaluated to False')"
      ],
      "metadata": {
        "colab": {
          "base_uri": "https://localhost:8080/"
        },
        "id": "Vunp6tIIQZ7i",
        "outputId": "d4dbb3fa-e817-4482-9661-8997a3346b0f"
      },
      "execution_count": 12,
      "outputs": [
        {
          "output_type": "stream",
          "name": "stdout",
          "text": [
            "Evaluated to False\n"
          ]
        }
      ]
    },
    {
      "cell_type": "code",
      "source": [
        "condition = 10\n",
        "\n",
        "if condition:\n",
        "    print('Evaluated to True')\n",
        "else:\n",
        "    print('Evaluated to False')\n"
      ],
      "metadata": {
        "colab": {
          "base_uri": "https://localhost:8080/"
        },
        "id": "SN1y3x1oSS2q",
        "outputId": "ada4b6db-47ec-48f7-86cc-d17655501b8d"
      },
      "execution_count": 13,
      "outputs": [
        {
          "output_type": "stream",
          "name": "stdout",
          "text": [
            "Evaluated to True\n"
          ]
        }
      ]
    },
    {
      "cell_type": "code",
      "source": [
        "condition = ''\n",
        "\n",
        "if condition:\n",
        "    print('Evaluated to True')\n",
        "else:\n",
        "    print('Evaluated to False')\n"
      ],
      "metadata": {
        "colab": {
          "base_uri": "https://localhost:8080/"
        },
        "id": "jc7jBB1fSWYm",
        "outputId": "7f897868-ffaa-435d-e38f-b83e467d80a8"
      },
      "execution_count": 14,
      "outputs": [
        {
          "output_type": "stream",
          "name": "stdout",
          "text": [
            "Evaluated to False\n"
          ]
        }
      ]
    },
    {
      "cell_type": "code",
      "source": [],
      "metadata": {
        "id": "F3yaBPCjSY1y"
      },
      "execution_count": null,
      "outputs": []
    }
  ]
}