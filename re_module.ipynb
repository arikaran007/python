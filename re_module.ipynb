{
  "nbformat": 4,
  "nbformat_minor": 0,
  "metadata": {
    "colab": {
      "provenance": [],
      "authorship_tag": "ABX9TyOJMdQ/uuOIFwu5tzolXSEN",
      "include_colab_link": true
    },
    "kernelspec": {
      "name": "python3",
      "display_name": "Python 3"
    },
    "language_info": {
      "name": "python"
    }
  },
  "cells": [
    {
      "cell_type": "markdown",
      "metadata": {
        "id": "view-in-github",
        "colab_type": "text"
      },
      "source": [
        "<a href=\"https://colab.research.google.com/github/arikaran007/python/blob/main/re_module.ipynb\" target=\"_parent\"><img src=\"https://colab.research.google.com/assets/colab-badge.svg\" alt=\"Open In Colab\"/></a>"
      ]
    },
    {
      "cell_type": "code",
      "execution_count": null,
      "metadata": {
        "id": "ynWpOo8uIORH"
      },
      "outputs": [],
      "source": [
        "import re"
      ]
    },
    {
      "cell_type": "code",
      "source": [
        "text_to_search = '''\n",
        "abcdefghijklmnopqurtuvwxyz\n",
        "ABCDEFGHIJKLMNOPQRSTUVWXYZ\n",
        "1234567890\n",
        "\n",
        "Ha HaHa\n",
        "\n",
        "MetaCharacters (Need to be escaped):\n",
        ". ^ $ * + ? { } [ ] \\ | ( )\n",
        "\n",
        "ari.com\n",
        "\n",
        "321-555-4321\n",
        "123.555.1234\n",
        "123*555*1234\n",
        "800-555-1234\n",
        "900-555-1234\n",
        "\n",
        "Mr. Schafer\n",
        "Mr Smith\n",
        "Ms Davis\n",
        "Mrs. Robinson\n",
        "Mr. T\n",
        "'''\n"
      ],
      "metadata": {
        "id": "MMuC-URZI8ph"
      },
      "execution_count": null,
      "outputs": []
    },
    {
      "cell_type": "code",
      "source": [
        "sentence = 'Start a sentence and then bring it to an end'\n",
        "\n",
        "pattern =re.compile(r'abc')\n",
        "\n",
        "matches = pattern.finditer(text_to_search)\n",
        "\n",
        "for match in matches:\n",
        "  print(match)"
      ],
      "metadata": {
        "colab": {
          "base_uri": "https://localhost:8080/"
        },
        "id": "vhwQrx2ILefz",
        "outputId": "b59f6cc2-2364-4e03-963d-46fa195d88b9"
      },
      "execution_count": null,
      "outputs": [
        {
          "output_type": "stream",
          "name": "stdout",
          "text": [
            "<re.Match object; span=(1, 4), match='abc'>\n"
          ]
        }
      ]
    },
    {
      "cell_type": "code",
      "source": [
        "sentence = 'Start a sentence and then bring it to an end'\n",
        "\n",
        "pattern =re.compile(r'\\d')\n",
        "\n",
        "matches = pattern.finditer(text_to_search)\n",
        "\n",
        "for match in matches:\n",
        "  print(match)"
      ],
      "metadata": {
        "colab": {
          "base_uri": "https://localhost:8080/"
        },
        "id": "P7QrsvwCLnoW",
        "outputId": "63533f80-0dc1-41da-e631-29ca92be7386"
      },
      "execution_count": null,
      "outputs": [
        {
          "output_type": "stream",
          "name": "stdout",
          "text": [
            "<re.Match object; span=(55, 56), match='1'>\n",
            "<re.Match object; span=(56, 57), match='2'>\n",
            "<re.Match object; span=(57, 58), match='3'>\n",
            "<re.Match object; span=(58, 59), match='4'>\n",
            "<re.Match object; span=(59, 60), match='5'>\n",
            "<re.Match object; span=(60, 61), match='6'>\n",
            "<re.Match object; span=(61, 62), match='7'>\n",
            "<re.Match object; span=(62, 63), match='8'>\n",
            "<re.Match object; span=(63, 64), match='9'>\n",
            "<re.Match object; span=(64, 65), match='0'>\n",
            "<re.Match object; span=(151, 152), match='3'>\n",
            "<re.Match object; span=(152, 153), match='2'>\n",
            "<re.Match object; span=(153, 154), match='1'>\n",
            "<re.Match object; span=(155, 156), match='5'>\n",
            "<re.Match object; span=(156, 157), match='5'>\n",
            "<re.Match object; span=(157, 158), match='5'>\n",
            "<re.Match object; span=(159, 160), match='4'>\n",
            "<re.Match object; span=(160, 161), match='3'>\n",
            "<re.Match object; span=(161, 162), match='2'>\n",
            "<re.Match object; span=(162, 163), match='1'>\n",
            "<re.Match object; span=(164, 165), match='1'>\n",
            "<re.Match object; span=(165, 166), match='2'>\n",
            "<re.Match object; span=(166, 167), match='3'>\n",
            "<re.Match object; span=(168, 169), match='5'>\n",
            "<re.Match object; span=(169, 170), match='5'>\n",
            "<re.Match object; span=(170, 171), match='5'>\n",
            "<re.Match object; span=(172, 173), match='1'>\n",
            "<re.Match object; span=(173, 174), match='2'>\n",
            "<re.Match object; span=(174, 175), match='3'>\n",
            "<re.Match object; span=(175, 176), match='4'>\n",
            "<re.Match object; span=(177, 178), match='1'>\n",
            "<re.Match object; span=(178, 179), match='2'>\n",
            "<re.Match object; span=(179, 180), match='3'>\n",
            "<re.Match object; span=(181, 182), match='5'>\n",
            "<re.Match object; span=(182, 183), match='5'>\n",
            "<re.Match object; span=(183, 184), match='5'>\n",
            "<re.Match object; span=(185, 186), match='1'>\n",
            "<re.Match object; span=(186, 187), match='2'>\n",
            "<re.Match object; span=(187, 188), match='3'>\n",
            "<re.Match object; span=(188, 189), match='4'>\n",
            "<re.Match object; span=(190, 191), match='8'>\n",
            "<re.Match object; span=(191, 192), match='0'>\n",
            "<re.Match object; span=(192, 193), match='0'>\n",
            "<re.Match object; span=(194, 195), match='5'>\n",
            "<re.Match object; span=(195, 196), match='5'>\n",
            "<re.Match object; span=(196, 197), match='5'>\n",
            "<re.Match object; span=(198, 199), match='1'>\n",
            "<re.Match object; span=(199, 200), match='2'>\n",
            "<re.Match object; span=(200, 201), match='3'>\n",
            "<re.Match object; span=(201, 202), match='4'>\n",
            "<re.Match object; span=(203, 204), match='9'>\n",
            "<re.Match object; span=(204, 205), match='0'>\n",
            "<re.Match object; span=(205, 206), match='0'>\n",
            "<re.Match object; span=(207, 208), match='5'>\n",
            "<re.Match object; span=(208, 209), match='5'>\n",
            "<re.Match object; span=(209, 210), match='5'>\n",
            "<re.Match object; span=(211, 212), match='1'>\n",
            "<re.Match object; span=(212, 213), match='2'>\n",
            "<re.Match object; span=(213, 214), match='3'>\n",
            "<re.Match object; span=(214, 215), match='4'>\n"
          ]
        }
      ]
    },
    {
      "cell_type": "code",
      "source": [
        "sentence = 'Start a sentence and then bring it to an end'\n",
        "\n",
        "pattern =re.compile(r'.')\n",
        "\n",
        "matches = pattern.finditer(text_to_search)\n",
        "\n",
        "for match in matches:\n",
        "  print(match)"
      ],
      "metadata": {
        "colab": {
          "base_uri": "https://localhost:8080/"
        },
        "id": "tLWTaQedMK5w",
        "outputId": "f750fb52-53dc-481a-9ca1-c46e2521e25f"
      },
      "execution_count": null,
      "outputs": [
        {
          "output_type": "stream",
          "name": "stdout",
          "text": [
            "<re.Match object; span=(1, 2), match='a'>\n",
            "<re.Match object; span=(2, 3), match='b'>\n",
            "<re.Match object; span=(3, 4), match='c'>\n",
            "<re.Match object; span=(4, 5), match='d'>\n",
            "<re.Match object; span=(5, 6), match='e'>\n",
            "<re.Match object; span=(6, 7), match='f'>\n",
            "<re.Match object; span=(7, 8), match='g'>\n",
            "<re.Match object; span=(8, 9), match='h'>\n",
            "<re.Match object; span=(9, 10), match='i'>\n",
            "<re.Match object; span=(10, 11), match='j'>\n",
            "<re.Match object; span=(11, 12), match='k'>\n",
            "<re.Match object; span=(12, 13), match='l'>\n",
            "<re.Match object; span=(13, 14), match='m'>\n",
            "<re.Match object; span=(14, 15), match='n'>\n",
            "<re.Match object; span=(15, 16), match='o'>\n",
            "<re.Match object; span=(16, 17), match='p'>\n",
            "<re.Match object; span=(17, 18), match='q'>\n",
            "<re.Match object; span=(18, 19), match='u'>\n",
            "<re.Match object; span=(19, 20), match='r'>\n",
            "<re.Match object; span=(20, 21), match='t'>\n",
            "<re.Match object; span=(21, 22), match='u'>\n",
            "<re.Match object; span=(22, 23), match='v'>\n",
            "<re.Match object; span=(23, 24), match='w'>\n",
            "<re.Match object; span=(24, 25), match='x'>\n",
            "<re.Match object; span=(25, 26), match='y'>\n",
            "<re.Match object; span=(26, 27), match='z'>\n",
            "<re.Match object; span=(28, 29), match='A'>\n",
            "<re.Match object; span=(29, 30), match='B'>\n",
            "<re.Match object; span=(30, 31), match='C'>\n",
            "<re.Match object; span=(31, 32), match='D'>\n",
            "<re.Match object; span=(32, 33), match='E'>\n",
            "<re.Match object; span=(33, 34), match='F'>\n",
            "<re.Match object; span=(34, 35), match='G'>\n",
            "<re.Match object; span=(35, 36), match='H'>\n",
            "<re.Match object; span=(36, 37), match='I'>\n",
            "<re.Match object; span=(37, 38), match='J'>\n",
            "<re.Match object; span=(38, 39), match='K'>\n",
            "<re.Match object; span=(39, 40), match='L'>\n",
            "<re.Match object; span=(40, 41), match='M'>\n",
            "<re.Match object; span=(41, 42), match='N'>\n",
            "<re.Match object; span=(42, 43), match='O'>\n",
            "<re.Match object; span=(43, 44), match='P'>\n",
            "<re.Match object; span=(44, 45), match='Q'>\n",
            "<re.Match object; span=(45, 46), match='R'>\n",
            "<re.Match object; span=(46, 47), match='S'>\n",
            "<re.Match object; span=(47, 48), match='T'>\n",
            "<re.Match object; span=(48, 49), match='U'>\n",
            "<re.Match object; span=(49, 50), match='V'>\n",
            "<re.Match object; span=(50, 51), match='W'>\n",
            "<re.Match object; span=(51, 52), match='X'>\n",
            "<re.Match object; span=(52, 53), match='Y'>\n",
            "<re.Match object; span=(53, 54), match='Z'>\n",
            "<re.Match object; span=(55, 56), match='1'>\n",
            "<re.Match object; span=(56, 57), match='2'>\n",
            "<re.Match object; span=(57, 58), match='3'>\n",
            "<re.Match object; span=(58, 59), match='4'>\n",
            "<re.Match object; span=(59, 60), match='5'>\n",
            "<re.Match object; span=(60, 61), match='6'>\n",
            "<re.Match object; span=(61, 62), match='7'>\n",
            "<re.Match object; span=(62, 63), match='8'>\n",
            "<re.Match object; span=(63, 64), match='9'>\n",
            "<re.Match object; span=(64, 65), match='0'>\n",
            "<re.Match object; span=(67, 68), match='H'>\n",
            "<re.Match object; span=(68, 69), match='a'>\n",
            "<re.Match object; span=(69, 70), match=' '>\n",
            "<re.Match object; span=(70, 71), match='H'>\n",
            "<re.Match object; span=(71, 72), match='a'>\n",
            "<re.Match object; span=(72, 73), match='H'>\n",
            "<re.Match object; span=(73, 74), match='a'>\n",
            "<re.Match object; span=(76, 77), match='M'>\n",
            "<re.Match object; span=(77, 78), match='e'>\n",
            "<re.Match object; span=(78, 79), match='t'>\n",
            "<re.Match object; span=(79, 80), match='a'>\n",
            "<re.Match object; span=(80, 81), match='C'>\n",
            "<re.Match object; span=(81, 82), match='h'>\n",
            "<re.Match object; span=(82, 83), match='a'>\n",
            "<re.Match object; span=(83, 84), match='r'>\n",
            "<re.Match object; span=(84, 85), match='a'>\n",
            "<re.Match object; span=(85, 86), match='c'>\n",
            "<re.Match object; span=(86, 87), match='t'>\n",
            "<re.Match object; span=(87, 88), match='e'>\n",
            "<re.Match object; span=(88, 89), match='r'>\n",
            "<re.Match object; span=(89, 90), match='s'>\n",
            "<re.Match object; span=(90, 91), match=' '>\n",
            "<re.Match object; span=(91, 92), match='('>\n",
            "<re.Match object; span=(92, 93), match='N'>\n",
            "<re.Match object; span=(93, 94), match='e'>\n",
            "<re.Match object; span=(94, 95), match='e'>\n",
            "<re.Match object; span=(95, 96), match='d'>\n",
            "<re.Match object; span=(96, 97), match=' '>\n",
            "<re.Match object; span=(97, 98), match='t'>\n",
            "<re.Match object; span=(98, 99), match='o'>\n",
            "<re.Match object; span=(99, 100), match=' '>\n",
            "<re.Match object; span=(100, 101), match='b'>\n",
            "<re.Match object; span=(101, 102), match='e'>\n",
            "<re.Match object; span=(102, 103), match=' '>\n",
            "<re.Match object; span=(103, 104), match='e'>\n",
            "<re.Match object; span=(104, 105), match='s'>\n",
            "<re.Match object; span=(105, 106), match='c'>\n",
            "<re.Match object; span=(106, 107), match='a'>\n",
            "<re.Match object; span=(107, 108), match='p'>\n",
            "<re.Match object; span=(108, 109), match='e'>\n",
            "<re.Match object; span=(109, 110), match='d'>\n",
            "<re.Match object; span=(110, 111), match=')'>\n",
            "<re.Match object; span=(111, 112), match=':'>\n",
            "<re.Match object; span=(113, 114), match='.'>\n",
            "<re.Match object; span=(114, 115), match=' '>\n",
            "<re.Match object; span=(115, 116), match='^'>\n",
            "<re.Match object; span=(116, 117), match=' '>\n",
            "<re.Match object; span=(117, 118), match='$'>\n",
            "<re.Match object; span=(118, 119), match=' '>\n",
            "<re.Match object; span=(119, 120), match='*'>\n",
            "<re.Match object; span=(120, 121), match=' '>\n",
            "<re.Match object; span=(121, 122), match='+'>\n",
            "<re.Match object; span=(122, 123), match=' '>\n",
            "<re.Match object; span=(123, 124), match='?'>\n",
            "<re.Match object; span=(124, 125), match=' '>\n",
            "<re.Match object; span=(125, 126), match='{'>\n",
            "<re.Match object; span=(126, 127), match=' '>\n",
            "<re.Match object; span=(127, 128), match='}'>\n",
            "<re.Match object; span=(128, 129), match=' '>\n",
            "<re.Match object; span=(129, 130), match='['>\n",
            "<re.Match object; span=(130, 131), match=' '>\n",
            "<re.Match object; span=(131, 132), match=']'>\n",
            "<re.Match object; span=(132, 133), match=' '>\n",
            "<re.Match object; span=(133, 134), match='\\\\'>\n",
            "<re.Match object; span=(134, 135), match=' '>\n",
            "<re.Match object; span=(135, 136), match='|'>\n",
            "<re.Match object; span=(136, 137), match=' '>\n",
            "<re.Match object; span=(137, 138), match='('>\n",
            "<re.Match object; span=(138, 139), match=' '>\n",
            "<re.Match object; span=(139, 140), match=')'>\n",
            "<re.Match object; span=(142, 143), match='a'>\n",
            "<re.Match object; span=(143, 144), match='r'>\n",
            "<re.Match object; span=(144, 145), match='i'>\n",
            "<re.Match object; span=(145, 146), match='.'>\n",
            "<re.Match object; span=(146, 147), match='c'>\n",
            "<re.Match object; span=(147, 148), match='o'>\n",
            "<re.Match object; span=(148, 149), match='m'>\n",
            "<re.Match object; span=(151, 152), match='3'>\n",
            "<re.Match object; span=(152, 153), match='2'>\n",
            "<re.Match object; span=(153, 154), match='1'>\n",
            "<re.Match object; span=(154, 155), match='-'>\n",
            "<re.Match object; span=(155, 156), match='5'>\n",
            "<re.Match object; span=(156, 157), match='5'>\n",
            "<re.Match object; span=(157, 158), match='5'>\n",
            "<re.Match object; span=(158, 159), match='-'>\n",
            "<re.Match object; span=(159, 160), match='4'>\n",
            "<re.Match object; span=(160, 161), match='3'>\n",
            "<re.Match object; span=(161, 162), match='2'>\n",
            "<re.Match object; span=(162, 163), match='1'>\n",
            "<re.Match object; span=(164, 165), match='1'>\n",
            "<re.Match object; span=(165, 166), match='2'>\n",
            "<re.Match object; span=(166, 167), match='3'>\n",
            "<re.Match object; span=(167, 168), match='.'>\n",
            "<re.Match object; span=(168, 169), match='5'>\n",
            "<re.Match object; span=(169, 170), match='5'>\n",
            "<re.Match object; span=(170, 171), match='5'>\n",
            "<re.Match object; span=(171, 172), match='.'>\n",
            "<re.Match object; span=(172, 173), match='1'>\n",
            "<re.Match object; span=(173, 174), match='2'>\n",
            "<re.Match object; span=(174, 175), match='3'>\n",
            "<re.Match object; span=(175, 176), match='4'>\n",
            "<re.Match object; span=(177, 178), match='1'>\n",
            "<re.Match object; span=(178, 179), match='2'>\n",
            "<re.Match object; span=(179, 180), match='3'>\n",
            "<re.Match object; span=(180, 181), match='*'>\n",
            "<re.Match object; span=(181, 182), match='5'>\n",
            "<re.Match object; span=(182, 183), match='5'>\n",
            "<re.Match object; span=(183, 184), match='5'>\n",
            "<re.Match object; span=(184, 185), match='*'>\n",
            "<re.Match object; span=(185, 186), match='1'>\n",
            "<re.Match object; span=(186, 187), match='2'>\n",
            "<re.Match object; span=(187, 188), match='3'>\n",
            "<re.Match object; span=(188, 189), match='4'>\n",
            "<re.Match object; span=(190, 191), match='8'>\n",
            "<re.Match object; span=(191, 192), match='0'>\n",
            "<re.Match object; span=(192, 193), match='0'>\n",
            "<re.Match object; span=(193, 194), match='-'>\n",
            "<re.Match object; span=(194, 195), match='5'>\n",
            "<re.Match object; span=(195, 196), match='5'>\n",
            "<re.Match object; span=(196, 197), match='5'>\n",
            "<re.Match object; span=(197, 198), match='-'>\n",
            "<re.Match object; span=(198, 199), match='1'>\n",
            "<re.Match object; span=(199, 200), match='2'>\n",
            "<re.Match object; span=(200, 201), match='3'>\n",
            "<re.Match object; span=(201, 202), match='4'>\n",
            "<re.Match object; span=(203, 204), match='9'>\n",
            "<re.Match object; span=(204, 205), match='0'>\n",
            "<re.Match object; span=(205, 206), match='0'>\n",
            "<re.Match object; span=(206, 207), match='-'>\n",
            "<re.Match object; span=(207, 208), match='5'>\n",
            "<re.Match object; span=(208, 209), match='5'>\n",
            "<re.Match object; span=(209, 210), match='5'>\n",
            "<re.Match object; span=(210, 211), match='-'>\n",
            "<re.Match object; span=(211, 212), match='1'>\n",
            "<re.Match object; span=(212, 213), match='2'>\n",
            "<re.Match object; span=(213, 214), match='3'>\n",
            "<re.Match object; span=(214, 215), match='4'>\n",
            "<re.Match object; span=(217, 218), match='M'>\n",
            "<re.Match object; span=(218, 219), match='r'>\n",
            "<re.Match object; span=(219, 220), match='.'>\n",
            "<re.Match object; span=(220, 221), match=' '>\n",
            "<re.Match object; span=(221, 222), match='S'>\n",
            "<re.Match object; span=(222, 223), match='c'>\n",
            "<re.Match object; span=(223, 224), match='h'>\n",
            "<re.Match object; span=(224, 225), match='a'>\n",
            "<re.Match object; span=(225, 226), match='f'>\n",
            "<re.Match object; span=(226, 227), match='e'>\n",
            "<re.Match object; span=(227, 228), match='r'>\n",
            "<re.Match object; span=(229, 230), match='M'>\n",
            "<re.Match object; span=(230, 231), match='r'>\n",
            "<re.Match object; span=(231, 232), match=' '>\n",
            "<re.Match object; span=(232, 233), match='S'>\n",
            "<re.Match object; span=(233, 234), match='m'>\n",
            "<re.Match object; span=(234, 235), match='i'>\n",
            "<re.Match object; span=(235, 236), match='t'>\n",
            "<re.Match object; span=(236, 237), match='h'>\n",
            "<re.Match object; span=(238, 239), match='M'>\n",
            "<re.Match object; span=(239, 240), match='s'>\n",
            "<re.Match object; span=(240, 241), match=' '>\n",
            "<re.Match object; span=(241, 242), match='D'>\n",
            "<re.Match object; span=(242, 243), match='a'>\n",
            "<re.Match object; span=(243, 244), match='v'>\n",
            "<re.Match object; span=(244, 245), match='i'>\n",
            "<re.Match object; span=(245, 246), match='s'>\n",
            "<re.Match object; span=(247, 248), match='M'>\n",
            "<re.Match object; span=(248, 249), match='r'>\n",
            "<re.Match object; span=(249, 250), match='s'>\n",
            "<re.Match object; span=(250, 251), match='.'>\n",
            "<re.Match object; span=(251, 252), match=' '>\n",
            "<re.Match object; span=(252, 253), match='R'>\n",
            "<re.Match object; span=(253, 254), match='o'>\n",
            "<re.Match object; span=(254, 255), match='b'>\n",
            "<re.Match object; span=(255, 256), match='i'>\n",
            "<re.Match object; span=(256, 257), match='n'>\n",
            "<re.Match object; span=(257, 258), match='s'>\n",
            "<re.Match object; span=(258, 259), match='o'>\n",
            "<re.Match object; span=(259, 260), match='n'>\n",
            "<re.Match object; span=(261, 262), match='M'>\n",
            "<re.Match object; span=(262, 263), match='r'>\n",
            "<re.Match object; span=(263, 264), match='.'>\n",
            "<re.Match object; span=(264, 265), match=' '>\n",
            "<re.Match object; span=(265, 266), match='T'>\n"
          ]
        }
      ]
    },
    {
      "cell_type": "code",
      "source": [
        "sentence = 'Start a sentence and then bring it to an end'\n",
        "\n",
        "pattern =re.compile(r'\\.')\n",
        "\n",
        "matches = pattern.finditer(text_to_search)\n",
        "\n",
        "for match in matches:\n",
        "  print(match)"
      ],
      "metadata": {
        "colab": {
          "base_uri": "https://localhost:8080/"
        },
        "id": "2RDLfGPoMP6Q",
        "outputId": "4a4d716f-1657-438b-ced3-107e876084ce"
      },
      "execution_count": null,
      "outputs": [
        {
          "output_type": "stream",
          "name": "stdout",
          "text": [
            "<re.Match object; span=(113, 114), match='.'>\n",
            "<re.Match object; span=(145, 146), match='.'>\n",
            "<re.Match object; span=(167, 168), match='.'>\n",
            "<re.Match object; span=(171, 172), match='.'>\n",
            "<re.Match object; span=(219, 220), match='.'>\n",
            "<re.Match object; span=(250, 251), match='.'>\n",
            "<re.Match object; span=(263, 264), match='.'>\n"
          ]
        }
      ]
    },
    {
      "cell_type": "markdown",
      "source": [
        ".       - Any Character Except New Line\n",
        "\n",
        "\\d      - Digit (0-9)\n",
        "\n",
        "\\D      - Not a Digit (0-9)\n",
        "\n",
        "\\w      - Word Character (a-z, A-Z, 0-9, _)\n",
        "\n",
        "\\W      - Not a Word Character\n",
        "\n",
        "\\s      - Whitespace (space, tab, newline)\n",
        "\n",
        "\\S      - Not Whitespace (space, tab, newline)\n",
        "\n",
        "\\b      - Word Boundary\n",
        "\n",
        "\\B      - Not a Word Boundary\n",
        "\n",
        "^       - Beginning of a String\n",
        "\n",
        "$       - End of a String\n",
        "\n",
        "[]      - Matches Characters in brackets\n",
        "\n",
        "[^ ]    - Matches Characters NOT in brackets\n",
        "\n",
        "|       - Either Or\n",
        "\n",
        "( )     - Group\n",
        "\n",
        "Quantifiers:\n",
        "\n",
        "*       - 0 or More\n",
        "\n",
        "+       - 1 or More\n",
        "\n",
        "?       - 0 or One\n",
        "\n",
        "{3}     - Exact Number\n",
        "\n",
        "{3,4}   - Range of Numbers (Minimum, Maximum)\n",
        "\n",
        "\n",
        "#### Sample Regexs ####\n",
        "\n",
        "[a-zA-Z0-9_.+-]+@[a-zA-Z0-9-]+\\.[a-zA-Z0-9-.]+"
      ],
      "metadata": {
        "id": "8gKns0ixMpe7"
      }
    },
    {
      "cell_type": "code",
      "source": [
        "sentence = 'Start a sentence and then bring it to an end'\n",
        "\n",
        "pattern =re.compile(r'\\d\\d\\d.\\d\\d\\d.\\d\\d\\d\\d')\n",
        "\n",
        "matches = pattern.finditer(text_to_search)\n",
        "\n",
        "for match in matches:\n",
        "  print(match)"
      ],
      "metadata": {
        "colab": {
          "base_uri": "https://localhost:8080/"
        },
        "id": "FHRPVmaoMSpA",
        "outputId": "ef986ebc-9e78-4464-bcec-a10995b585d5"
      },
      "execution_count": null,
      "outputs": [
        {
          "output_type": "stream",
          "name": "stdout",
          "text": [
            "<re.Match object; span=(151, 163), match='321-555-4321'>\n",
            "<re.Match object; span=(164, 176), match='123.555.1234'>\n",
            "<re.Match object; span=(177, 189), match='123*555*1234'>\n",
            "<re.Match object; span=(190, 202), match='800-555-1234'>\n",
            "<re.Match object; span=(203, 215), match='900-555-1234'>\n"
          ]
        }
      ]
    },
    {
      "cell_type": "code",
      "source": [
        "sentence = 'Start a sentence and then bring it to an end'\n",
        "\n",
        "pattern =re.compile(r'\\d\\d\\d.\\d\\d\\d.\\d\\d\\d\\d')\n",
        "\n",
        "matches = pattern.finditer(text_to_search)\n",
        "\n",
        "with open('data.txt','r') as f:\n",
        "  content = f.read()\n",
        "\n",
        "  matches = pattern.finditer(content)\n",
        "\n",
        "  for match in matches:\n",
        "      print(match)"
      ],
      "metadata": {
        "colab": {
          "base_uri": "https://localhost:8080/"
        },
        "id": "zkcN-BTVQZhd",
        "outputId": "dc50003f-347c-4c9d-8d38-f8fe086d02aa"
      },
      "execution_count": null,
      "outputs": [
        {
          "output_type": "stream",
          "name": "stdout",
          "text": [
            "<re.Match object; span=(12, 24), match='615-555-7164'>\n",
            "<re.Match object; span=(102, 114), match='800-555-5669'>\n",
            "<re.Match object; span=(191, 203), match='560-555-5153'>\n",
            "<re.Match object; span=(281, 293), match='900-555-9340'>\n",
            "<re.Match object; span=(378, 390), match='714-555-7405'>\n",
            "<re.Match object; span=(467, 479), match='800-555-6771'>\n",
            "<re.Match object; span=(557, 569), match='783-555-4799'>\n",
            "<re.Match object; span=(647, 659), match='516-555-4615'>\n",
            "<re.Match object; span=(740, 752), match='127-555-1867'>\n",
            "<re.Match object; span=(829, 841), match='608-555-4938'>\n",
            "<re.Match object; span=(915, 927), match='568-555-6051'>\n",
            "<re.Match object; span=(1003, 1015), match='292-555-1875'>\n",
            "<re.Match object; span=(1091, 1103), match='900-555-3205'>\n",
            "<re.Match object; span=(1180, 1192), match='614-555-1166'>\n",
            "<re.Match object; span=(1269, 1281), match='530-555-2676'>\n",
            "<re.Match object; span=(1355, 1367), match='470-555-2750'>\n",
            "<re.Match object; span=(1439, 1451), match='800-555-6089'>\n",
            "<re.Match object; span=(1526, 1538), match='880-555-8319'>\n",
            "<re.Match object; span=(1614, 1626), match='777-555-8378'>\n",
            "<re.Match object; span=(1697, 1709), match='998-555-7385'>\n",
            "<re.Match object; span=(1790, 1802), match='800-555-7100'>\n",
            "<re.Match object; span=(1874, 1886), match='903-555-8277'>\n",
            "<re.Match object; span=(1962, 1974), match='196-555-5674'>\n",
            "<re.Match object; span=(2051, 2063), match='900-555-5118'>\n",
            "<re.Match object; span=(2135, 2147), match='905-555-1630'>\n",
            "<re.Match object; span=(2216, 2228), match='203-555-3475'>\n",
            "<re.Match object; span=(2300, 2312), match='884-555-8444'>\n",
            "<re.Match object; span=(2387, 2399), match='904-555-8559'>\n",
            "<re.Match object; span=(2475, 2487), match='889-555-7393'>\n",
            "<re.Match object; span=(2562, 2574), match='195-555-2405'>\n",
            "<re.Match object; span=(2647, 2659), match='321-555-9053'>\n",
            "<re.Match object; span=(2734, 2746), match='133-555-1711'>\n",
            "<re.Match object; span=(2826, 2838), match='900-555-5428'>\n",
            "<re.Match object; span=(2915, 2927), match='760-555-7147'>\n",
            "<re.Match object; span=(3012, 3024), match='391-555-6621'>\n",
            "<re.Match object; span=(3103, 3115), match='932-555-7724'>\n",
            "<re.Match object; span=(3192, 3204), match='609-555-7908'>\n",
            "<re.Match object; span=(3284, 3296), match='800-555-8810'>\n",
            "<re.Match object; span=(3372, 3384), match='149-555-7657'>\n",
            "<re.Match object; span=(3452, 3464), match='130-555-9709'>\n",
            "<re.Match object; span=(3535, 3547), match='143-555-9295'>\n",
            "<re.Match object; span=(3624, 3636), match='903-555-9878'>\n",
            "<re.Match object; span=(3714, 3726), match='574-555-3194'>\n",
            "<re.Match object; span=(3802, 3814), match='496-555-7533'>\n",
            "<re.Match object; span=(3887, 3899), match='210-555-3757'>\n",
            "<re.Match object; span=(3971, 3983), match='900-555-9598'>\n",
            "<re.Match object; span=(4056, 4068), match='866-555-9844'>\n",
            "<re.Match object; span=(4140, 4152), match='669-555-7159'>\n",
            "<re.Match object; span=(4225, 4237), match='152-555-7417'>\n",
            "<re.Match object; span=(4317, 4329), match='893-555-9832'>\n",
            "<re.Match object; span=(4407, 4419), match='217-555-7123'>\n",
            "<re.Match object; span=(4498, 4510), match='786-555-6544'>\n",
            "<re.Match object; span=(4588, 4600), match='780-555-2574'>\n",
            "<re.Match object; span=(4676, 4688), match='926-555-8735'>\n",
            "<re.Match object; span=(4762, 4774), match='895-555-3539'>\n",
            "<re.Match object; span=(4859, 4871), match='874-555-3949'>\n",
            "<re.Match object; span=(4945, 4957), match='800-555-2420'>\n",
            "<re.Match object; span=(5034, 5046), match='936-555-6340'>\n",
            "<re.Match object; span=(5123, 5135), match='372-555-9809'>\n",
            "<re.Match object; span=(5210, 5222), match='890-555-5618'>\n",
            "<re.Match object; span=(5292, 5304), match='670-555-3005'>\n",
            "<re.Match object; span=(5382, 5394), match='509-555-5997'>\n",
            "<re.Match object; span=(5475, 5487), match='721-555-5632'>\n",
            "<re.Match object; span=(5566, 5578), match='900-555-3567'>\n",
            "<re.Match object; span=(5656, 5668), match='147-555-6830'>\n",
            "<re.Match object; span=(5745, 5757), match='582-555-3426'>\n",
            "<re.Match object; span=(5830, 5842), match='400-555-1706'>\n",
            "<re.Match object; span=(5921, 5933), match='525-555-1793'>\n",
            "<re.Match object; span=(6011, 6023), match='317-555-6700'>\n",
            "<re.Match object; span=(6099, 6111), match='974-555-8301'>\n",
            "<re.Match object; span=(6189, 6201), match='800-555-3216'>\n",
            "<re.Match object; span=(6273, 6285), match='746-555-4094'>\n",
            "<re.Match object; span=(6360, 6372), match='922-555-1773'>\n",
            "<re.Match object; span=(6445, 6457), match='711-555-4427'>\n",
            "<re.Match object; span=(6530, 6542), match='355-555-1872'>\n",
            "<re.Match object; span=(6619, 6631), match='852-555-6521'>\n",
            "<re.Match object; span=(6711, 6723), match='691-555-5773'>\n",
            "<re.Match object; span=(6803, 6815), match='332-555-5441'>\n",
            "<re.Match object; span=(6889, 6901), match='900-555-7755'>\n",
            "<re.Match object; span=(6971, 6983), match='379-555-3685'>\n",
            "<re.Match object; span=(7061, 7073), match='127-555-9682'>\n",
            "<re.Match object; span=(7152, 7164), match='789-555-7032'>\n",
            "<re.Match object; span=(7243, 7255), match='783-555-5135'>\n",
            "<re.Match object; span=(7336, 7348), match='315-555-6507'>\n",
            "<re.Match object; span=(7427, 7439), match='481-555-5835'>\n",
            "<re.Match object; span=(7515, 7527), match='365-555-8287'>\n",
            "<re.Match object; span=(7607, 7619), match='911-555-7535'>\n",
            "<re.Match object; span=(7693, 7705), match='681-555-2460'>\n",
            "<re.Match object; span=(7779, 7791), match='274-555-9800'>\n",
            "<re.Match object; span=(7864, 7876), match='800-555-1372'>\n",
            "<re.Match object; span=(7953, 7965), match='300-555-7821'>\n",
            "<re.Match object; span=(8043, 8055), match='133-555-3889'>\n",
            "<re.Match object; span=(8129, 8141), match='705-555-6863'>\n",
            "<re.Match object; span=(8218, 8230), match='215-555-9449'>\n",
            "<re.Match object; span=(8309, 8321), match='988-555-6112'>\n",
            "<re.Match object; span=(8395, 8407), match='623-555-3006'>\n",
            "<re.Match object; span=(8479, 8491), match='192-555-4977'>\n",
            "<re.Match object; span=(8564, 8576), match='178-555-4899'>\n",
            "<re.Match object; span=(8648, 8660), match='952-555-3089'>\n",
            "<re.Match object; span=(8741, 8753), match='900-555-6426'>\n"
          ]
        }
      ]
    },
    {
      "cell_type": "code",
      "source": [
        "sentence = 'Start a sentence and then bring it to an end'\n",
        "\n",
        "pattern =re.compile(r'\\d{3}.\\d{3}.\\d{4}')\n",
        "\n",
        "matches = pattern.finditer(text_to_search)\n",
        "\n",
        "for match in matches:\n",
        "  print(match)"
      ],
      "metadata": {
        "colab": {
          "base_uri": "https://localhost:8080/"
        },
        "id": "dxrztYnQRCk3",
        "outputId": "e2ee4331-1e8d-485d-ef95-7ea63d6af509"
      },
      "execution_count": null,
      "outputs": [
        {
          "output_type": "stream",
          "name": "stdout",
          "text": [
            "<re.Match object; span=(151, 163), match='321-555-4321'>\n",
            "<re.Match object; span=(164, 176), match='123.555.1234'>\n",
            "<re.Match object; span=(177, 189), match='123*555*1234'>\n",
            "<re.Match object; span=(190, 202), match='800-555-1234'>\n",
            "<re.Match object; span=(203, 215), match='900-555-1234'>\n"
          ]
        }
      ]
    },
    {
      "cell_type": "code",
      "source": [
        "sentence = 'Start a sentence and then bring it to an end'\n",
        "\n",
        "pattern =re.compile(r'Mr\\.?\\s[A-Z]\\w*')\n",
        "\n",
        "matches = pattern.finditer(text_to_search)\n",
        "\n",
        "for match in matches:\n",
        "  print(match)"
      ],
      "metadata": {
        "colab": {
          "base_uri": "https://localhost:8080/"
        },
        "id": "hlPIuzFqUk-5",
        "outputId": "3df9b0a5-1a80-4d38-917b-a5debb954096"
      },
      "execution_count": null,
      "outputs": [
        {
          "output_type": "stream",
          "name": "stdout",
          "text": [
            "<re.Match object; span=(217, 228), match='Mr. Schafer'>\n",
            "<re.Match object; span=(229, 237), match='Mr Smith'>\n",
            "<re.Match object; span=(261, 266), match='Mr. T'>\n"
          ]
        }
      ]
    },
    {
      "cell_type": "code",
      "source": [
        "sentence = 'Start a sentence and then bring it to an end'\n",
        "\n",
        "pattern =re.compile(r'M(r|rs|s)\\.?\\s[A-Z]\\w*')\n",
        "\n",
        "matches = pattern.finditer(text_to_search)\n",
        "\n",
        "for match in matches:\n",
        "  print(match)"
      ],
      "metadata": {
        "colab": {
          "base_uri": "https://localhost:8080/"
        },
        "id": "5UBYpcbfVxo2",
        "outputId": "ecfad6ca-e1f2-42d7-bf4c-1a8eaf1d39cd"
      },
      "execution_count": null,
      "outputs": [
        {
          "output_type": "stream",
          "name": "stdout",
          "text": [
            "<re.Match object; span=(217, 228), match='Mr. Schafer'>\n",
            "<re.Match object; span=(229, 237), match='Mr Smith'>\n",
            "<re.Match object; span=(238, 246), match='Ms Davis'>\n",
            "<re.Match object; span=(247, 260), match='Mrs. Robinson'>\n",
            "<re.Match object; span=(261, 266), match='Mr. T'>\n"
          ]
        }
      ]
    },
    {
      "cell_type": "code",
      "source": [
        "urls = '''\n",
        "https://www.google.com\n",
        "http://coreyms.com\n",
        "https://youtube.com\n",
        "https://www.nasa.gov\n",
        "'''\n",
        "\n",
        "pattern = re.compile(r'https?://(www\\.)?\\w+\\.\\w+')\n",
        "\n",
        "matches = pattern.finditer(urls)\n",
        "for match in matches:\n",
        "  print(match)"
      ],
      "metadata": {
        "colab": {
          "base_uri": "https://localhost:8080/"
        },
        "id": "AcIzUzc-V6dT",
        "outputId": "857477f9-5e69-4854-e814-a9962ae61f22"
      },
      "execution_count": null,
      "outputs": [
        {
          "output_type": "stream",
          "name": "stdout",
          "text": [
            "<re.Match object; span=(1, 23), match='https://www.google.com'>\n",
            "<re.Match object; span=(24, 42), match='http://coreyms.com'>\n",
            "<re.Match object; span=(43, 62), match='https://youtube.com'>\n",
            "<re.Match object; span=(63, 83), match='https://www.nasa.gov'>\n"
          ]
        }
      ]
    },
    {
      "cell_type": "code",
      "source": [
        "sentence = 'Start a sentence and then bring it to an end'\n",
        "\n",
        "pattern =re.compile(r'(Mr|Mrs|Ms)\\.?\\s[A-Z]\\w*')\n",
        "\n",
        "matches = pattern.findall(text_to_search)\n",
        "\n",
        "for match in matches:\n",
        "  print(match)"
      ],
      "metadata": {
        "colab": {
          "base_uri": "https://localhost:8080/"
        },
        "id": "wvf-V7rYZd2W",
        "outputId": "29908c4f-b675-4d31-fe70-d7a9a75abd03"
      },
      "execution_count": null,
      "outputs": [
        {
          "output_type": "stream",
          "name": "stdout",
          "text": [
            "Mr\n",
            "Mr\n",
            "Ms\n",
            "Mrs\n",
            "Mr\n"
          ]
        }
      ]
    },
    {
      "cell_type": "markdown",
      "source": [
        "match see only a begnining of string if i use sentence in compile not give output and output will be none"
      ],
      "metadata": {
        "id": "vkEuliFucunq"
      }
    },
    {
      "cell_type": "code",
      "source": [
        "#example\n",
        "\n",
        "sentence = 'Start a sentence and then bring it to an end'\n",
        "\n",
        "pattern =re.compile(r'sentence')\n",
        "\n",
        "matches = pattern.match(sentence)\n",
        "\n",
        "print(matches)\n",
        "\n"
      ],
      "metadata": {
        "colab": {
          "base_uri": "https://localhost:8080/"
        },
        "id": "yQf2VKh9c9gp",
        "outputId": "a3f8ca34-de9d-4941-8de7-d18cf63afdbe"
      },
      "execution_count": null,
      "outputs": [
        {
          "output_type": "stream",
          "name": "stdout",
          "text": [
            "None\n"
          ]
        }
      ]
    },
    {
      "cell_type": "code",
      "source": [
        "sentence = 'Start a sentence and then bring it to an end'\n",
        "\n",
        "pattern =re.compile(r'Start')\n",
        "\n",
        "matches = pattern.match(sentence)\n",
        "\n",
        "print(matches)\n",
        "\n"
      ],
      "metadata": {
        "colab": {
          "base_uri": "https://localhost:8080/"
        },
        "id": "NeSc_MkYcW_u",
        "outputId": "20dc39b5-b272-451f-d259-696be365211b"
      },
      "execution_count": null,
      "outputs": [
        {
          "output_type": "stream",
          "name": "stdout",
          "text": [
            "<re.Match object; span=(0, 5), match='Start'>\n"
          ]
        }
      ]
    },
    {
      "cell_type": "code",
      "source": [
        "#example\n",
        "\n",
        "sentence = 'Start a sentence and then bring it to an end'\n",
        "\n",
        "pattern =re.compile(r'sentence')\n",
        "\n",
        "matches = pattern.search(sentence)\n",
        "\n",
        "print(matches)\n",
        "\n"
      ],
      "metadata": {
        "colab": {
          "base_uri": "https://localhost:8080/"
        },
        "id": "GVz9ha9EcmJt",
        "outputId": "1c4e243a-a0c3-48cc-c5f6-3277c05e133f"
      },
      "execution_count": null,
      "outputs": [
        {
          "output_type": "stream",
          "name": "stdout",
          "text": [
            "<re.Match object; span=(8, 16), match='sentence'>\n"
          ]
        }
      ]
    },
    {
      "cell_type": "markdown",
      "source": [
        "if word contains both lowercase and uppercase ,so we us this\n"
      ],
      "metadata": {
        "id": "KtqHfKMndnxM"
      }
    },
    {
      "cell_type": "code",
      "source": [
        "#example\n",
        "\n",
        "sentence = 'Start a sentence and then bring it to an end'\n",
        "\n",
        "pattern =re.compile(r'start',re.IGNORECASE)\n",
        "\n",
        "matches = pattern.search(sentence)\n",
        "\n",
        "print(matches)\n",
        "\n"
      ],
      "metadata": {
        "colab": {
          "base_uri": "https://localhost:8080/"
        },
        "id": "Ldswz8tbdWHY",
        "outputId": "e8d6f5b4-0646-427c-e187-683c0dcb95cd"
      },
      "execution_count": null,
      "outputs": [
        {
          "output_type": "stream",
          "name": "stdout",
          "text": [
            "<re.Match object; span=(0, 5), match='Start'>\n"
          ]
        }
      ]
    },
    {
      "cell_type": "code",
      "source": [],
      "metadata": {
        "id": "rn_-PK2ad0xL"
      },
      "execution_count": null,
      "outputs": []
    }
  ]
}