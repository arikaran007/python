{
  "nbformat": 4,
  "nbformat_minor": 0,
  "metadata": {
    "colab": {
      "provenance": [],
      "authorship_tag": "ABX9TyPUB1BuOCy/7IFS7NPgvdaY",
      "include_colab_link": true
    },
    "kernelspec": {
      "name": "python3",
      "display_name": "Python 3"
    },
    "language_info": {
      "name": "python"
    }
  },
  "cells": [
    {
      "cell_type": "markdown",
      "metadata": {
        "id": "view-in-github",
        "colab_type": "text"
      },
      "source": [
        "<a href=\"https://colab.research.google.com/github/arikaran007/python/blob/main/Inheritance.ipynb\" target=\"_parent\"><img src=\"https://colab.research.google.com/assets/colab-badge.svg\" alt=\"Open In Colab\"/></a>"
      ]
    },
    {
      "cell_type": "code",
      "execution_count": null,
      "metadata": {
        "colab": {
          "base_uri": "https://localhost:8080/"
        },
        "id": "tna5dgGGwOGZ",
        "outputId": "742e186c-15d8-4c61-d8ed-e1d17f98d89b"
      },
      "outputs": [
        {
          "output_type": "stream",
          "name": "stdout",
          "text": [
            "arikarab@gmail.com\n"
          ]
        }
      ],
      "source": [
        "class employee:\n",
        "\n",
        "  raise_amt =  1.04\n",
        "\n",
        "  def __init__(self,first,last,pay):\n",
        "    self.first=first\n",
        "    self.last=last\n",
        "    self.pay=pay\n",
        "    self.email= first + last +'@gmail.com'\n",
        "\n",
        "  def apply_raise(self):\n",
        "    self.pay = int(self.raise_amt * self.pay)\n",
        "\n",
        "\n",
        "dev1 = employee('ari','karab',50000)\n",
        "dev2 = employee('karan','ari',402202)\n",
        "\n",
        "print(dev1.email)\n"
      ]
    },
    {
      "cell_type": "code",
      "source": [
        "class employee:\n",
        "\n",
        "  raise_amt =  1.04\n",
        "\n",
        "  def __init__(self,first,last,pay):\n",
        "    self.first=first\n",
        "    self.last=last\n",
        "    self.pay=pay\n",
        "    self.email= first + last +'@gmail.com'\n",
        "\n",
        "  def apply_raise(self):\n",
        "    self.pay = int(self.raise_amt * self.pay)\n",
        "\n",
        "class developer(employee):\n",
        "  pass\n",
        "\n",
        "\n",
        "dev1 = developer('ari','karab',50000)\n",
        "dev2 = developer('karan','ari',402202)\n",
        "\n",
        "print(dev1.pay)\n",
        "dev1.apply_raise()\n",
        "print(dev1.pay)\n"
      ],
      "metadata": {
        "colab": {
          "base_uri": "https://localhost:8080/"
        },
        "id": "3pXHylZmyrX2",
        "outputId": "44196a24-a040-413e-fd84-d797df996907"
      },
      "execution_count": null,
      "outputs": [
        {
          "output_type": "stream",
          "name": "stdout",
          "text": [
            "50000\n",
            "52000\n"
          ]
        }
      ]
    },
    {
      "cell_type": "code",
      "source": [
        "class employee:\n",
        "\n",
        "  raise_amt =  1.04\n",
        "\n",
        "  def __init__(self,first,last,pay):\n",
        "    self.first=first\n",
        "    self.last=last\n",
        "    self.pay=pay\n",
        "    self.email= first + last +'@gmail.com'\n",
        "\n",
        "  def apply_raise(self):\n",
        "    self.pay = int(self.raise_amt * self.pay)\n",
        "\n",
        "class developer(employee):\n",
        "  raise_amt = 2\n",
        "\n",
        "\n",
        "\n",
        "dev1 = developer('ari','karab',50000)\n",
        "dev2 = developer('karan','ari',402202)\n",
        "\n",
        "print(dev1.pay)\n",
        "dev1.apply_raise()\n",
        "print(dev1.pay)\n"
      ],
      "metadata": {
        "colab": {
          "base_uri": "https://localhost:8080/"
        },
        "id": "5h3WGhr8y97f",
        "outputId": "2c9f2c8b-34ac-4053-c854-0307dc25b216"
      },
      "execution_count": null,
      "outputs": [
        {
          "output_type": "stream",
          "name": "stdout",
          "text": [
            "50000\n",
            "100000\n"
          ]
        }
      ]
    },
    {
      "cell_type": "code",
      "source": [
        "class employee:\n",
        "\n",
        "  raise_amt =  1.04\n",
        "\n",
        "  def __init__(self,first,last,pay):\n",
        "    self.first=first\n",
        "    self.last=last\n",
        "    self.pay=pay\n",
        "    self.email= first + last +'@gmail.com'\n",
        "\n",
        "  def fullname(self):\n",
        "    return '{}{}'.format(self.first,self.last)\n",
        "\n",
        "  def apply_raise(self):\n",
        "    self.pay = int(self.raise_amt * self.pay)\n",
        "\n",
        "class developer(employee):\n",
        "  raise_amt = 2\n",
        "\n",
        "  def __init__(self,first,last,pay,prog_lang):\n",
        "    super().__init__(first,last,pay)\n",
        "    self.prog_lang = prog_lang\n",
        "\n",
        "class manager(employee):\n",
        "  def __init__(self,first,last,pay,employees = None):\n",
        "\n",
        "    super().__init__(first,last,pay)\n",
        "    if employees is None:\n",
        "      self.employees = []\n",
        "    else:\n",
        "      self.employees = employees\n",
        "\n",
        "  def add(self,emp):\n",
        "    if emp not in self.employees:\n",
        "      self.employees.append(emp)\n",
        "\n",
        "  def remove(self,emp):\n",
        "    if emp in self.employees:\n",
        "      self.employees.remove(emp)\n",
        "\n",
        "  def print_emp(self):\n",
        "    for emp in self.employees:\n",
        "      print('-->',emp.fullname())\n",
        "\n",
        "\n",
        "dev1 = developer('ari','karab',50000,'python')\n",
        "dev2 = developer('karan','ari',402202,'java')\n",
        "\n",
        "mgr_1 = manager('Sue', 'Smith', 90000, [dev1])\n",
        "\n",
        "print(mgr_1.email)"
      ],
      "metadata": {
        "colab": {
          "base_uri": "https://localhost:8080/"
        },
        "id": "h7RLkEDrzQJB",
        "outputId": "8730352c-63a1-4a85-9725-8032f6ec48e7"
      },
      "execution_count": null,
      "outputs": [
        {
          "output_type": "stream",
          "name": "stdout",
          "text": [
            "SueSmith@gmail.com\n"
          ]
        }
      ]
    },
    {
      "cell_type": "code",
      "source": [
        "class employee:\n",
        "\n",
        "  raise_amt =  1.04\n",
        "\n",
        "  def __init__(self,first,last,pay):\n",
        "    self.first=first\n",
        "    self.last=last\n",
        "    self.pay=pay\n",
        "    self.email= first + last +'@gmail.com'\n",
        "\n",
        "  def fullname(self):\n",
        "    return '{}{}'.format(self.first,self.last)\n",
        "\n",
        "  def apply_raise(self):\n",
        "    self.pay = int(self.raise_amt * self.pay)\n",
        "\n",
        "class developer(employee):\n",
        "  raise_amt = 2\n",
        "\n",
        "  def __init__(self,first,last,pay,prog_lang):\n",
        "    super().__init__(first,last,pay)\n",
        "    self.prog_lang = prog_lang\n",
        "\n",
        "class manager(employee):\n",
        "  def __init__(self,first,last,pay,employees = None):\n",
        "\n",
        "    super().__init__(first,last,pay)\n",
        "    if employees is None:\n",
        "      self.employees = []\n",
        "    else:\n",
        "      self.employees = employees\n",
        "\n",
        "  def add(self,emp):\n",
        "    if emp not in self.employees:\n",
        "      self.employees.append(emp)\n",
        "\n",
        "  def remove(self,emp):\n",
        "    if emp in self.employees:\n",
        "      self.employees.remove(emp)\n",
        "\n",
        "  def print_emp(self):\n",
        "    for emp in self.employees:\n",
        "      print('-->',emp.fullname())\n",
        "\n",
        "\n",
        "dev1 = developer('ari','karab',50000,'python')\n",
        "dev2 = developer('karan','ari',402202,'java')\n",
        "\n",
        "mgr_1 = manager('Sue', 'Smith', 90000, [dev1])\n",
        "\n",
        "mgr_1.add(dev1)\n",
        "\n",
        "mgr_1.print_emp()"
      ],
      "metadata": {
        "colab": {
          "base_uri": "https://localhost:8080/"
        },
        "id": "gK1Dv2qW5CW7",
        "outputId": "a1027e7f-627e-4661-82f8-1b07fec821fb"
      },
      "execution_count": null,
      "outputs": [
        {
          "output_type": "stream",
          "name": "stdout",
          "text": [
            "--> arikarab\n"
          ]
        }
      ]
    },
    {
      "cell_type": "code",
      "source": [
        "class employee:\n",
        "\n",
        "  raise_amt =  1.04\n",
        "\n",
        "  def __init__(self,first,last,pay):\n",
        "    self.first=first\n",
        "    self.last=last\n",
        "    self.pay=pay\n",
        "    self.email= first + last +'@gmail.com'\n",
        "\n",
        "  def fullname(self):\n",
        "    return '{}{}'.format(self.first,self.last)\n",
        "\n",
        "  def apply_raise(self):\n",
        "    self.pay = int(self.raise_amt * self.pay)\n",
        "\n",
        "class developer(employee):\n",
        "  raise_amt = 2\n",
        "\n",
        "  def __init__(self,first,last,pay,prog_lang):\n",
        "    super().__init__(first,last,pay)\n",
        "    self.prog_lang = prog_lang\n",
        "\n",
        "class manager(employee):\n",
        "  def __init__(self,first,last,pay,employees = None):\n",
        "\n",
        "    super().__init__(first,last,pay)\n",
        "    if employees is None:\n",
        "      self.employees = []\n",
        "    else:\n",
        "      self.employees = employees\n",
        "\n",
        "  def add(self,emp):\n",
        "    if emp not in self.employees:\n",
        "      self.employees.append(emp)\n",
        "\n",
        "  def remove(self,emp):\n",
        "    if emp in self.employees:\n",
        "      self.employees.remove(emp)\n",
        "\n",
        "  def print_emp(self):\n",
        "    for emp in self.employees:\n",
        "      print('-->',emp.fullname())\n",
        "\n",
        "\n",
        "dev1 = developer('ari','karab',50000,'python')\n",
        "dev2 = developer('karan','ari',402202,'java')\n",
        "\n",
        "mgr_1 = manager('Sue', 'Smith', 90000, [dev1])\n",
        "\n",
        "mgr_1.add(dev2)\n",
        "\n",
        "mgr_1.print_emp()"
      ],
      "metadata": {
        "colab": {
          "base_uri": "https://localhost:8080/"
        },
        "id": "W8ENLswy5j3p",
        "outputId": "8fe7685b-b387-4748-b991-e91669838906"
      },
      "execution_count": null,
      "outputs": [
        {
          "output_type": "stream",
          "name": "stdout",
          "text": [
            "--> arikarab\n",
            "--> karanari\n"
          ]
        }
      ]
    },
    {
      "cell_type": "code",
      "source": [
        "class employee:\n",
        "\n",
        "  raise_amt =  1.04\n",
        "\n",
        "  def __init__(self,first,last,pay):\n",
        "    self.first=first\n",
        "    self.last=last\n",
        "    self.pay=pay\n",
        "    self.email= first + last +'@gmail.com'\n",
        "\n",
        "  def fullname(self):\n",
        "    return '{}{}'.format(self.first,self.last)\n",
        "\n",
        "  def apply_raise(self):\n",
        "    self.pay = int(self.raise_amt * self.pay)\n",
        "\n",
        "class developer(employee):\n",
        "  raise_amt = 2\n",
        "\n",
        "  def __init__(self,first,last,pay,prog_lang):\n",
        "    super().__init__(first,last,pay)\n",
        "    self.prog_lang = prog_lang\n",
        "\n",
        "class manager(employee):\n",
        "  def __init__(self,first,last,pay,employees = None):\n",
        "\n",
        "    super().__init__(first,last,pay)\n",
        "    if employees is None:\n",
        "      self.employees = []\n",
        "    else:\n",
        "      self.employees = employees\n",
        "\n",
        "  def add(self,emp):\n",
        "    if emp not in self.employees:\n",
        "      self.employees.append(emp)\n",
        "\n",
        "  def remove(self,emp):\n",
        "    if emp in self.employees:\n",
        "      self.employees.remove(emp)\n",
        "\n",
        "  def print_emp(self):\n",
        "    for emp in self.employees:\n",
        "      print('-->',emp.fullname())\n",
        "\n",
        "\n",
        "dev1 = developer('ari','karab',50000,'python')\n",
        "dev2 = developer('karan','ari',402202,'java')\n",
        "\n",
        "mgr_1 = manager('Sue', 'Smith', 90000, [dev1])\n",
        "\n",
        "mgr_1.remove(dev1)\n",
        "\n",
        "mgr_1.print_emp()"
      ],
      "metadata": {
        "id": "2CxoWD4B5mwb"
      },
      "execution_count": null,
      "outputs": []
    },
    {
      "cell_type": "code",
      "source": [],
      "metadata": {
        "id": "uuy5kUP_5siw"
      },
      "execution_count": null,
      "outputs": []
    }
  ]
}