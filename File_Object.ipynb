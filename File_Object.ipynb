{
  "nbformat": 4,
  "nbformat_minor": 0,
  "metadata": {
    "colab": {
      "provenance": [],
      "authorship_tag": "ABX9TyOjTg6c5w/Gsyh/Py3XvFK0",
      "include_colab_link": true
    },
    "kernelspec": {
      "name": "python3",
      "display_name": "Python 3"
    },
    "language_info": {
      "name": "python"
    }
  },
  "cells": [
    {
      "cell_type": "markdown",
      "metadata": {
        "id": "view-in-github",
        "colab_type": "text"
      },
      "source": [
        "<a href=\"https://colab.research.google.com/github/arikaran007/python/blob/main/File_Object.ipynb\" target=\"_parent\"><img src=\"https://colab.research.google.com/assets/colab-badge.svg\" alt=\"Open In Colab\"/></a>"
      ]
    },
    {
      "cell_type": "code",
      "execution_count": null,
      "metadata": {
        "colab": {
          "base_uri": "https://localhost:8080/"
        },
        "id": "ugLwsvEXXbd1",
        "outputId": "710e93dd-6b90-4eff-cf6d-f57d61e9617f"
      },
      "outputs": [
        {
          "output_type": "stream",
          "name": "stdout",
          "text": [
            "text.txt\n",
            "r\n"
          ]
        }
      ],
      "source": [
        "f=open('text.txt','r')\n",
        "\n",
        "print(f.name)\n",
        "\n",
        "print(f.mode)\n",
        "f.close()\n",
        "\n"
      ]
    },
    {
      "cell_type": "code",
      "source": [
        "with open('text.txt','r') as f:\n",
        "  content = f.readlines()\n",
        "  print(content)"
      ],
      "metadata": {
        "colab": {
          "base_uri": "https://localhost:8080/"
        },
        "id": "prn2cQkKX5ph",
        "outputId": "f8d60151-dcfa-4d32-8ad0-44a0191e3f20"
      },
      "execution_count": null,
      "outputs": [
        {
          "output_type": "stream",
          "name": "stdout",
          "text": [
            "['iam\\n', 'What do you mean by packet classification?\\n', 'The process of identifying the packets belonging to a specific flow or group of flows between a source and destination is the task of packet classifiers. Packet classification is searching a table of rules for the highest priority rule or set of rules which match the packet.\\n', '\\n', 'What are the classification of network packets?\\n', 'The process of categorizing packets into “flows” in an Internet router is called packet classification. All packets belonging to the same flow obey a pre-defined rule and are processed in a similar manner by the router.']\n"
          ]
        }
      ]
    },
    {
      "cell_type": "code",
      "source": [
        "with open('text.txt','r') as f:\n",
        "  content = f.readline()\n",
        "  print(content)"
      ],
      "metadata": {
        "colab": {
          "base_uri": "https://localhost:8080/"
        },
        "id": "o1yPFx8UZmgQ",
        "outputId": "6c0db53c-ddc6-442e-9ea6-e675de007444"
      },
      "execution_count": null,
      "outputs": [
        {
          "output_type": "stream",
          "name": "stdout",
          "text": [
            "iam\n",
            "\n"
          ]
        }
      ]
    },
    {
      "cell_type": "code",
      "source": [
        "with open('text.txt','r') as f:\n",
        "  content = f.readline()\n",
        "  print(content)\n",
        "\n",
        "  content = f.readline()\n",
        "  print(content)"
      ],
      "metadata": {
        "colab": {
          "base_uri": "https://localhost:8080/"
        },
        "id": "LvpD9FGeaKQT",
        "outputId": "7a0531f2-e396-4383-d07b-55dba1856c74"
      },
      "execution_count": null,
      "outputs": [
        {
          "output_type": "stream",
          "name": "stdout",
          "text": [
            "iam\n",
            "\n",
            "What do you mean by packet classification?\n",
            "\n"
          ]
        }
      ]
    },
    {
      "cell_type": "code",
      "source": [
        "with open('text.txt','r') as f:\n",
        "  for line in f:\n",
        "    print(line,end='')"
      ],
      "metadata": {
        "colab": {
          "base_uri": "https://localhost:8080/"
        },
        "id": "dvE2cG9qc_yY",
        "outputId": "5b23bf92-f369-4844-f93a-d3a7abb12233"
      },
      "execution_count": null,
      "outputs": [
        {
          "output_type": "stream",
          "name": "stdout",
          "text": [
            "iam\n",
            "What do you mean by packet classification?\n",
            "The process of identifying the packets belonging to a specific flow or group of flows between a source and destination is the task of packet classifiers. Packet classification is searching a table of rules for the highest priority rule or set of rules which match the packet.\n",
            "\n",
            "What are the classification of network packets?\n",
            "The process of categorizing packets into “flows” in an Internet router is called packet classification. All packets belonging to the same flow obey a pre-defined rule and are processed in a similar manner by the router."
          ]
        }
      ]
    },
    {
      "cell_type": "code",
      "source": [
        "with open('text.txt','r') as f:\n",
        "\n",
        "  content= f.read(100)\n",
        "  print(content)"
      ],
      "metadata": {
        "colab": {
          "base_uri": "https://localhost:8080/"
        },
        "id": "z2PadRMHde_d",
        "outputId": "486f7618-6ca7-4a4d-e250-a2b14e72b50b"
      },
      "execution_count": null,
      "outputs": [
        {
          "output_type": "stream",
          "name": "stdout",
          "text": [
            "iam\n",
            "What do you mean by packet classification?\n",
            "The process of identifying the packets belonging to a\n"
          ]
        }
      ]
    },
    {
      "cell_type": "code",
      "source": [
        "with open('text.txt','r') as f:\n",
        "  size = 10\n",
        "  content = f.read(size)\n",
        "\n",
        "  while len(content) > 0:\n",
        "    print(content,end='/')\n",
        "    content = f.read(size)\n"
      ],
      "metadata": {
        "colab": {
          "base_uri": "https://localhost:8080/"
        },
        "id": "qD8UEVShdpaI",
        "outputId": "9f850bf0-c5bc-4579-ffbb-b76f865926e5"
      },
      "execution_count": null,
      "outputs": [
        {
          "output_type": "stream",
          "name": "stdout",
          "text": [
            "iam\n",
            "What d/o you mean/ by packet/ classific/ation?\n",
            "The/ process o/f identify/ing the pa/ckets belo/nging to a/ specific /flow or gr/oup of flo/ws between/ a source /and destin/ation is t/he task of/ packet cl/assifiers./ Packet cl/assificati/on is sear/ching a ta/ble of rul/es for the/ highest p/riority ru/le or set /of rules w/hich match/ the packe/t.\n",
            "\n",
            "What a/re the cla/ssificatio/n of netwo/rk packets/?\n",
            "The proc/ess of cat/egorizing /packets in/to “flows”/ in an Int/ernet rout/er is call/ed packet /classifica/tion. All /packets be/longing to/ the same /flow obey /a pre-defi/ned rule a/nd are pro/cessed in /a similar /manner by /the router/./"
          ]
        }
      ]
    },
    {
      "cell_type": "code",
      "source": [
        "with open('text.txt','r') as f:\n",
        "  size = 10\n",
        "  content = f.read(size)\n",
        "  print(content)"
      ],
      "metadata": {
        "colab": {
          "base_uri": "https://localhost:8080/"
        },
        "id": "pmkmX7-afGf3",
        "outputId": "1dd55135-6631-4a07-c759-94af31aecb0b"
      },
      "execution_count": null,
      "outputs": [
        {
          "output_type": "stream",
          "name": "stdout",
          "text": [
            "iam\n",
            "What d\n"
          ]
        }
      ]
    },
    {
      "cell_type": "code",
      "source": [
        "with open('text.txt','r') as f:\n",
        "  size = 10\n",
        "  content = f.read(size)\n",
        "\n",
        "\n",
        "  print(f.tell())"
      ],
      "metadata": {
        "colab": {
          "base_uri": "https://localhost:8080/"
        },
        "id": "3pfaY2eIfVpz",
        "outputId": "d4644db0-7152-44c4-cc28-f4f8325b53b6"
      },
      "execution_count": null,
      "outputs": [
        {
          "output_type": "stream",
          "name": "stdout",
          "text": [
            "11\n"
          ]
        }
      ]
    },
    {
      "cell_type": "code",
      "source": [
        "with open('text.txt','r') as f:\n",
        "  size = 10\n",
        "  content = f.read(size)\n",
        "  print(content)\n",
        "  f.seek(0)\n",
        "\n",
        "  content = f.read(size)\n",
        "  print(content)"
      ],
      "metadata": {
        "colab": {
          "base_uri": "https://localhost:8080/"
        },
        "id": "1eRS0Garfah1",
        "outputId": "476cd504-8d4d-4fed-cfda-6316d967dae0"
      },
      "execution_count": null,
      "outputs": [
        {
          "output_type": "stream",
          "name": "stdout",
          "text": [
            "iam\n",
            "What d\n",
            "iam\n",
            "What d\n"
          ]
        }
      ]
    },
    {
      "cell_type": "code",
      "source": [
        "with open('text.txt','r') as rf:\n",
        "  with open('text_copy.txt','w') as wf:\n",
        "    for line in rf:\n",
        "      wf.write(line)"
      ],
      "metadata": {
        "id": "oyRefEYLfqsR"
      },
      "execution_count": null,
      "outputs": []
    },
    {
      "cell_type": "code",
      "source": [],
      "metadata": {
        "id": "W_JLpTyzhVc3"
      },
      "execution_count": null,
      "outputs": []
    }
  ]
}