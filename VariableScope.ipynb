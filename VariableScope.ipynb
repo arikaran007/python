{
  "nbformat": 4,
  "nbformat_minor": 0,
  "metadata": {
    "colab": {
      "provenance": [],
      "authorship_tag": "ABX9TyPEXsovdM97wUUICfc1D/ow",
      "include_colab_link": true
    },
    "kernelspec": {
      "name": "python3",
      "display_name": "Python 3"
    },
    "language_info": {
      "name": "python"
    }
  },
  "cells": [
    {
      "cell_type": "markdown",
      "metadata": {
        "id": "view-in-github",
        "colab_type": "text"
      },
      "source": [
        "<a href=\"https://colab.research.google.com/github/arikaran007/python/blob/main/VariableScope.ipynb\" target=\"_parent\"><img src=\"https://colab.research.google.com/assets/colab-badge.svg\" alt=\"Open In Colab\"/></a>"
      ]
    },
    {
      "cell_type": "code",
      "execution_count": null,
      "metadata": {
        "colab": {
          "base_uri": "https://localhost:8080/"
        },
        "id": "iU2IcfsWeGR3",
        "outputId": "ca97afd7-09f9-4f41-8bac-a48849dee0fb"
      },
      "outputs": [
        {
          "output_type": "stream",
          "name": "stdout",
          "text": [
            "local y\n"
          ]
        }
      ],
      "source": [
        "x = 'global x'\n",
        "\n",
        "def test():\n",
        "  y = 'local y'\n",
        "  print(y)\n",
        "\n",
        "test()"
      ]
    },
    {
      "cell_type": "code",
      "source": [
        "x = 'global x'\n",
        "\n",
        "def test():\n",
        "  y = 'local y'\n",
        "  print(y)\n",
        "  print(x)\n",
        "\n",
        "test()"
      ],
      "metadata": {
        "colab": {
          "base_uri": "https://localhost:8080/"
        },
        "id": "X5Dij_5jeTbz",
        "outputId": "2b53bb99-ec56-4651-98d4-7699b02146a9"
      },
      "execution_count": null,
      "outputs": [
        {
          "output_type": "stream",
          "name": "stdout",
          "text": [
            "local y\n",
            "global x\n"
          ]
        }
      ]
    },
    {
      "cell_type": "code",
      "source": [
        "x = 'global x'\n",
        "\n",
        "def test():\n",
        "  x = 'local x'\n",
        "  print(x)\n",
        "\n",
        "test()\n",
        "print(x)"
      ],
      "metadata": {
        "colab": {
          "base_uri": "https://localhost:8080/"
        },
        "id": "KtjWsAG5eZWu",
        "outputId": "a8f20df2-f0d9-4023-8231-ad7d0bde0f85"
      },
      "execution_count": null,
      "outputs": [
        {
          "output_type": "stream",
          "name": "stdout",
          "text": [
            "local x\n",
            "global x\n"
          ]
        }
      ]
    },
    {
      "cell_type": "code",
      "source": [
        "''' x = 'global x' '''\n",
        "\n",
        "def test():\n",
        "  global x\n",
        "  x = 'local x'\n",
        "  print(x)\n",
        "\n",
        "test()\n",
        "print(x)\n"
      ],
      "metadata": {
        "colab": {
          "base_uri": "https://localhost:8080/"
        },
        "id": "L5YDZ934ehfX",
        "outputId": "40344d95-44c6-4fcc-856c-3b42b59c2596"
      },
      "execution_count": null,
      "outputs": [
        {
          "output_type": "stream",
          "name": "stdout",
          "text": [
            "local x\n",
            "local x\n"
          ]
        }
      ]
    },
    {
      "cell_type": "code",
      "source": [
        "def test(z):\n",
        "  x = 'local x'\n",
        "\n",
        "  print(z)\n",
        "\n",
        "test('local z')"
      ],
      "metadata": {
        "colab": {
          "base_uri": "https://localhost:8080/"
        },
        "id": "kvw1RWwaep_7",
        "outputId": "84591846-9b6c-4758-8a43-f7dd7edd13dd"
      },
      "execution_count": null,
      "outputs": [
        {
          "output_type": "stream",
          "name": "stdout",
          "text": [
            "local z\n"
          ]
        }
      ]
    },
    {
      "cell_type": "markdown",
      "source": [
        "Built in scope"
      ],
      "metadata": {
        "id": "uOnqToybfabk"
      }
    },
    {
      "cell_type": "code",
      "source": [
        "def outer():\n",
        "  x = 'outer x'\n",
        "\n",
        "  def inner():\n",
        "    x = 'inner x'\n",
        "    print(x)\n",
        "\n",
        "  inner()\n",
        "  print(x)\n",
        "\n",
        "outer()"
      ],
      "metadata": {
        "colab": {
          "base_uri": "https://localhost:8080/"
        },
        "id": "EzxJYwOjfZIh",
        "outputId": "bfd29c76-127f-46a9-ba98-5073533a7a63"
      },
      "execution_count": null,
      "outputs": [
        {
          "output_type": "stream",
          "name": "stdout",
          "text": [
            "inner x\n",
            "outer x\n"
          ]
        }
      ]
    },
    {
      "cell_type": "code",
      "source": [
        "def outer():\n",
        "  x = 'outer x'\n",
        "\n",
        "  def inner():\n",
        "    nonlocal x\n",
        "    x = 'inner x'\n",
        "    print(x)\n",
        "\n",
        "  inner()\n",
        "  print(x)\n",
        "\n",
        "outer()"
      ],
      "metadata": {
        "colab": {
          "base_uri": "https://localhost:8080/"
        },
        "id": "ipTzsCTVhHJ5",
        "outputId": "3bc6be26-c6a2-4bda-ea02-b1b4a2d01c37"
      },
      "execution_count": null,
      "outputs": [
        {
          "output_type": "stream",
          "name": "stdout",
          "text": [
            "inner x\n",
            "inner x\n"
          ]
        }
      ]
    },
    {
      "cell_type": "code",
      "source": [
        "def outer():\n",
        "  x = 'outer x'\n",
        "\n",
        "  def inner():\n",
        "    global x\n",
        "    x = 'inner x'\n",
        "    print(x)\n",
        "\n",
        "  inner()\n",
        "  print(x)\n",
        "\n",
        "outer()"
      ],
      "metadata": {
        "colab": {
          "base_uri": "https://localhost:8080/"
        },
        "id": "HGFKxWf2hg5D",
        "outputId": "c2bc56ba-48c5-4ed0-837d-e01f1aebb884"
      },
      "execution_count": null,
      "outputs": [
        {
          "output_type": "stream",
          "name": "stdout",
          "text": [
            "inner x\n",
            "outer x\n"
          ]
        }
      ]
    },
    {
      "cell_type": "code",
      "source": [
        "x = 'global x'\n",
        "\n",
        "def outer():\n",
        "  x = 'outer x'\n",
        "\n",
        "  def inner():\n",
        "\n",
        "    x = 'inner x'\n",
        "    print(x)\n",
        "\n",
        "  inner()\n",
        "  print(x)\n",
        "\n",
        "outer()\n",
        "print(x)"
      ],
      "metadata": {
        "colab": {
          "base_uri": "https://localhost:8080/"
        },
        "id": "jSeCoz5ZhlKC",
        "outputId": "9547f3a3-a809-4647-b3fd-f18ae335859c"
      },
      "execution_count": null,
      "outputs": [
        {
          "output_type": "stream",
          "name": "stdout",
          "text": [
            "inner x\n",
            "outer x\n",
            "global x\n"
          ]
        }
      ]
    },
    {
      "cell_type": "code",
      "source": [],
      "metadata": {
        "id": "etP-zNbKh7BO"
      },
      "execution_count": null,
      "outputs": []
    }
  ]
}