{
  "nbformat": 4,
  "nbformat_minor": 0,
  "metadata": {
    "colab": {
      "provenance": [],
      "authorship_tag": "ABX9TyMAs1Kubb35E2+xYyXUqiso",
      "include_colab_link": true
    },
    "kernelspec": {
      "name": "python3",
      "display_name": "Python 3"
    },
    "language_info": {
      "name": "python"
    }
  },
  "cells": [
    {
      "cell_type": "markdown",
      "metadata": {
        "id": "view-in-github",
        "colab_type": "text"
      },
      "source": [
        "<a href=\"https://colab.research.google.com/github/arikaran007/python/blob/main/EAFP.ipynb\" target=\"_parent\"><img src=\"https://colab.research.google.com/assets/colab-badge.svg\" alt=\"Open In Colab\"/></a>"
      ]
    },
    {
      "cell_type": "markdown",
      "source": [
        "Duck typing and asking forgiveness ,not permission(EAFP)"
      ],
      "metadata": {
        "id": "XzhvyWa3ZiWY"
      }
    },
    {
      "cell_type": "code",
      "execution_count": null,
      "metadata": {
        "colab": {
          "base_uri": "https://localhost:8080/"
        },
        "id": "uUaE60DlWMGb",
        "outputId": "30fccd0a-d7f7-463a-83ea-47b8da2ac15b"
      },
      "outputs": [
        {
          "output_type": "stream",
          "name": "stdout",
          "text": [
            "quack!\n",
            "fly!\n",
            "\n",
            "This has to be a Duck!\n",
            "\n"
          ]
        }
      ],
      "source": [
        "class duck:\n",
        "  def quack(self):\n",
        "    print('quack!')\n",
        "\n",
        "  def fly(self):\n",
        "    print('fly!')\n",
        "\n",
        "class person:\n",
        "   def quack(self):\n",
        "    print('Im Quacking Like a Duck')\n",
        "\n",
        "   def fly(self):\n",
        "    print('Im Flapping my Arms!')\n",
        "\n",
        "def quack_fly(thing):\n",
        "\n",
        "      if isinstance(thing, duck):\n",
        "        thing.quack()\n",
        "        thing.fly()\n",
        "      else:\n",
        "        print('This has to be a Duck!')\n",
        "\n",
        "      print()\n",
        "\n",
        "d=duck()\n",
        "quack_fly(d)\n",
        "\n",
        "p=person()\n",
        "quack_fly(p)"
      ]
    },
    {
      "cell_type": "code",
      "source": [
        "class duck:\n",
        "  def quack(self):\n",
        "    print('quack!')\n",
        "\n",
        "  def fly(self):\n",
        "    print('fly!')\n",
        "\n",
        "class person:\n",
        "   def quack(self):\n",
        "    print('Im Quacking Like a Duck')\n",
        "\n",
        "   def fly(self):\n",
        "    print('Im Flapping my Arms!')\n",
        "\n",
        "def quack_fly(thing):\n",
        "  thing.quack()\n",
        "  thing.fly()\n",
        "  print()\n",
        "\n",
        "d=duck()\n",
        "quack_fly(d)\n",
        "\n",
        "p=person()\n",
        "quack_fly(p)"
      ],
      "metadata": {
        "colab": {
          "base_uri": "https://localhost:8080/"
        },
        "id": "7f7B3bTGau_L",
        "outputId": "5370d056-8548-4e45-85db-f1ef56a70745"
      },
      "execution_count": null,
      "outputs": [
        {
          "output_type": "stream",
          "name": "stdout",
          "text": [
            "quack!\n",
            "fly!\n",
            "\n",
            "Im Quacking Like a Duck\n",
            "Im Flapping my Arms!\n",
            "\n"
          ]
        }
      ]
    },
    {
      "cell_type": "code",
      "source": [
        "class duck:\n",
        "  def quack(self):\n",
        "    print('quack!')\n",
        "\n",
        "  def fly(self):\n",
        "    print('fly!')\n",
        "\n",
        "class person:\n",
        "   def quack(self):\n",
        "    print('Im Quacking Like a Duck')\n",
        "\n",
        "   def fly(self):\n",
        "    print('Im Flapping my Arms!')\n",
        "\n",
        "def quack_fly(thing):\n",
        " #non-pythomatic\n",
        " if hasattr(thing,'quack'):\n",
        "  if callable(thing.quack):\n",
        "    thing.quack()\n",
        "\n",
        " if hasattr(thing,'fly'):\n",
        "  if callable(thing.fly):\n",
        "    thing.fly()\n",
        "\n",
        "d=duck()\n",
        "quack_fly(d)\n",
        "\n",
        "p=person()\n",
        "quack_fly(p)\n"
      ],
      "metadata": {
        "colab": {
          "base_uri": "https://localhost:8080/"
        },
        "id": "tKQtkrLbcvuB",
        "outputId": "b8406e99-f481-4da1-ac19-02492cd60aa1"
      },
      "execution_count": null,
      "outputs": [
        {
          "output_type": "stream",
          "name": "stdout",
          "text": [
            "quack!\n",
            "fly!\n",
            "Im Quacking Like a Duck\n",
            "Im Flapping my Arms!\n"
          ]
        }
      ]
    },
    {
      "cell_type": "code",
      "source": [
        "class duck:\n",
        "  def quack(self):\n",
        "    print('quack!')\n",
        "\n",
        "  def fly(self):\n",
        "    print('fly!')\n",
        "\n",
        "class person:\n",
        "   def quack(self):\n",
        "    print('Im Quacking Like a Duck')\n",
        "\n",
        "   def fly(self):\n",
        "    print('Im Flapping my Arms!')\n",
        "\n",
        "def quack_fly(thing):\n",
        " #pythomatic\n",
        " try:\n",
        "  thing.quack()\n",
        "  thing.fly()\n",
        " except AttributeError as e:\n",
        "  print(e)\n",
        "\n",
        "\n",
        "d=duck()\n",
        "quack_fly(d)\n",
        "\n",
        "p=person()\n",
        "quack_fly(p)\n"
      ],
      "metadata": {
        "colab": {
          "base_uri": "https://localhost:8080/"
        },
        "id": "KGTxwy62dTFI",
        "outputId": "393b2d90-fa0a-4eba-8772-576ef6486aad"
      },
      "execution_count": null,
      "outputs": [
        {
          "output_type": "stream",
          "name": "stdout",
          "text": [
            "quack!\n",
            "fly!\n",
            "Im Quacking Like a Duck\n",
            "Im Flapping my Arms!\n"
          ]
        }
      ]
    },
    {
      "cell_type": "code",
      "source": [],
      "metadata": {
        "id": "pCixnxeIdn0F"
      },
      "execution_count": null,
      "outputs": []
    }
  ]
}