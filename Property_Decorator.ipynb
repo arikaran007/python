{
  "nbformat": 4,
  "nbformat_minor": 0,
  "metadata": {
    "colab": {
      "provenance": [],
      "authorship_tag": "ABX9TyOnJjq18ToW7aVFoqNtHCWG",
      "include_colab_link": true
    },
    "kernelspec": {
      "name": "python3",
      "display_name": "Python 3"
    },
    "language_info": {
      "name": "python"
    }
  },
  "cells": [
    {
      "cell_type": "markdown",
      "metadata": {
        "id": "view-in-github",
        "colab_type": "text"
      },
      "source": [
        "<a href=\"https://colab.research.google.com/github/arikaran007/python/blob/main/Property_Decorator.ipynb\" target=\"_parent\"><img src=\"https://colab.research.google.com/assets/colab-badge.svg\" alt=\"Open In Colab\"/></a>"
      ]
    },
    {
      "cell_type": "code",
      "execution_count": null,
      "metadata": {
        "colab": {
          "base_uri": "https://localhost:8080/"
        },
        "id": "x7GOvAsmITKI",
        "outputId": "347ca06b-c4c0-476a-f56f-d975153eed05"
      },
      "outputs": [
        {
          "output_type": "stream",
          "name": "stdout",
          "text": [
            "ari\n",
            "arikaran@gmail.com\n",
            "ari karan\n"
          ]
        }
      ],
      "source": [
        "class Employee:\n",
        "\n",
        "    def __init__(self, first, last):\n",
        "        self.first = first\n",
        "        self.last = last\n",
        "        self.email = first + last + '@gmail.com'\n",
        "    def fullname(self):\n",
        "        return '{} {}'.format(self.first, self.last)\n",
        "\n",
        "emp1 = Employee('ari' , 'karan')\n",
        "\n",
        "print(emp1.first)\n",
        "print(emp1.email)\n",
        "print(emp1.fullname())\n"
      ]
    },
    {
      "cell_type": "code",
      "source": [
        "class Employee:\n",
        "\n",
        "    def __init__(self, first, last):\n",
        "        self.first = first\n",
        "        self.last = last\n",
        "        self.email = first + last + '@gmail.com'\n",
        "\n",
        "\n",
        "    @property\n",
        "    def fullname(self):\n",
        "        return '{}{}'.format(self.first, self.last)\n",
        "\n",
        "    @fullname.setter\n",
        "    def fullname(self,name):\n",
        "      first ,last = name.split(' ')\n",
        "      self.first=first\n",
        "      self.last=last\n",
        "\n",
        "emp1 = Employee('ari' , 'karan')\n",
        "\n",
        "emp1.fullname = 'karan ari'\n",
        "\n",
        "\n",
        "print(emp1.fullname)\n"
      ],
      "metadata": {
        "colab": {
          "base_uri": "https://localhost:8080/"
        },
        "id": "K5yJdaSaKsNd",
        "outputId": "202ebeda-0fc5-465e-c378-a1249f82fb8a"
      },
      "execution_count": null,
      "outputs": [
        {
          "output_type": "stream",
          "name": "stdout",
          "text": [
            "karanari\n"
          ]
        }
      ]
    },
    {
      "cell_type": "code",
      "source": [
        "class Employee:\n",
        "\n",
        "    def __init__(self, first, last):\n",
        "        self.first = first\n",
        "        self.last = last\n",
        "        self.email = first + last + '@gmail.com'\n",
        "\n",
        "\n",
        "    @property\n",
        "    def fullname(self):\n",
        "        return '{}{}'.format(self.first, self.last)\n",
        "\n",
        "    @fullname.setter\n",
        "    def fullname(self,name):\n",
        "      first ,last = name.split(' ')\n",
        "      self.first=first\n",
        "      self.last=last\n",
        "\n",
        "    @fullname.deleter\n",
        "    def fullname(self):\n",
        "      print('delete nME')\n",
        "      self.first =None\n",
        "      self.last = None\n",
        "\n",
        "emp1 = Employee('ari' , 'karan')\n",
        "\n",
        "emp1.fullname = 'karan ari'\n",
        "\n",
        "print(emp1.first)\n",
        "print(emp1.email)\n",
        "print(emp1.fullname)\n",
        "\n",
        "del emp1.fullname"
      ],
      "metadata": {
        "colab": {
          "base_uri": "https://localhost:8080/"
        },
        "id": "93A-R95PK_YA",
        "outputId": "a5bb5e1b-1268-47f9-bdf9-bf7811bca179"
      },
      "execution_count": null,
      "outputs": [
        {
          "output_type": "stream",
          "name": "stdout",
          "text": [
            "karan\n",
            "arikaran@gmail.com\n",
            "karanari\n",
            "delete nME\n"
          ]
        }
      ]
    },
    {
      "cell_type": "code",
      "source": [],
      "metadata": {
        "id": "mAdleIn5MHW1"
      },
      "execution_count": null,
      "outputs": []
    }
  ]
}