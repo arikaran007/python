{
  "nbformat": 4,
  "nbformat_minor": 0,
  "metadata": {
    "colab": {
      "provenance": [],
      "authorship_tag": "ABX9TyOGy3+6Y/umJ0aRS04Ag21+",
      "include_colab_link": true
    },
    "kernelspec": {
      "name": "python3",
      "display_name": "Python 3"
    },
    "language_info": {
      "name": "python"
    }
  },
  "cells": [
    {
      "cell_type": "markdown",
      "metadata": {
        "id": "view-in-github",
        "colab_type": "text"
      },
      "source": [
        "<a href=\"https://colab.research.google.com/github/arikaran007/python/blob/main/Functions.ipynb\" target=\"_parent\"><img src=\"https://colab.research.google.com/assets/colab-badge.svg\" alt=\"Open In Colab\"/></a>"
      ]
    },
    {
      "cell_type": "code",
      "execution_count": null,
      "metadata": {
        "colab": {
          "base_uri": "https://localhost:8080/"
        },
        "id": "1dned4nLKJT3",
        "outputId": "5b01f375-8d5b-46c1-fdc1-92e9ec1299f8"
      },
      "outputs": [
        {
          "output_type": "stream",
          "name": "stdout",
          "text": [
            "welcome!\n",
            "welcome!\n"
          ]
        }
      ],
      "source": [
        "def hello():\n",
        "  print(\"welcome!\")\n",
        "\n",
        "hello()\n",
        "hello()"
      ]
    },
    {
      "cell_type": "code",
      "source": [
        "def func():\n",
        "  return \"hello everyone\"\n",
        "\n",
        "print(func().upper())"
      ],
      "metadata": {
        "colab": {
          "base_uri": "https://localhost:8080/"
        },
        "id": "nWeSXJdHKcKa",
        "outputId": "e81cac10-fb4a-4d7a-d0ef-79b004cf4db0"
      },
      "execution_count": null,
      "outputs": [
        {
          "output_type": "stream",
          "name": "stdout",
          "text": [
            "HELLO EVERYONE\n"
          ]
        }
      ]
    },
    {
      "cell_type": "code",
      "source": [
        "def func(greeting,name='ari'):\n",
        "  return '{},{}'.format(greeting,name)\n",
        "\n",
        "print(func(\"hi\"))"
      ],
      "metadata": {
        "colab": {
          "base_uri": "https://localhost:8080/"
        },
        "id": "gXGLn3V3LdIu",
        "outputId": "0f874c91-7b1c-4cc7-8a9e-3896e7022587"
      },
      "execution_count": null,
      "outputs": [
        {
          "output_type": "stream",
          "name": "stdout",
          "text": [
            "hi,ari\n"
          ]
        }
      ]
    },
    {
      "cell_type": "code",
      "source": [
        "def func(greeting,name='ari'):\n",
        "  return '{},{}'.format(greeting,name)\n",
        "\n",
        "print(func(\"hi\",\"karan\"))"
      ],
      "metadata": {
        "colab": {
          "base_uri": "https://localhost:8080/"
        },
        "id": "hytDX8OzOHCT",
        "outputId": "be751780-e962-452b-9641-bb4d3cea3586"
      },
      "execution_count": null,
      "outputs": [
        {
          "output_type": "stream",
          "name": "stdout",
          "text": [
            "hi,karan\n"
          ]
        }
      ]
    },
    {
      "cell_type": "markdown",
      "source": [
        "positional keyword argument"
      ],
      "metadata": {
        "id": "HM9AZv69OOwR"
      }
    },
    {
      "cell_type": "code",
      "source": [
        "def stu_info(*args,**kwargs):\n",
        "  print(args)\n",
        "  print(kwargs)\n",
        "\n",
        "stu_info('math','science',name='ari',age=20)\n"
      ],
      "metadata": {
        "colab": {
          "base_uri": "https://localhost:8080/"
        },
        "id": "GEAIQ-QaOKnz",
        "outputId": "662e30af-5c21-4748-987b-b4b0c96b72b4"
      },
      "execution_count": null,
      "outputs": [
        {
          "output_type": "stream",
          "name": "stdout",
          "text": [
            "('math', 'science')\n",
            "{'name': 'ari', 'age': 20}\n"
          ]
        }
      ]
    },
    {
      "cell_type": "code",
      "source": [
        "def stu_info(*args,**kwargs):\n",
        "  print(args)\n",
        "  print(kwargs)\n",
        "\n",
        "courses = ['math','science']\n",
        "info = {'name':'ari','age':20}\n",
        "\n",
        "stu_info(courses,info)"
      ],
      "metadata": {
        "colab": {
          "base_uri": "https://localhost:8080/"
        },
        "id": "yZjqSKfBPej5",
        "outputId": "859dec89-ac77-474a-c357-08e805af28b6"
      },
      "execution_count": null,
      "outputs": [
        {
          "output_type": "stream",
          "name": "stdout",
          "text": [
            "(['math', 'science'], {'name': 'ari', 'age': 20})\n",
            "{}\n"
          ]
        }
      ]
    },
    {
      "cell_type": "code",
      "source": [
        "def stu_info(*args,**kwargs):\n",
        "  print(args)\n",
        "  print(kwargs)\n",
        "\n",
        "courses = ['math','science']\n",
        "info = {'name':'ari','age':20}\n",
        "\n",
        "stu_info(*courses,**info)"
      ],
      "metadata": {
        "colab": {
          "base_uri": "https://localhost:8080/"
        },
        "id": "6xOdvU0dP6pp",
        "outputId": "fc7023bf-816f-45f5-c09a-058712ef1249"
      },
      "execution_count": null,
      "outputs": [
        {
          "output_type": "stream",
          "name": "stdout",
          "text": [
            "('math', 'science')\n",
            "{'name': 'ari', 'age': 20}\n"
          ]
        }
      ]
    },
    {
      "cell_type": "markdown",
      "source": [
        "Example"
      ],
      "metadata": {
        "id": "L7gltrucQE1W"
      }
    },
    {
      "cell_type": "code",
      "source": [
        "month_days = [0,31,28,31,30,31,30,31,31,30,31,30,31]\n",
        "\n",
        "def is_leap(year):\n",
        "  return year % 4==0\n",
        "\n",
        "def days_in_mon(year,month):\n",
        "  if not 1<=month <=12:\n",
        "    return \"invalid\"\n",
        "  if month==2 and is_leap(year):\n",
        "    return 29\n",
        "\n",
        "  return month_days[month]\n",
        "\n",
        "print(is_leap(2017))\n",
        "print(days_in_mon(2017,1))\n"
      ],
      "metadata": {
        "colab": {
          "base_uri": "https://localhost:8080/"
        },
        "id": "0WqRaJvrQCsz",
        "outputId": "5ce90db5-b182-4ed4-a100-05256803f9bf"
      },
      "execution_count": null,
      "outputs": [
        {
          "output_type": "stream",
          "name": "stdout",
          "text": [
            "False\n",
            "31\n"
          ]
        }
      ]
    },
    {
      "cell_type": "code",
      "source": [],
      "metadata": {
        "id": "0-jfUwauScBn"
      },
      "execution_count": null,
      "outputs": []
    }
  ]
}