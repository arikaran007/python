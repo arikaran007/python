{
  "nbformat": 4,
  "nbformat_minor": 0,
  "metadata": {
    "colab": {
      "provenance": [],
      "authorship_tag": "ABX9TyMgNGacnBKxDhgyrY+3CyAZ",
      "include_colab_link": true
    },
    "kernelspec": {
      "name": "python3",
      "display_name": "Python 3"
    },
    "language_info": {
      "name": "python"
    }
  },
  "cells": [
    {
      "cell_type": "markdown",
      "metadata": {
        "id": "view-in-github",
        "colab_type": "text"
      },
      "source": [
        "<a href=\"https://colab.research.google.com/github/arikaran007/python/blob/main/Dictionary.ipynb\" target=\"_parent\"><img src=\"https://colab.research.google.com/assets/colab-badge.svg\" alt=\"Open In Colab\"/></a>"
      ]
    },
    {
      "cell_type": "code",
      "execution_count": 7,
      "metadata": {
        "colab": {
          "base_uri": "https://localhost:8080/"
        },
        "id": "Y84Z5QUbG98v",
        "outputId": "56b5141c-e5f5-40b3-8bf4-29f859cd61fc"
      },
      "outputs": [
        {
          "output_type": "stream",
          "name": "stdout",
          "text": [
            "{'name': 'ari', 'age': 20, 'courses': ['maths', 'science']}\n"
          ]
        }
      ],
      "source": [
        "student = {'name':'ari','age':20,'courses':['maths','science']}\n",
        "print(student)"
      ]
    },
    {
      "cell_type": "code",
      "source": [
        "print(student['age'])"
      ],
      "metadata": {
        "colab": {
          "base_uri": "https://localhost:8080/"
        },
        "id": "HQ3cpKiCLMVt",
        "outputId": "a1863029-a51a-431c-d88d-48a6d11bc6e9"
      },
      "execution_count": 8,
      "outputs": [
        {
          "output_type": "stream",
          "name": "stdout",
          "text": [
            "20\n"
          ]
        }
      ]
    },
    {
      "cell_type": "code",
      "source": [
        "print(student.get('phone'))"
      ],
      "metadata": {
        "colab": {
          "base_uri": "https://localhost:8080/"
        },
        "id": "kTPpx93ZLIGb",
        "outputId": "dddbb15d-f842-4948-f0b1-5631d9618a27"
      },
      "execution_count": 9,
      "outputs": [
        {
          "output_type": "stream",
          "name": "stdout",
          "text": [
            "None\n"
          ]
        }
      ]
    },
    {
      "cell_type": "code",
      "source": [
        "student.update({'name':'karn','phone':2435233})\n",
        "print(student)"
      ],
      "metadata": {
        "colab": {
          "base_uri": "https://localhost:8080/"
        },
        "id": "ayTtEEixLpgn",
        "outputId": "8e04737e-43de-4d18-d792-5dcb0cb17cb0"
      },
      "execution_count": 10,
      "outputs": [
        {
          "output_type": "stream",
          "name": "stdout",
          "text": [
            "{'name': 'karn', 'age': 20, 'courses': ['maths', 'science'], 'phone': 2435233}\n"
          ]
        }
      ]
    },
    {
      "cell_type": "code",
      "source": [
        "age = student.pop('age')\n",
        "print(student)\n",
        "print(age)"
      ],
      "metadata": {
        "colab": {
          "base_uri": "https://localhost:8080/"
        },
        "id": "f2kPzlaYL9k4",
        "outputId": "d7ea03c2-4600-4aec-9123-4f2bf17b4a49"
      },
      "execution_count": 11,
      "outputs": [
        {
          "output_type": "stream",
          "name": "stdout",
          "text": [
            "{'name': 'karn', 'courses': ['maths', 'science'], 'phone': 2435233}\n",
            "20\n"
          ]
        }
      ]
    },
    {
      "cell_type": "code",
      "source": [
        "print(len(student))\n",
        "print(student.values())\n",
        "print(student.keys())\n",
        "print(student.items())"
      ],
      "metadata": {
        "colab": {
          "base_uri": "https://localhost:8080/"
        },
        "id": "ZzSepTbVMH_I",
        "outputId": "ef90a03e-8a86-47e4-a655-6e69c918abcf"
      },
      "execution_count": 12,
      "outputs": [
        {
          "output_type": "stream",
          "name": "stdout",
          "text": [
            "3\n",
            "dict_values(['karn', ['maths', 'science'], 2435233])\n",
            "dict_keys(['name', 'courses', 'phone'])\n",
            "dict_items([('name', 'karn'), ('courses', ['maths', 'science']), ('phone', 2435233)])\n"
          ]
        }
      ]
    },
    {
      "cell_type": "code",
      "source": [
        "for key,values in student.items():\n",
        "  print(key,values)"
      ],
      "metadata": {
        "colab": {
          "base_uri": "https://localhost:8080/"
        },
        "id": "wLW676ISMWM6",
        "outputId": "83652008-a032-4bdc-a590-4add89c94f8e"
      },
      "execution_count": 15,
      "outputs": [
        {
          "output_type": "stream",
          "name": "stdout",
          "text": [
            "name karn\n",
            "courses ['maths', 'science']\n",
            "phone 2435233\n"
          ]
        }
      ]
    },
    {
      "cell_type": "code",
      "source": [],
      "metadata": {
        "id": "HWRyzHTuMc18"
      },
      "execution_count": null,
      "outputs": []
    }
  ]
}