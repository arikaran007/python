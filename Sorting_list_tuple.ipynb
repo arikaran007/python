{
  "nbformat": 4,
  "nbformat_minor": 0,
  "metadata": {
    "colab": {
      "provenance": [],
      "authorship_tag": "ABX9TyOWURe3ImpMypmH2EsdWuqG",
      "include_colab_link": true
    },
    "kernelspec": {
      "name": "python3",
      "display_name": "Python 3"
    },
    "language_info": {
      "name": "python"
    }
  },
  "cells": [
    {
      "cell_type": "markdown",
      "metadata": {
        "id": "view-in-github",
        "colab_type": "text"
      },
      "source": [
        "<a href=\"https://colab.research.google.com/github/arikaran007/python/blob/main/Sorting_list_tuple.ipynb\" target=\"_parent\"><img src=\"https://colab.research.google.com/assets/colab-badge.svg\" alt=\"Open In Colab\"/></a>"
      ]
    },
    {
      "cell_type": "code",
      "execution_count": null,
      "metadata": {
        "colab": {
          "base_uri": "https://localhost:8080/"
        },
        "id": "iy-znv7q00xW",
        "outputId": "364f6950-2e24-4812-819f-945a4eab90b6"
      },
      "outputs": [
        {
          "output_type": "stream",
          "name": "stdout",
          "text": [
            "[1, 2, 3, 4, 5, 6, 7, 8, 9]\n"
          ]
        }
      ],
      "source": [
        "li = [4,6,3,8,1,9,2,5,7]\n",
        "\n",
        "s_li = sorted(li)\n",
        "print(s_li)"
      ]
    },
    {
      "cell_type": "code",
      "source": [
        "s_li = sorted(li,reverse  = True)\n",
        "print(s_li)"
      ],
      "metadata": {
        "colab": {
          "base_uri": "https://localhost:8080/"
        },
        "id": "WbhSTeif2Fwi",
        "outputId": "7b38c5bc-46fc-498f-f7da-cb83ba68ea1e"
      },
      "execution_count": null,
      "outputs": [
        {
          "output_type": "stream",
          "name": "stdout",
          "text": [
            "[9, 8, 7, 6, 5, 4, 3, 2, 1]\n"
          ]
        }
      ]
    },
    {
      "cell_type": "code",
      "source": [
        "li.sort()"
      ],
      "metadata": {
        "id": "77K1OrcK2Q3k"
      },
      "execution_count": null,
      "outputs": []
    },
    {
      "cell_type": "code",
      "source": [
        "tup = (4,6,3,8,1,9,2,5,7)\n",
        "\n",
        "s_tup = sorted(tup)\n",
        "print(s_tup)"
      ],
      "metadata": {
        "colab": {
          "base_uri": "https://localhost:8080/"
        },
        "id": "FDOzhe-w3oNm",
        "outputId": "1541170f-0131-41a7-9b79-dc24bd9e653d"
      },
      "execution_count": null,
      "outputs": [
        {
          "output_type": "stream",
          "name": "stdout",
          "text": [
            "[1, 2, 3, 4, 5, 6, 7, 8, 9]\n"
          ]
        }
      ]
    },
    {
      "cell_type": "code",
      "source": [
        "li = [-6,-5,-4,1,2,3]\n",
        "s_li = sorted(li)\n",
        "print(s_li)"
      ],
      "metadata": {
        "colab": {
          "base_uri": "https://localhost:8080/"
        },
        "id": "Vsf402bf4EsQ",
        "outputId": "ccf4829d-7882-4422-a067-3bbdf92574f6"
      },
      "execution_count": null,
      "outputs": [
        {
          "output_type": "stream",
          "name": "stdout",
          "text": [
            "[-6, -5, -4, 1, 2, 3]\n"
          ]
        }
      ]
    },
    {
      "cell_type": "code",
      "source": [
        "s_li = sorted(li ,key=abs)\n",
        "print(s_li)"
      ],
      "metadata": {
        "colab": {
          "base_uri": "https://localhost:8080/"
        },
        "id": "pB1XL1mG4pS5",
        "outputId": "36c93d10-a292-44c9-c9c7-abbf3733e6e8"
      },
      "execution_count": null,
      "outputs": [
        {
          "output_type": "stream",
          "name": "stdout",
          "text": [
            "[1, 2, 3, -4, -5, -6]\n"
          ]
        }
      ]
    },
    {
      "cell_type": "code",
      "source": [
        "class Employee():\n",
        "  def __init__(self,name,age,salary):\n",
        "    self.name=name\n",
        "    self.age = age\n",
        "    self.salary = salary\n",
        "\n",
        "  def __repr__(self):\n",
        "    return '{},{},{}'.format(self.name,self.age,self.salary)\n",
        "\n",
        "e1 = Employee('ari',23,290439390)\n",
        "e2 = Employee('kar',21,134567803)\n",
        "e3 = Employee('mug',12,4564798693)\n",
        "\n",
        "e_li  = [e1,e2,e3]\n",
        "\n",
        "def e_sort(emp):\n",
        "  return emp.salary\n",
        "\n",
        "s_emp = sorted(e_li,key=e_sort)\n",
        "print(s_emp)"
      ],
      "metadata": {
        "colab": {
          "base_uri": "https://localhost:8080/"
        },
        "id": "CnaFFZQl4tFN",
        "outputId": "6d1c1116-5ca0-464d-85c0-77c86560fa41"
      },
      "execution_count": null,
      "outputs": [
        {
          "output_type": "stream",
          "name": "stdout",
          "text": [
            "[kar,21,134567803, ari,23,290439390, mug,12,4564798693]\n"
          ]
        }
      ]
    },
    {
      "cell_type": "code",
      "source": [
        "class Employee():\n",
        "  def __init__(self,name,age,salary):\n",
        "    self.name=name\n",
        "    self.age = age\n",
        "    self.salary = salary\n",
        "\n",
        "  def __repr__(self):\n",
        "    return '{},{},{}'.format(self.name,self.age,self.salary)\n",
        "\n",
        "e1 = Employee('ari',23,290439390)\n",
        "e2 = Employee('kar',21,134567803)\n",
        "e3 = Employee('mug',12,4564798693)\n",
        "\n",
        "e_li  = [e1,e2,e3]\n",
        "\n",
        "\n",
        "\n",
        "s_emp = sorted(e_li,key=lambda e:e.salary)\n",
        "print(s_emp)"
      ],
      "metadata": {
        "colab": {
          "base_uri": "https://localhost:8080/"
        },
        "id": "7nyyGn_866la",
        "outputId": "f9faa4cb-a31f-4938-8cf1-c6e527c00292"
      },
      "execution_count": null,
      "outputs": [
        {
          "output_type": "stream",
          "name": "stdout",
          "text": [
            "[kar,21,134567803, ari,23,290439390, mug,12,4564798693]\n"
          ]
        }
      ]
    },
    {
      "cell_type": "code",
      "source": [
        "class Employee():\n",
        "  def __init__(self,name,age,salary):\n",
        "    self.name=name\n",
        "    self.age = age\n",
        "    self.salary = salary\n",
        "\n",
        "  def __repr__(self):\n",
        "    return '{},{},{}'.format(self.name,self.age,self.salary)\n",
        "\n",
        "e1 = Employee('ari',23,290439390)\n",
        "e2 = Employee('kar',21,134567803)\n",
        "e3 = Employee('mug',12,4564798693)\n",
        "\n",
        "e_li  = [e1,e2,e3]\n",
        "from operator import attrgetter\n",
        "\n",
        "\n",
        "s_emp = sorted(e_li,key=attrgetter('age'))\n",
        "print(s_emp)"
      ],
      "metadata": {
        "colab": {
          "base_uri": "https://localhost:8080/"
        },
        "id": "kZvUIDxj7HHn",
        "outputId": "0e166435-a34c-4144-ecb0-937be706f90a"
      },
      "execution_count": null,
      "outputs": [
        {
          "output_type": "stream",
          "name": "stdout",
          "text": [
            "[mug,12,4564798693, kar,21,134567803, ari,23,290439390]\n"
          ]
        }
      ]
    },
    {
      "cell_type": "code",
      "source": [],
      "metadata": {
        "id": "UgPKD2ZS7ZaG"
      },
      "execution_count": null,
      "outputs": []
    }
  ]
}