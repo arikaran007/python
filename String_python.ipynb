{
  "nbformat": 4,
  "nbformat_minor": 0,
  "metadata": {
    "colab": {
      "provenance": [],
      "authorship_tag": "ABX9TyO+QeeMZG7fdEbYwkS2Li8d",
      "include_colab_link": true
    },
    "kernelspec": {
      "name": "python3",
      "display_name": "Python 3"
    },
    "language_info": {
      "name": "python"
    }
  },
  "cells": [
    {
      "cell_type": "markdown",
      "metadata": {
        "id": "view-in-github",
        "colab_type": "text"
      },
      "source": [
        "<a href=\"https://colab.research.google.com/github/arikaran007/python/blob/main/String_python.ipynb\" target=\"_parent\"><img src=\"https://colab.research.google.com/assets/colab-badge.svg\" alt=\"Open In Colab\"/></a>"
      ]
    },
    {
      "cell_type": "code",
      "source": [
        "msg = \"Hello everyone\"\n",
        "\n",
        "print(msg)"
      ],
      "metadata": {
        "colab": {
          "base_uri": "https://localhost:8080/"
        },
        "id": "bSw01lHr2kUy",
        "outputId": "964b707f-841b-423a-a656-b4688be28df2"
      },
      "execution_count": 4,
      "outputs": [
        {
          "output_type": "stream",
          "name": "stdout",
          "text": [
            "Hello everyone\n"
          ]
        }
      ]
    },
    {
      "cell_type": "code",
      "source": [
        "print(len(msg))\n",
        "print(msg[2])\n",
        "print(msg[0:4])"
      ],
      "metadata": {
        "colab": {
          "base_uri": "https://localhost:8080/"
        },
        "id": "XtKYyjl42kSU",
        "outputId": "09593e30-a65d-454c-9047-ccd005baf865"
      },
      "execution_count": 5,
      "outputs": [
        {
          "output_type": "stream",
          "name": "stdout",
          "text": [
            "14\n",
            "l\n",
            "Hell\n"
          ]
        }
      ]
    },
    {
      "cell_type": "code",
      "source": [
        "print(msg.find('o'))\n",
        "print(msg.count('o'))\n",
        "print(msg.lower())\n",
        "print(msg.upper())"
      ],
      "metadata": {
        "colab": {
          "base_uri": "https://localhost:8080/"
        },
        "id": "OjcdN-2P2kOP",
        "outputId": "a3cea734-9137-41f0-ce8f-493c1fe849c9"
      },
      "execution_count": 7,
      "outputs": [
        {
          "output_type": "stream",
          "name": "stdout",
          "text": [
            "4\n",
            "2\n",
            "hello everyone\n",
            "HELLO EVERYONE\n"
          ]
        }
      ]
    },
    {
      "cell_type": "code",
      "source": [
        "new_msg = msg.replace('everyone','world')\n",
        "print(new_msg)"
      ],
      "metadata": {
        "colab": {
          "base_uri": "https://localhost:8080/"
        },
        "id": "7eOvBAHf2kFE",
        "outputId": "4f2591dd-0d3c-46b3-c78f-6430f3aa8e71"
      },
      "execution_count": 8,
      "outputs": [
        {
          "output_type": "stream",
          "name": "stdout",
          "text": [
            "Hello world\n"
          ]
        }
      ]
    },
    {
      "cell_type": "code",
      "source": [
        "greeting = \"hello\"\n",
        "name =\"ari\"\n",
        "\n",
        "message = greeting + name\n",
        "print(message)\n",
        "\n",
        "message = greeting + ', ' + name\n",
        "print(message)\n",
        "\n",
        "message = '{},{}, welcome!'.format(greeting,name)\n",
        "print(message)\n",
        "\n",
        "message = f'{greeting},{name}, welcome!'\n",
        "print(message)\n",
        "\n",
        "message = f'{greeting},{name.upper()}, welcome!'\n",
        "print(message)"
      ],
      "metadata": {
        "colab": {
          "base_uri": "https://localhost:8080/"
        },
        "id": "XnaIeBST3r2g",
        "outputId": "d16c6ac9-8780-4dbd-a8be-626839281982"
      },
      "execution_count": 17,
      "outputs": [
        {
          "output_type": "stream",
          "name": "stdout",
          "text": [
            "helloari\n",
            "hello, ari\n",
            "hello,ari, welcome!\n",
            "hello,ari, welcome!\n",
            "hello,ARI, welcome!\n"
          ]
        }
      ]
    },
    {
      "cell_type": "code",
      "source": [
        "print(dir(name))"
      ],
      "metadata": {
        "colab": {
          "base_uri": "https://localhost:8080/"
        },
        "id": "yUE5xvVT4AYY",
        "outputId": "63c10cd8-5beb-4d74-92e5-aa8f0f5e8561"
      },
      "execution_count": 18,
      "outputs": [
        {
          "output_type": "stream",
          "name": "stdout",
          "text": [
            "['__add__', '__class__', '__contains__', '__delattr__', '__dir__', '__doc__', '__eq__', '__format__', '__ge__', '__getattribute__', '__getitem__', '__getnewargs__', '__gt__', '__hash__', '__init__', '__init_subclass__', '__iter__', '__le__', '__len__', '__lt__', '__mod__', '__mul__', '__ne__', '__new__', '__reduce__', '__reduce_ex__', '__repr__', '__rmod__', '__rmul__', '__setattr__', '__sizeof__', '__str__', '__subclasshook__', 'capitalize', 'casefold', 'center', 'count', 'encode', 'endswith', 'expandtabs', 'find', 'format', 'format_map', 'index', 'isalnum', 'isalpha', 'isascii', 'isdecimal', 'isdigit', 'isidentifier', 'islower', 'isnumeric', 'isprintable', 'isspace', 'istitle', 'isupper', 'join', 'ljust', 'lower', 'lstrip', 'maketrans', 'partition', 'removeprefix', 'removesuffix', 'replace', 'rfind', 'rindex', 'rjust', 'rpartition', 'rsplit', 'rstrip', 'split', 'splitlines', 'startswith', 'strip', 'swapcase', 'title', 'translate', 'upper', 'zfill']\n"
          ]
        }
      ]
    },
    {
      "cell_type": "code",
      "source": [
        "print(help(str.lower))"
      ],
      "metadata": {
        "colab": {
          "base_uri": "https://localhost:8080/"
        },
        "id": "HL9m6fGa49Og",
        "outputId": "af6831d5-6500-421e-9e8c-adc243815512"
      },
      "execution_count": 20,
      "outputs": [
        {
          "output_type": "stream",
          "name": "stdout",
          "text": [
            "Help on method_descriptor:\n",
            "\n",
            "lower(self, /)\n",
            "    Return a copy of the string converted to lowercase.\n",
            "\n",
            "None\n"
          ]
        }
      ]
    },
    {
      "cell_type": "code",
      "source": [],
      "metadata": {
        "id": "LaQGPUTL5FR4"
      },
      "execution_count": null,
      "outputs": []
    }
  ]
}