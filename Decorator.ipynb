{
  "cells": [
    {
      "cell_type": "markdown",
      "metadata": {
        "id": "view-in-github",
        "colab_type": "text"
      },
      "source": [
        "<a href=\"https://colab.research.google.com/github/arikaran007/python/blob/main/Decorator.ipynb\" target=\"_parent\"><img src=\"https://colab.research.google.com/assets/colab-badge.svg\" alt=\"Open In Colab\"/></a>"
      ]
    },
    {
      "cell_type": "markdown",
      "metadata": {
        "id": "o9GWrCHkfO6o"
      },
      "source": [
        "decorator is defined by using a function to another function as an argument"
      ]
    },
    {
      "cell_type": "code",
      "execution_count": null,
      "metadata": {
        "colab": {
          "base_uri": "https://localhost:8080/"
        },
        "id": "nOn9FEwQfJ8F",
        "outputId": "fe8eb26c-c73d-4f0c-ffbd-086ed5849c8c"
      },
      "outputs": [
        {
          "name": "stdout",
          "output_type": "stream",
          "text": [
            "wrapper expeted before display\n"
          ]
        },
        {
          "data": {
            "text/plain": [
              "<function __main__.display()>"
            ]
          },
          "execution_count": 2,
          "metadata": {},
          "output_type": "execute_result"
        }
      ],
      "source": [
        "def decorator_fun(original_func):\n",
        "  def wrapper_text():\n",
        "    print('wrapper expeted before {}'.format(original_func.__name__))\n",
        "    return original_func\n",
        "  return wrapper_text\n",
        "\n",
        "def display():\n",
        "  print(\"display run\")\n",
        "\n",
        "decorate_display = decorator_fun(display)\n",
        "\n",
        "decorate_display()\n"
      ]
    },
    {
      "cell_type": "code",
      "execution_count": null,
      "metadata": {
        "colab": {
          "background_save": true,
          "base_uri": "https://localhost:8080/"
        },
        "id": "jFjVzPHLhLdH",
        "outputId": "e352c3d2-1378-450c-f6da-d36a072e3877"
      },
      "outputs": [
        {
          "name": "stdout",
          "output_type": "stream",
          "text": [
            "wrapper expeted before display\n"
          ]
        },
        {
          "data": {
            "text/plain": [
              "<function __main__.display()>"
            ]
          },
          "execution_count": 4,
          "metadata": {},
          "output_type": "execute_result"
        }
      ],
      "source": [
        "def decorator_fun(original_func):\n",
        "  def wrapper_text():\n",
        "    print('wrapper expeted before {}'.format(original_func.__name__))\n",
        "    return original_func\n",
        "  return wrapper_text\n",
        "\n",
        "@decorator_fu\n",
        "def display():\n",
        "  print(\"display run\")\n",
        "\n",
        "display()"
      ]
    },
    {
      "cell_type": "code",
      "execution_count": null,
      "metadata": {
        "id": "sFCXqdApiFWA"
      },
      "outputs": [],
      "source": []
    }
  ],
  "metadata": {
    "colab": {
      "provenance": [],
      "authorship_tag": "ABX9TyOECs57C2UBD5iDWY263alS",
      "include_colab_link": true
    },
    "kernelspec": {
      "display_name": "Python 3",
      "name": "python3"
    },
    "language_info": {
      "name": "python"
    }
  },
  "nbformat": 4,
  "nbformat_minor": 0
}