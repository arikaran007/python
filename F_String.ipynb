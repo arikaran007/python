{
  "nbformat": 4,
  "nbformat_minor": 0,
  "metadata": {
    "colab": {
      "provenance": [],
      "authorship_tag": "ABX9TyPv8NUGp3VRzSpDM5D41N3I",
      "include_colab_link": true
    },
    "kernelspec": {
      "name": "python3",
      "display_name": "Python 3"
    },
    "language_info": {
      "name": "python"
    }
  },
  "cells": [
    {
      "cell_type": "markdown",
      "metadata": {
        "id": "view-in-github",
        "colab_type": "text"
      },
      "source": [
        "<a href=\"https://colab.research.google.com/github/arikaran007/python/blob/main/F_String.ipynb\" target=\"_parent\"><img src=\"https://colab.research.google.com/assets/colab-badge.svg\" alt=\"Open In Colab\"/></a>"
      ]
    },
    {
      "cell_type": "code",
      "execution_count": null,
      "metadata": {
        "colab": {
          "base_uri": "https://localhost:8080/"
        },
        "id": "H4M4NqvIeEey",
        "outputId": "b3743914-8ed1-49bc-ca45-5968abdde1e5"
      },
      "outputs": [
        {
          "output_type": "stream",
          "name": "stdout",
          "text": [
            "my name is ari karan and i am good\n"
          ]
        }
      ],
      "source": [
        "first_name = 'ari'\n",
        "last_name = 'karan'\n",
        "\n",
        "sentence = 'my name is {} {} and i am good'.format(first_name,last_name)\n",
        "print(sentence)"
      ]
    },
    {
      "cell_type": "code",
      "source": [
        "\n",
        "sentence = f'my name is {first_name} {last_name} '\n",
        "print(sentence)"
      ],
      "metadata": {
        "colab": {
          "base_uri": "https://localhost:8080/"
        },
        "id": "SGBabrrsetGN",
        "outputId": "5cd053b6-94a8-4155-9785-98f6dfdd6f34"
      },
      "execution_count": null,
      "outputs": [
        {
          "output_type": "stream",
          "name": "stdout",
          "text": [
            "my name is ari karan \n"
          ]
        }
      ]
    },
    {
      "cell_type": "code",
      "source": [
        "\n",
        "sentence = f'my name is {first_name.upper()} {last_name.lower()} '\n",
        "print(sentence)"
      ],
      "metadata": {
        "colab": {
          "base_uri": "https://localhost:8080/"
        },
        "id": "JshZOFJJe6sk",
        "outputId": "ca8924f1-71da-4d5a-c71b-d16a2466cbfb"
      },
      "execution_count": null,
      "outputs": [
        {
          "output_type": "stream",
          "name": "stdout",
          "text": [
            "my name is ARI karan \n"
          ]
        }
      ]
    },
    {
      "cell_type": "code",
      "source": [
        "person = {'name':'ari','age':20}\n",
        "\n",
        "sentence = 'my name is {} and my age is {}'.format(person['name'],person['age'])\n",
        "print(sentence)"
      ],
      "metadata": {
        "colab": {
          "base_uri": "https://localhost:8080/"
        },
        "id": "j8wIDOOxfCqU",
        "outputId": "326508e0-81de-4b06-91bc-c0d6b57a449a"
      },
      "execution_count": null,
      "outputs": [
        {
          "output_type": "stream",
          "name": "stdout",
          "text": [
            "my name is ari and my age is 20\n"
          ]
        }
      ]
    },
    {
      "cell_type": "code",
      "source": [
        "person = {'name':'ari','age':20}\n",
        "\n",
        "sentence = f\"my name is {person['name']} and my age is {person['age']}\"\n",
        "print(sentence)"
      ],
      "metadata": {
        "colab": {
          "base_uri": "https://localhost:8080/"
        },
        "id": "KUVdDyxnfes7",
        "outputId": "329d316e-84a3-4502-f8ee-ceb3aaa4d78b"
      },
      "execution_count": null,
      "outputs": [
        {
          "output_type": "stream",
          "name": "stdout",
          "text": [
            "my name is ari and my age is 20\n"
          ]
        }
      ]
    },
    {
      "cell_type": "code",
      "source": [
        "for n in range(1,5):\n",
        "  value = f'the value is {n:03}'\n",
        "  print(value)"
      ],
      "metadata": {
        "colab": {
          "base_uri": "https://localhost:8080/"
        },
        "id": "79vVxeDwf1P2",
        "outputId": "b1db80f9-ea85-4105-bcf6-8a501ad0658d"
      },
      "execution_count": null,
      "outputs": [
        {
          "output_type": "stream",
          "name": "stdout",
          "text": [
            "the value is 001\n",
            "the value is 002\n",
            "the value is 003\n",
            "the value is 004\n"
          ]
        }
      ]
    },
    {
      "cell_type": "code",
      "source": [
        "from datetime import datetime\n",
        "\n",
        "birthday = datetime(2004,6,6)\n",
        "\n",
        "sen = f'birthday date is {birthday}'\n",
        "print(sen)"
      ],
      "metadata": {
        "colab": {
          "base_uri": "https://localhost:8080/"
        },
        "id": "4ZJkLG0XgRHs",
        "outputId": "6be07058-cf30-4599-f13f-03c56e85996c"
      },
      "execution_count": null,
      "outputs": [
        {
          "output_type": "stream",
          "name": "stdout",
          "text": [
            "birthday date is 2004-06-06 00:00:00\n"
          ]
        }
      ]
    },
    {
      "cell_type": "code",
      "source": [],
      "metadata": {
        "id": "iXAB-jTrgyc0"
      },
      "execution_count": null,
      "outputs": []
    }
  ]
}