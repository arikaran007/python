{
  "nbformat": 4,
  "nbformat_minor": 0,
  "metadata": {
    "colab": {
      "provenance": [],
      "authorship_tag": "ABX9TyNB/pGnflfjMG8RULzwki8K",
      "include_colab_link": true
    },
    "kernelspec": {
      "name": "python3",
      "display_name": "Python 3"
    },
    "language_info": {
      "name": "python"
    }
  },
  "cells": [
    {
      "cell_type": "markdown",
      "metadata": {
        "id": "view-in-github",
        "colab_type": "text"
      },
      "source": [
        "<a href=\"https://colab.research.google.com/github/arikaran007/python/blob/main/parse_csv.ipynb\" target=\"_parent\"><img src=\"https://colab.research.google.com/assets/colab-badge.svg\" alt=\"Open In Colab\"/></a>"
      ]
    },
    {
      "cell_type": "code",
      "execution_count": null,
      "metadata": {
        "colab": {
          "base_uri": "https://localhost:8080/"
        },
        "id": "oJxUyQsg9l9r",
        "outputId": "675444ed-0807-4e5a-dfc6-9b763f886b7d"
      },
      "outputs": [
        {
          "output_type": "stream",
          "name": "stdout",
          "text": [
            "['FirstName', 'LastName', 'Email', 'Pledge', 'Lifetime', 'Status', 'Country', 'Start']\n",
            "['1 + Reward', 'Description I will add your name to the contributors page on\\xa0my website.\\n\\nYou will also be eligible for Patreon-only rewards. I will occasionally give away books that I have read, and will choose a Patron at random to receive those.', '', '', '', '', '', '']\n",
            "['John', 'Doe', 'johndoe@bogusemail.com', '10.00', '20.00', 'Ok', '', '2017-05-06 21:28:06.183108']\n",
            "['Dave', 'Smith', 'davesmith@bogusemail.com', '5.00', '10.00', 'Ok', '', '2017-05-29 16:13:58.318920']\n",
            "['Mary', 'Jacobs', 'maryjacobs@bogusemail.com', '5.00', '10.00', 'Ok', '', '2017-05-14 07:37:01.074648']\n",
            "['Jane', 'Stuart', 'janestuart@bogusemail.com', '5.00', '25.00', 'Ok', '', '2016-12-30 18:12:13']\n",
            "['Tom', 'Wright', 'tomwright@bogusemail.com', '5.00', '15.00', 'Ok', '', '2017-04-14 04:02:06.658439']\n",
            "['Steve', 'Robinson', 'steverobinson@bogusemail.com', '5.00', '20.00', 'Ok', '', '2017-03-17 02:20:14']\n",
            "['Nicole', 'Jacobs', 'nicolejacobs@bogusemail.com', '5.00', '20.00', 'Ok', '', '2017-03-12 17:07:29']\n",
            "['Jane', 'Wright', 'janewright@bogusemail.com', '5.00', '25.00', '', '', '2017-01-14 17:40:06']\n",
            "['Jane', 'Doe', 'janedoe@bogusemail.com', '2.50', '5.00', 'Ok', '', '2017-05-14 11:20:50.798440']\n",
            "['Kurt', 'Wright', 'kurtwright@bogusemail.com', '2.00', '2.00', 'Ok', '', '2017-06-23 21:12:15.662157']\n",
            "['Kurt', 'Robinson', 'kurtrobinson@bogusemail.com', '2.00', '4.00', 'Ok', '', '2017-05-03 03:18:54.877885']\n",
            "['Jane', 'Jenkins', 'janejenkins@bogusemail.com', '2.00', '8.00', 'Ok', '', '2017-03-23 16:37:47.708634']\n",
            "['Neil', 'Robinson', 'neilrobinson@bogusemail.com', '1.50', '3.00', 'Ok', '', '2017-05-26 19:59:51.013984']\n",
            "['Tom', 'Patterson', 'tompatterson@bogusemail.com', '1.34', '4.02', 'Ok', '', '2017-04-27 01:55:12.313799']\n",
            "['Sam', 'Jenkins', 'samjenkins@bogusemail.com', '1.00', '0.00', 'Ok', '', '2017-07-16 02:34:47.674287']\n",
            "['Steve', 'Stuart', 'stevestuart@bogusemail.com', '1.00', '1.00', 'Ok', '', '2017-06-12 03:32:00.706554']\n",
            "['Maggie', 'Patterson', 'maggiepatterson@bogusemail.com', '1.00', '2.00', 'Ok', '', '2017-05-26 01:23:14.097393']\n",
            "['Maggie', 'Stuart', 'maggiestuart@bogusemail.com', '1.00', '2.00', 'Ok', '', '2017-05-19 23:11:08.624354']\n",
            "['Jane', 'Doe', 'janedoe@bogusemail.com', '1.00', '3.00', 'Ok', '', '2017-04-15 19:40:17.044921']\n",
            "['Steve', 'Patterson', 'stevepatterson@bogusemail.com', '1.00', '3.00', 'Ok', '', '2017-04-09 17:14:23.591656']\n",
            "['Dave', 'Smith', 'davesmith@bogusemail.com', '1.00', '3.00', 'Ok', '', '2017-04-01 18:35:10.731005']\n",
            "['Sam', 'Wilks', 'samwilks@bogusemail.com', '1.00', '4.00', 'Ok', '', '2017-03-01 09:40:56']\n",
            "['Kurt', 'Jefferson', 'kurtjefferson@bogusemail.com', '1.00', '5.00', 'Ok', '', '2017-02-24 08:23:05']\n",
            "['Sam', 'Stuart', 'samstuart@bogusemail.com', '1.00', '5.00', 'Ok', '', '2017-02-12 00:14:31']\n",
            "['Jane', 'Stuart', 'janestuart@bogusemail.com', '1.00', '5.00', 'Ok', '', '2017-02-06 14:52:28']\n",
            "['Dave', 'Davis', 'davedavis@bogusemail.com', '1.00', '0.00', '', '', '2016-11-18 01:37:25']\n",
            "['Sam', 'Patterson', 'sampatterson@bogusemail.com', '1.00', '8.00', 'Ok', '', '2016-11-01 11:27:17']\n",
            "['Tom', 'Jefferson', 'tomjefferson@bogusemail.com', '1.00', '10.00', 'Ok', '', '2016-09-27 09:56:48']\n",
            "['Jane', 'Stuart', 'janestuart@bogusemail.com', '1.00', '7.00', '', '', '2016-08-09 14:42:25']\n",
            "['Maggie', 'Jefferson', 'maggiejefferson@bogusemail.com', '1.00', '12.00', 'Ok', '', '2016-07-26 05:02:16']\n",
            "['No Reward', 'Description: (None for No Reward)', '', '', '', '', '', '']\n",
            "['Mary', 'Wilks', 'marywilks@bogusemail.com', '20.00', '60.00', 'Ok', '', '2017-04-21 02:44:43.395224']\n",
            "['Neil', 'Patterson', 'neilpatterson@bogusemail.com', '10.00', '80.00', 'Ok', '', '2016-11-12 17:49:37']\n",
            "['Corey', 'Davis', 'coreydavis@bogusemail.com', '6.00', '90.00', 'Ok', '', '2016-04-01 15:19:52']\n",
            "['Steve', 'Jacobs', 'stevejacobs@bogusemail.com', '5.00', '21.00', 'Ok', '', '2017-01-04 19:38:44']\n",
            "['Jane', 'Jenkins', 'janejenkins@bogusemail.com', '5.00', '30.00', 'Ok', '', '2017-01-15 17:24:39']\n",
            "['John', 'Jacobs', 'johnjacobs@bogusemail.com', '3.14', '34.54', 'Ok', '', '2016-08-23 16:09:25']\n",
            "['Neil', 'Smith', 'neilsmith@bogusemail.com', '3.00', '24.00', 'Ok', '', '2016-11-28 02:57:48']\n",
            "['Corey', 'Wilks', 'coreywilks@bogusemail.com', '2.00', '8.00', 'Ok', '', '2017-03-26 20:13:08.207869']\n",
            "['Corey', 'Smith', 'coreysmith@bogusemail.com', '1.00', '0.00', 'Ok', '', '2017-07-05 01:50:35.171076']\n",
            "['Mary', 'Patterson', 'marypatterson@bogusemail.com', '1.00', '0.00', 'Ok', '', '2017-07-04 18:05:23.052059']\n",
            "['Jane', 'Stuart', 'janestuart@bogusemail.com', '1.00', '2.00', 'Ok', '', '2017-05-21 19:42:36.098523']\n",
            "['Travis', 'Arnold', 'travisarnold@bogusemail.com', '1.00', '3.00', 'Ok', '', '2017-04-19 08:04:33.428559']\n",
            "['John', 'Robinson', 'johnrobinson@bogusemail.com', '1.00', '4.00', 'Ok', '', '2017-03-30 14:59:33.850333']\n",
            "['Travis', 'Arnold', 'travisarnold@bogusemail.com', '1.00', '6.00', 'Ok', '', '2017-01-28 22:02:57']\n"
          ]
        }
      ],
      "source": [
        "import csv\n",
        "\n",
        "html_output=''\n",
        "names =[]\n",
        "\n",
        "with open('patrons.csv','r') as data_field:\n",
        "  csv_file = csv.reader(data_field)\n",
        "\n",
        "  for line in csv_file:\n",
        "    print(line)\n",
        "\n"
      ]
    },
    {
      "cell_type": "code",
      "source": [
        "import csv\n",
        "\n",
        "html_output=''\n",
        "names =[]\n",
        "\n",
        "with open('patrons.csv','r') as data_field:\n",
        "  csv_file = csv.reader(data_field)\n",
        "\n",
        "  next(csv_file)\n",
        "  next(csv_file)\n",
        "\n",
        "  for line in csv_file:\n",
        "    print(line)\n",
        "\n"
      ],
      "metadata": {
        "colab": {
          "base_uri": "https://localhost:8080/"
        },
        "id": "qdUmDh1y_ERR",
        "outputId": "3c5b90ee-9249-473b-f99f-18743d628e6e"
      },
      "execution_count": null,
      "outputs": [
        {
          "output_type": "stream",
          "name": "stdout",
          "text": [
            "['John', 'Doe', 'johndoe@bogusemail.com', '10.00', '20.00', 'Ok', '', '2017-05-06 21:28:06.183108']\n",
            "['Dave', 'Smith', 'davesmith@bogusemail.com', '5.00', '10.00', 'Ok', '', '2017-05-29 16:13:58.318920']\n",
            "['Mary', 'Jacobs', 'maryjacobs@bogusemail.com', '5.00', '10.00', 'Ok', '', '2017-05-14 07:37:01.074648']\n",
            "['Jane', 'Stuart', 'janestuart@bogusemail.com', '5.00', '25.00', 'Ok', '', '2016-12-30 18:12:13']\n",
            "['Tom', 'Wright', 'tomwright@bogusemail.com', '5.00', '15.00', 'Ok', '', '2017-04-14 04:02:06.658439']\n",
            "['Steve', 'Robinson', 'steverobinson@bogusemail.com', '5.00', '20.00', 'Ok', '', '2017-03-17 02:20:14']\n",
            "['Nicole', 'Jacobs', 'nicolejacobs@bogusemail.com', '5.00', '20.00', 'Ok', '', '2017-03-12 17:07:29']\n",
            "['Jane', 'Wright', 'janewright@bogusemail.com', '5.00', '25.00', '', '', '2017-01-14 17:40:06']\n",
            "['Jane', 'Doe', 'janedoe@bogusemail.com', '2.50', '5.00', 'Ok', '', '2017-05-14 11:20:50.798440']\n",
            "['Kurt', 'Wright', 'kurtwright@bogusemail.com', '2.00', '2.00', 'Ok', '', '2017-06-23 21:12:15.662157']\n",
            "['Kurt', 'Robinson', 'kurtrobinson@bogusemail.com', '2.00', '4.00', 'Ok', '', '2017-05-03 03:18:54.877885']\n",
            "['Jane', 'Jenkins', 'janejenkins@bogusemail.com', '2.00', '8.00', 'Ok', '', '2017-03-23 16:37:47.708634']\n",
            "['Neil', 'Robinson', 'neilrobinson@bogusemail.com', '1.50', '3.00', 'Ok', '', '2017-05-26 19:59:51.013984']\n",
            "['Tom', 'Patterson', 'tompatterson@bogusemail.com', '1.34', '4.02', 'Ok', '', '2017-04-27 01:55:12.313799']\n",
            "['Sam', 'Jenkins', 'samjenkins@bogusemail.com', '1.00', '0.00', 'Ok', '', '2017-07-16 02:34:47.674287']\n",
            "['Steve', 'Stuart', 'stevestuart@bogusemail.com', '1.00', '1.00', 'Ok', '', '2017-06-12 03:32:00.706554']\n",
            "['Maggie', 'Patterson', 'maggiepatterson@bogusemail.com', '1.00', '2.00', 'Ok', '', '2017-05-26 01:23:14.097393']\n",
            "['Maggie', 'Stuart', 'maggiestuart@bogusemail.com', '1.00', '2.00', 'Ok', '', '2017-05-19 23:11:08.624354']\n",
            "['Jane', 'Doe', 'janedoe@bogusemail.com', '1.00', '3.00', 'Ok', '', '2017-04-15 19:40:17.044921']\n",
            "['Steve', 'Patterson', 'stevepatterson@bogusemail.com', '1.00', '3.00', 'Ok', '', '2017-04-09 17:14:23.591656']\n",
            "['Dave', 'Smith', 'davesmith@bogusemail.com', '1.00', '3.00', 'Ok', '', '2017-04-01 18:35:10.731005']\n",
            "['Sam', 'Wilks', 'samwilks@bogusemail.com', '1.00', '4.00', 'Ok', '', '2017-03-01 09:40:56']\n",
            "['Kurt', 'Jefferson', 'kurtjefferson@bogusemail.com', '1.00', '5.00', 'Ok', '', '2017-02-24 08:23:05']\n",
            "['Sam', 'Stuart', 'samstuart@bogusemail.com', '1.00', '5.00', 'Ok', '', '2017-02-12 00:14:31']\n",
            "['Jane', 'Stuart', 'janestuart@bogusemail.com', '1.00', '5.00', 'Ok', '', '2017-02-06 14:52:28']\n",
            "['Dave', 'Davis', 'davedavis@bogusemail.com', '1.00', '0.00', '', '', '2016-11-18 01:37:25']\n",
            "['Sam', 'Patterson', 'sampatterson@bogusemail.com', '1.00', '8.00', 'Ok', '', '2016-11-01 11:27:17']\n",
            "['Tom', 'Jefferson', 'tomjefferson@bogusemail.com', '1.00', '10.00', 'Ok', '', '2016-09-27 09:56:48']\n",
            "['Jane', 'Stuart', 'janestuart@bogusemail.com', '1.00', '7.00', '', '', '2016-08-09 14:42:25']\n",
            "['Maggie', 'Jefferson', 'maggiejefferson@bogusemail.com', '1.00', '12.00', 'Ok', '', '2016-07-26 05:02:16']\n",
            "['No Reward', 'Description: (None for No Reward)', '', '', '', '', '', '']\n",
            "['Mary', 'Wilks', 'marywilks@bogusemail.com', '20.00', '60.00', 'Ok', '', '2017-04-21 02:44:43.395224']\n",
            "['Neil', 'Patterson', 'neilpatterson@bogusemail.com', '10.00', '80.00', 'Ok', '', '2016-11-12 17:49:37']\n",
            "['Corey', 'Davis', 'coreydavis@bogusemail.com', '6.00', '90.00', 'Ok', '', '2016-04-01 15:19:52']\n",
            "['Steve', 'Jacobs', 'stevejacobs@bogusemail.com', '5.00', '21.00', 'Ok', '', '2017-01-04 19:38:44']\n",
            "['Jane', 'Jenkins', 'janejenkins@bogusemail.com', '5.00', '30.00', 'Ok', '', '2017-01-15 17:24:39']\n",
            "['John', 'Jacobs', 'johnjacobs@bogusemail.com', '3.14', '34.54', 'Ok', '', '2016-08-23 16:09:25']\n",
            "['Neil', 'Smith', 'neilsmith@bogusemail.com', '3.00', '24.00', 'Ok', '', '2016-11-28 02:57:48']\n",
            "['Corey', 'Wilks', 'coreywilks@bogusemail.com', '2.00', '8.00', 'Ok', '', '2017-03-26 20:13:08.207869']\n",
            "['Corey', 'Smith', 'coreysmith@bogusemail.com', '1.00', '0.00', 'Ok', '', '2017-07-05 01:50:35.171076']\n",
            "['Mary', 'Patterson', 'marypatterson@bogusemail.com', '1.00', '0.00', 'Ok', '', '2017-07-04 18:05:23.052059']\n",
            "['Jane', 'Stuart', 'janestuart@bogusemail.com', '1.00', '2.00', 'Ok', '', '2017-05-21 19:42:36.098523']\n",
            "['Travis', 'Arnold', 'travisarnold@bogusemail.com', '1.00', '3.00', 'Ok', '', '2017-04-19 08:04:33.428559']\n",
            "['John', 'Robinson', 'johnrobinson@bogusemail.com', '1.00', '4.00', 'Ok', '', '2017-03-30 14:59:33.850333']\n",
            "['Travis', 'Arnold', 'travisarnold@bogusemail.com', '1.00', '6.00', 'Ok', '', '2017-01-28 22:02:57']\n"
          ]
        }
      ]
    },
    {
      "cell_type": "code",
      "source": [
        "import csv\n",
        "\n",
        "html_output=''\n",
        "names =[]\n",
        "\n",
        "with open('patrons.csv','r') as data_field:\n",
        "  csv_file = csv.reader(data_field)\n",
        "\n",
        "  next(csv_file)\n",
        "  next(csv_file)\n",
        "\n",
        "  for line in csv_file:\n",
        "    names.append(f\"{line[0]} {line[1]}\")\n",
        "\n",
        "for name in names:\n",
        "  print(name)\n",
        "\n",
        "\n"
      ],
      "metadata": {
        "colab": {
          "base_uri": "https://localhost:8080/"
        },
        "id": "vXdqNIP4D1tZ",
        "outputId": "33cf8280-38a5-4eff-e758-2602a914ec94"
      },
      "execution_count": null,
      "outputs": [
        {
          "output_type": "stream",
          "name": "stdout",
          "text": [
            "John Doe\n",
            "Dave Smith\n",
            "Mary Jacobs\n",
            "Jane Stuart\n",
            "Tom Wright\n",
            "Steve Robinson\n",
            "Nicole Jacobs\n",
            "Jane Wright\n",
            "Jane Doe\n",
            "Kurt Wright\n",
            "Kurt Robinson\n",
            "Jane Jenkins\n",
            "Neil Robinson\n",
            "Tom Patterson\n",
            "Sam Jenkins\n",
            "Steve Stuart\n",
            "Maggie Patterson\n",
            "Maggie Stuart\n",
            "Jane Doe\n",
            "Steve Patterson\n",
            "Dave Smith\n",
            "Sam Wilks\n",
            "Kurt Jefferson\n",
            "Sam Stuart\n",
            "Jane Stuart\n",
            "Dave Davis\n",
            "Sam Patterson\n",
            "Tom Jefferson\n",
            "Jane Stuart\n",
            "Maggie Jefferson\n",
            "No Reward Description: (None for No Reward)\n",
            "Mary Wilks\n",
            "Neil Patterson\n",
            "Corey Davis\n",
            "Steve Jacobs\n",
            "Jane Jenkins\n",
            "John Jacobs\n",
            "Neil Smith\n",
            "Corey Wilks\n",
            "Corey Smith\n",
            "Mary Patterson\n",
            "Jane Stuart\n",
            "Travis Arnold\n",
            "John Robinson\n",
            "Travis Arnold\n"
          ]
        }
      ]
    },
    {
      "cell_type": "code",
      "source": [
        "import csv\n",
        "\n",
        "html_output=''\n",
        "names =[]\n",
        "\n",
        "with open('patrons.csv','r') as data_field:\n",
        "  csv_file = csv.reader(data_field)\n",
        "\n",
        "  next(csv_file)\n",
        "  next(csv_file)\n",
        "\n",
        "  for line in csv_file:\n",
        "    if line[0]==\"No Reward\":\n",
        "      continue\n",
        "    names.append(f\"{line[0]} {line[1]}\")\n",
        "\n",
        "for name in names:\n",
        "  print(name)\n",
        "\n",
        "\n"
      ],
      "metadata": {
        "colab": {
          "base_uri": "https://localhost:8080/"
        },
        "id": "Pfqu_eyAEZGm",
        "outputId": "33288693-e388-49eb-abc9-c479a9a29807"
      },
      "execution_count": null,
      "outputs": [
        {
          "output_type": "stream",
          "name": "stdout",
          "text": [
            "John Doe\n",
            "Dave Smith\n",
            "Mary Jacobs\n",
            "Jane Stuart\n",
            "Tom Wright\n",
            "Steve Robinson\n",
            "Nicole Jacobs\n",
            "Jane Wright\n",
            "Jane Doe\n",
            "Kurt Wright\n",
            "Kurt Robinson\n",
            "Jane Jenkins\n",
            "Neil Robinson\n",
            "Tom Patterson\n",
            "Sam Jenkins\n",
            "Steve Stuart\n",
            "Maggie Patterson\n",
            "Maggie Stuart\n",
            "Jane Doe\n",
            "Steve Patterson\n",
            "Dave Smith\n",
            "Sam Wilks\n",
            "Kurt Jefferson\n",
            "Sam Stuart\n",
            "Jane Stuart\n",
            "Dave Davis\n",
            "Sam Patterson\n",
            "Tom Jefferson\n",
            "Jane Stuart\n",
            "Maggie Jefferson\n",
            "Mary Wilks\n",
            "Neil Patterson\n",
            "Corey Davis\n",
            "Steve Jacobs\n",
            "Jane Jenkins\n",
            "John Jacobs\n",
            "Neil Smith\n",
            "Corey Wilks\n",
            "Corey Smith\n",
            "Mary Patterson\n",
            "Jane Stuart\n",
            "Travis Arnold\n",
            "John Robinson\n",
            "Travis Arnold\n"
          ]
        }
      ]
    },
    {
      "cell_type": "code",
      "source": [
        "import csv\n",
        "\n",
        "html_output=''\n",
        "names =[]\n",
        "\n",
        "with open('patrons.csv','r') as data_field:\n",
        "  csv_file = csv.reader(data_field)\n",
        "\n",
        "  next(csv_file)\n",
        "  next(csv_file)\n",
        "\n",
        "  for line in csv_file:\n",
        "    if line[0]==\"No Reward\":\n",
        "      continue\n",
        "    names.append(f\"{line[0]} {line[1]}\")\n",
        "\n",
        "html_output += f'<p>ther are {len(names)} contribution</p>'\n",
        "print(html_output)"
      ],
      "metadata": {
        "colab": {
          "base_uri": "https://localhost:8080/"
        },
        "id": "cXs_UdvWEoIa",
        "outputId": "7de425b1-960f-4527-d51e-b278bfb18457"
      },
      "execution_count": null,
      "outputs": [
        {
          "output_type": "stream",
          "name": "stdout",
          "text": [
            "<p>ther are 44 contribution</p>\n"
          ]
        }
      ]
    },
    {
      "cell_type": "code",
      "source": [
        "import csv\n",
        "\n",
        "html_output=''\n",
        "names =[]\n",
        "\n",
        "with open('patrons.csv','r') as data_field:\n",
        "  csv_file = csv.reader(data_field)\n",
        "\n",
        "  next(csv_file)\n",
        "  next(csv_file)\n",
        "\n",
        "  for line in csv_file:\n",
        "    if line[0]==\"No Reward\":\n",
        "      continue\n",
        "    names.append(f\"{line[0]} {line[1]}\")\n",
        "\n",
        "html_output += f'<p>ther are {len(names)} contribution</p>'\n",
        "\n",
        "html_output += '\\n<ul>'\n",
        "\n",
        "for name in names:\n",
        "  html_output += f'\\n\\t<li>{name}</li>'\n",
        "\n",
        "html_output += '\\n</ul>'\n",
        "\n",
        "print(html_output)\n",
        "\n",
        "\n",
        "\n"
      ],
      "metadata": {
        "colab": {
          "base_uri": "https://localhost:8080/"
        },
        "id": "3dhopBNkFKn7",
        "outputId": "63c743a2-9654-4a31-f02a-ef6a3bfd22f0"
      },
      "execution_count": null,
      "outputs": [
        {
          "output_type": "stream",
          "name": "stdout",
          "text": [
            "<p>ther are 44 contribution</p>\n",
            "<ul>\n",
            "\t<li>John Doe</li>\n",
            "\t<li>Dave Smith</li>\n",
            "\t<li>Mary Jacobs</li>\n",
            "\t<li>Jane Stuart</li>\n",
            "\t<li>Tom Wright</li>\n",
            "\t<li>Steve Robinson</li>\n",
            "\t<li>Nicole Jacobs</li>\n",
            "\t<li>Jane Wright</li>\n",
            "\t<li>Jane Doe</li>\n",
            "\t<li>Kurt Wright</li>\n",
            "\t<li>Kurt Robinson</li>\n",
            "\t<li>Jane Jenkins</li>\n",
            "\t<li>Neil Robinson</li>\n",
            "\t<li>Tom Patterson</li>\n",
            "\t<li>Sam Jenkins</li>\n",
            "\t<li>Steve Stuart</li>\n",
            "\t<li>Maggie Patterson</li>\n",
            "\t<li>Maggie Stuart</li>\n",
            "\t<li>Jane Doe</li>\n",
            "\t<li>Steve Patterson</li>\n",
            "\t<li>Dave Smith</li>\n",
            "\t<li>Sam Wilks</li>\n",
            "\t<li>Kurt Jefferson</li>\n",
            "\t<li>Sam Stuart</li>\n",
            "\t<li>Jane Stuart</li>\n",
            "\t<li>Dave Davis</li>\n",
            "\t<li>Sam Patterson</li>\n",
            "\t<li>Tom Jefferson</li>\n",
            "\t<li>Jane Stuart</li>\n",
            "\t<li>Maggie Jefferson</li>\n",
            "\t<li>Mary Wilks</li>\n",
            "\t<li>Neil Patterson</li>\n",
            "\t<li>Corey Davis</li>\n",
            "\t<li>Steve Jacobs</li>\n",
            "\t<li>Jane Jenkins</li>\n",
            "\t<li>John Jacobs</li>\n",
            "\t<li>Neil Smith</li>\n",
            "\t<li>Corey Wilks</li>\n",
            "\t<li>Corey Smith</li>\n",
            "\t<li>Mary Patterson</li>\n",
            "\t<li>Jane Stuart</li>\n",
            "\t<li>Travis Arnold</li>\n",
            "\t<li>John Robinson</li>\n",
            "\t<li>Travis Arnold</li>\n",
            "</ul>\n"
          ]
        }
      ]
    },
    {
      "cell_type": "code",
      "source": [
        "import csv\n",
        "\n",
        "html_output=''\n",
        "names =[]\n",
        "\n",
        "with open('patrons.csv','r') as data_field:\n",
        "  csv_file = csv.DictReader(data_field)\n",
        "\n",
        "  next(csv_file)\n",
        "  next(csv_file)\n",
        "\n",
        "  for line in csv_file:\n",
        "    if line['FirstName']==\"No Reward\":\n",
        "      continue\n",
        "    names.append(f\"{line['FirstName']} {line['LastName']}\")\n",
        "\n",
        "html_output += f'<p>ther are {len(names)} contribution</p>'\n",
        "\n",
        "html_output += '\\n<ul>'\n",
        "\n",
        "for name in names:\n",
        "  html_output += f'\\n\\t<li>{name}</li>'\n",
        "\n",
        "html_output += '\\n</ul>'\n",
        "\n",
        "print(html_output)\n",
        "\n",
        "\n",
        "\n",
        "\n"
      ],
      "metadata": {
        "colab": {
          "base_uri": "https://localhost:8080/"
        },
        "id": "4fk9qm0hF54N",
        "outputId": "a1120849-f595-4f59-a278-7b2ada811ad8"
      },
      "execution_count": null,
      "outputs": [
        {
          "output_type": "stream",
          "name": "stdout",
          "text": [
            "<p>ther are 43 contribution</p>\n",
            "<ul>\n",
            "\t<li>Dave Smith</li>\n",
            "\t<li>Mary Jacobs</li>\n",
            "\t<li>Jane Stuart</li>\n",
            "\t<li>Tom Wright</li>\n",
            "\t<li>Steve Robinson</li>\n",
            "\t<li>Nicole Jacobs</li>\n",
            "\t<li>Jane Wright</li>\n",
            "\t<li>Jane Doe</li>\n",
            "\t<li>Kurt Wright</li>\n",
            "\t<li>Kurt Robinson</li>\n",
            "\t<li>Jane Jenkins</li>\n",
            "\t<li>Neil Robinson</li>\n",
            "\t<li>Tom Patterson</li>\n",
            "\t<li>Sam Jenkins</li>\n",
            "\t<li>Steve Stuart</li>\n",
            "\t<li>Maggie Patterson</li>\n",
            "\t<li>Maggie Stuart</li>\n",
            "\t<li>Jane Doe</li>\n",
            "\t<li>Steve Patterson</li>\n",
            "\t<li>Dave Smith</li>\n",
            "\t<li>Sam Wilks</li>\n",
            "\t<li>Kurt Jefferson</li>\n",
            "\t<li>Sam Stuart</li>\n",
            "\t<li>Jane Stuart</li>\n",
            "\t<li>Dave Davis</li>\n",
            "\t<li>Sam Patterson</li>\n",
            "\t<li>Tom Jefferson</li>\n",
            "\t<li>Jane Stuart</li>\n",
            "\t<li>Maggie Jefferson</li>\n",
            "\t<li>Mary Wilks</li>\n",
            "\t<li>Neil Patterson</li>\n",
            "\t<li>Corey Davis</li>\n",
            "\t<li>Steve Jacobs</li>\n",
            "\t<li>Jane Jenkins</li>\n",
            "\t<li>John Jacobs</li>\n",
            "\t<li>Neil Smith</li>\n",
            "\t<li>Corey Wilks</li>\n",
            "\t<li>Corey Smith</li>\n",
            "\t<li>Mary Patterson</li>\n",
            "\t<li>Jane Stuart</li>\n",
            "\t<li>Travis Arnold</li>\n",
            "\t<li>John Robinson</li>\n",
            "\t<li>Travis Arnold</li>\n",
            "</ul>\n"
          ]
        }
      ]
    },
    {
      "cell_type": "code",
      "source": [],
      "metadata": {
        "id": "H7s3a9ebGu1c"
      },
      "execution_count": null,
      "outputs": []
    }
  ]
}