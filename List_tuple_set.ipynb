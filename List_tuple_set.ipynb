{
  "nbformat": 4,
  "nbformat_minor": 0,
  "metadata": {
    "colab": {
      "provenance": [],
      "authorship_tag": "ABX9TyOle6flO+hhuAECXys1bvyE",
      "include_colab_link": true
    },
    "kernelspec": {
      "name": "python3",
      "display_name": "Python 3"
    },
    "language_info": {
      "name": "python"
    }
  },
  "cells": [
    {
      "cell_type": "markdown",
      "metadata": {
        "id": "view-in-github",
        "colab_type": "text"
      },
      "source": [
        "<a href=\"https://colab.research.google.com/github/arikaran007/python/blob/main/List_tuple_set.ipynb\" target=\"_parent\"><img src=\"https://colab.research.google.com/assets/colab-badge.svg\" alt=\"Open In Colab\"/></a>"
      ]
    },
    {
      "cell_type": "markdown",
      "source": [
        "# **List**"
      ],
      "metadata": {
        "id": "xqGUhpr06hKg"
      }
    },
    {
      "cell_type": "code",
      "execution_count": 13,
      "metadata": {
        "colab": {
          "base_uri": "https://localhost:8080/"
        },
        "id": "SNdZR2jS6GK4",
        "outputId": "b884125e-fa04-4d99-d5b3-ae3a86a7caf2"
      },
      "outputs": [
        {
          "output_type": "stream",
          "name": "stdout",
          "text": [
            "['tamil', 'english', 'maths']\n",
            "3\n"
          ]
        }
      ],
      "source": [
        "courses = ['tamil','english','maths']\n",
        "print(courses)\n",
        "print(len(courses))"
      ]
    },
    {
      "cell_type": "code",
      "source": [
        "print(courses[1])\n",
        "print(courses[-1])\n",
        "print(courses[1:])\n",
        "print(courses)"
      ],
      "metadata": {
        "colab": {
          "base_uri": "https://localhost:8080/"
        },
        "id": "SMH46Cg07vLp",
        "outputId": "c2670bd6-7e23-4417-edc6-2fb4aa08552f"
      },
      "execution_count": 10,
      "outputs": [
        {
          "output_type": "stream",
          "name": "stdout",
          "text": [
            "english\n",
            "science\n",
            "['english', 'maths', 'science', 'science', 'science', 'science']\n",
            "['tamil', 'english', 'maths', 'science', 'science', 'science', 'science']\n"
          ]
        }
      ]
    },
    {
      "cell_type": "code",
      "source": [
        "courses.append('social')\n",
        "print(courses)"
      ],
      "metadata": {
        "colab": {
          "base_uri": "https://localhost:8080/"
        },
        "id": "FHI1tEqg8Qac",
        "outputId": "9ee3fd19-74c9-4769-8a4a-ba0be24d43d3"
      },
      "execution_count": 11,
      "outputs": [
        {
          "output_type": "stream",
          "name": "stdout",
          "text": [
            "['tamil', 'english', 'maths', 'science', 'science', 'science', 'science', 'social']\n"
          ]
        }
      ]
    },
    {
      "cell_type": "code",
      "source": [
        "courses.insert(0,'computer')\n",
        "print(courses)"
      ],
      "metadata": {
        "colab": {
          "base_uri": "https://localhost:8080/"
        },
        "id": "4R7NIT3l8m-1",
        "outputId": "7e9c92ce-a370-46eb-f2fd-3518c393ed0b"
      },
      "execution_count": 12,
      "outputs": [
        {
          "output_type": "stream",
          "name": "stdout",
          "text": [
            "['computer', 'tamil', 'english', 'maths', 'science', 'science', 'science', 'science', 'social']\n"
          ]
        }
      ]
    },
    {
      "cell_type": "code",
      "source": [
        "courses = ['tamil','english','maths']\n",
        "courses1 = ['science','social']\n",
        "\n",
        "courses.extend(courses1)\n",
        "print(courses)"
      ],
      "metadata": {
        "colab": {
          "base_uri": "https://localhost:8080/"
        },
        "id": "o8Nqlrq18-Ow",
        "outputId": "3d1d2289-dcee-42c2-9c1b-225069310e6b"
      },
      "execution_count": 20,
      "outputs": [
        {
          "output_type": "stream",
          "name": "stdout",
          "text": [
            "['tamil', 'english', 'maths', 'science', 'social']\n"
          ]
        }
      ]
    },
    {
      "cell_type": "code",
      "source": [
        "print(courses)"
      ],
      "metadata": {
        "colab": {
          "base_uri": "https://localhost:8080/"
        },
        "id": "dbMTVyqF-ft6",
        "outputId": "5ae9c142-7148-499e-e882-e6de473c4600"
      },
      "execution_count": 17,
      "outputs": [
        {
          "output_type": "stream",
          "name": "stdout",
          "text": [
            "['tamil', 'english', 'science', 'social']\n"
          ]
        }
      ]
    },
    {
      "cell_type": "code",
      "source": [
        "courses.remove('english')\n",
        "print(courses)"
      ],
      "metadata": {
        "colab": {
          "base_uri": "https://localhost:8080/"
        },
        "id": "1CsDKr9f9usU",
        "outputId": "ee90acda-795c-4e4c-ffab-2c84a2765615"
      },
      "execution_count": 18,
      "outputs": [
        {
          "output_type": "stream",
          "name": "stdout",
          "text": [
            "['tamil', 'science', 'social']\n"
          ]
        }
      ]
    },
    {
      "cell_type": "code",
      "source": [
        "popped = courses.pop()\n",
        "print(popped)\n",
        "print(courses)"
      ],
      "metadata": {
        "colab": {
          "base_uri": "https://localhost:8080/"
        },
        "id": "n9mTV-2Z-K1n",
        "outputId": "09f1da9a-4eb9-45ee-bc7e-b8d0a18a745f"
      },
      "execution_count": 19,
      "outputs": [
        {
          "output_type": "stream",
          "name": "stdout",
          "text": [
            "social\n",
            "['tamil', 'science']\n"
          ]
        }
      ]
    },
    {
      "cell_type": "code",
      "source": [
        "courses = ['tamil','english','maths','science','social']\n",
        "\n",
        "courses.reverse()\n",
        "print(courses)"
      ],
      "metadata": {
        "colab": {
          "base_uri": "https://localhost:8080/"
        },
        "id": "GvXOuu3o-2TY",
        "outputId": "db45a94a-6be8-4032-fff1-ea29da0fab18"
      },
      "execution_count": 22,
      "outputs": [
        {
          "output_type": "stream",
          "name": "stdout",
          "text": [
            "['social', 'science', 'maths', 'english', 'tamil']\n"
          ]
        }
      ]
    },
    {
      "cell_type": "code",
      "source": [
        "courses.sort()\n",
        "print(courses)"
      ],
      "metadata": {
        "colab": {
          "base_uri": "https://localhost:8080/"
        },
        "id": "EoUQXAWrABCZ",
        "outputId": "52a7c848-0458-43fb-d6f8-7fcc4ac1c1c0"
      },
      "execution_count": 24,
      "outputs": [
        {
          "output_type": "stream",
          "name": "stdout",
          "text": [
            "['english', 'maths', 'science', 'social', 'tamil']\n"
          ]
        }
      ]
    },
    {
      "cell_type": "code",
      "source": [
        "courses.sort(reverse=True)\n",
        "print(courses)"
      ],
      "metadata": {
        "colab": {
          "base_uri": "https://localhost:8080/"
        },
        "id": "WIbhmx-hAcqb",
        "outputId": "dd0e17eb-d185-47b1-f337-1e69965ff4b1"
      },
      "execution_count": 27,
      "outputs": [
        {
          "output_type": "stream",
          "name": "stdout",
          "text": [
            "['tamil', 'social', 'science', 'maths', 'english']\n"
          ]
        }
      ]
    },
    {
      "cell_type": "code",
      "source": [
        "sorted_list = sorted(courses)\n",
        "print(sorted_list)"
      ],
      "metadata": {
        "colab": {
          "base_uri": "https://localhost:8080/"
        },
        "id": "oLIkfSu3AMDz",
        "outputId": "d5c23f44-9bb5-42b1-ff32-b3a4f167bd66"
      },
      "execution_count": 26,
      "outputs": [
        {
          "output_type": "stream",
          "name": "stdout",
          "text": [
            "['english', 'maths', 'science', 'social', 'tamil']\n"
          ]
        }
      ]
    },
    {
      "cell_type": "code",
      "source": [
        "print(courses.index('maths'))"
      ],
      "metadata": {
        "colab": {
          "base_uri": "https://localhost:8080/"
        },
        "id": "vCnTBF25AVeB",
        "outputId": "c6da1f1b-e53a-4a9f-887b-71d50bd3584c"
      },
      "execution_count": 28,
      "outputs": [
        {
          "output_type": "stream",
          "name": "stdout",
          "text": [
            "3\n"
          ]
        }
      ]
    },
    {
      "cell_type": "code",
      "source": [
        "print('art' in courses)"
      ],
      "metadata": {
        "colab": {
          "base_uri": "https://localhost:8080/"
        },
        "id": "H1mShyuxA-Mt",
        "outputId": "e67678b8-29f9-4aba-9ab9-138d95f57bce"
      },
      "execution_count": 29,
      "outputs": [
        {
          "output_type": "stream",
          "name": "stdout",
          "text": [
            "False\n"
          ]
        }
      ]
    },
    {
      "cell_type": "code",
      "source": [
        "for index,course in enumerate(courses,start=1):\n",
        "  print(index,course)"
      ],
      "metadata": {
        "colab": {
          "base_uri": "https://localhost:8080/"
        },
        "id": "u-33vjhxBFtp",
        "outputId": "f737421e-cd86-4440-ae96-3601e1c1c6aa"
      },
      "execution_count": 33,
      "outputs": [
        {
          "output_type": "stream",
          "name": "stdout",
          "text": [
            "1 tamil\n",
            "2 social\n",
            "3 science\n",
            "4 maths\n",
            "5 english\n"
          ]
        }
      ]
    },
    {
      "cell_type": "code",
      "source": [
        "courses_str = ', '.join(courses)\n",
        "print(courses_str)"
      ],
      "metadata": {
        "colab": {
          "base_uri": "https://localhost:8080/"
        },
        "id": "yeDMe9zvCCL6",
        "outputId": "e55a7982-1182-425d-97c9-8b7b8a0708bb"
      },
      "execution_count": 34,
      "outputs": [
        {
          "output_type": "stream",
          "name": "stdout",
          "text": [
            "tamil, social, science, maths, english\n"
          ]
        }
      ]
    },
    {
      "cell_type": "code",
      "source": [
        "courses_str = ' - '.join(courses)\n",
        "new_list = courses_str.split(' - ')\n",
        "print(courses_str)\n",
        "print(new_list)"
      ],
      "metadata": {
        "colab": {
          "base_uri": "https://localhost:8080/"
        },
        "id": "DH5P_DxZCbza",
        "outputId": "69d93ed3-1b27-4006-bdf6-2183ba41e29f"
      },
      "execution_count": 35,
      "outputs": [
        {
          "output_type": "stream",
          "name": "stdout",
          "text": [
            "tamil - social - science - maths - english\n",
            "['tamil', 'social', 'science', 'maths', 'english']\n"
          ]
        }
      ]
    },
    {
      "cell_type": "markdown",
      "source": [
        "#mutuable"
      ],
      "metadata": {
        "id": "QAe9uboMDdat"
      }
    },
    {
      "cell_type": "code",
      "source": [
        "list1=['tamil','english','maths','science','social']\n",
        "list2 = list1\n",
        "\n",
        "print(list1)\n",
        "print(list2)\n",
        "\n",
        "list1[0] = 'computer'\n",
        "\n",
        "print(list1)\n",
        "print(list2)"
      ],
      "metadata": {
        "colab": {
          "base_uri": "https://localhost:8080/"
        },
        "id": "OY7rjquFC6aP",
        "outputId": "13d55774-816b-4010-f940-fa028b6707c0"
      },
      "execution_count": 37,
      "outputs": [
        {
          "output_type": "stream",
          "name": "stdout",
          "text": [
            "['tamil', 'english', 'maths', 'science', 'social']\n",
            "['tamil', 'english', 'maths', 'science', 'social']\n",
            "['computer', 'english', 'maths', 'science', 'social']\n",
            "['computer', 'english', 'maths', 'science', 'social']\n"
          ]
        }
      ]
    },
    {
      "cell_type": "markdown",
      "source": [
        "#immutable tuple\n"
      ],
      "metadata": {
        "id": "yjKhgFA3D6bg"
      }
    },
    {
      "cell_type": "code",
      "source": [
        "tuple1=('tamil','english','maths','science','social')\n",
        "tuple2 = tuple1\n",
        "\n",
        "print(tuple1)\n",
        "print(tuple2)\n",
        "\n",
        "tuple1[0] = 'computer'\n",
        "\n",
        "print(tuple1)\n",
        "print(tuple2)"
      ],
      "metadata": {
        "colab": {
          "base_uri": "https://localhost:8080/",
          "height": 280
        },
        "id": "RS6RyV-jD4P9",
        "outputId": "ba367e05-654b-4e84-dbcf-75172163a6f1"
      },
      "execution_count": 38,
      "outputs": [
        {
          "output_type": "stream",
          "name": "stdout",
          "text": [
            "('tamil', 'english', 'maths', 'science', 'social')\n",
            "('tamil', 'english', 'maths', 'science', 'social')\n"
          ]
        },
        {
          "output_type": "error",
          "ename": "TypeError",
          "evalue": "ignored",
          "traceback": [
            "\u001b[0;31m---------------------------------------------------------------------------\u001b[0m",
            "\u001b[0;31mTypeError\u001b[0m                                 Traceback (most recent call last)",
            "\u001b[0;32m<ipython-input-38-7fd79aa7d82c>\u001b[0m in \u001b[0;36m<cell line: 7>\u001b[0;34m()\u001b[0m\n\u001b[1;32m      5\u001b[0m \u001b[0mprint\u001b[0m\u001b[0;34m(\u001b[0m\u001b[0mtuple2\u001b[0m\u001b[0;34m)\u001b[0m\u001b[0;34m\u001b[0m\u001b[0;34m\u001b[0m\u001b[0m\n\u001b[1;32m      6\u001b[0m \u001b[0;34m\u001b[0m\u001b[0m\n\u001b[0;32m----> 7\u001b[0;31m \u001b[0mtuple1\u001b[0m\u001b[0;34m[\u001b[0m\u001b[0;36m0\u001b[0m\u001b[0;34m]\u001b[0m \u001b[0;34m=\u001b[0m \u001b[0;34m'computer'\u001b[0m\u001b[0;34m\u001b[0m\u001b[0;34m\u001b[0m\u001b[0m\n\u001b[0m\u001b[1;32m      8\u001b[0m \u001b[0;34m\u001b[0m\u001b[0m\n\u001b[1;32m      9\u001b[0m \u001b[0mprint\u001b[0m\u001b[0;34m(\u001b[0m\u001b[0mtuple1\u001b[0m\u001b[0;34m)\u001b[0m\u001b[0;34m\u001b[0m\u001b[0;34m\u001b[0m\u001b[0m\n",
            "\u001b[0;31mTypeError\u001b[0m: 'tuple' object does not support item assignment"
          ]
        }
      ]
    },
    {
      "cell_type": "markdown",
      "source": [
        "#set\n",
        "\n",
        "unordered\n",
        "not allow duplicate"
      ],
      "metadata": {
        "id": "zae_TO4wEqZW"
      }
    },
    {
      "cell_type": "code",
      "source": [
        "courses={'tamil','english','maths','science','social'}\n",
        "print(courses)"
      ],
      "metadata": {
        "colab": {
          "base_uri": "https://localhost:8080/"
        },
        "id": "-CnFtPLzEOzl",
        "outputId": "692cfe46-832f-4962-a3af-a133e8b26ef5"
      },
      "execution_count": 42,
      "outputs": [
        {
          "output_type": "stream",
          "name": "stdout",
          "text": [
            "{'science', 'social', 'english', 'maths', 'tamil'}\n"
          ]
        }
      ]
    },
    {
      "cell_type": "code",
      "source": [
        "courses={'tamil','english','maths','science','social','maths'}\n",
        "print(courses)"
      ],
      "metadata": {
        "colab": {
          "base_uri": "https://localhost:8080/"
        },
        "id": "SrG_VRt8Fw9Z",
        "outputId": "7e417a20-403b-4ee8-f47a-29cfe200b4d3"
      },
      "execution_count": 43,
      "outputs": [
        {
          "output_type": "stream",
          "name": "stdout",
          "text": [
            "{'science', 'social', 'english', 'maths', 'tamil'}\n"
          ]
        }
      ]
    },
    {
      "cell_type": "code",
      "source": [
        "courses1={'tamil','english','maths'}\n",
        "courses2={'maths','science','social'}\n",
        "\n",
        "print(courses1.intersection(courses2))"
      ],
      "metadata": {
        "colab": {
          "base_uri": "https://localhost:8080/"
        },
        "id": "pdB5i6OvGJXy",
        "outputId": "705229be-c6c5-4dd4-e44b-55024022890f"
      },
      "execution_count": 44,
      "outputs": [
        {
          "output_type": "stream",
          "name": "stdout",
          "text": [
            "{'maths'}\n"
          ]
        }
      ]
    },
    {
      "cell_type": "code",
      "source": [
        "print(courses1.union(courses2))"
      ],
      "metadata": {
        "colab": {
          "base_uri": "https://localhost:8080/"
        },
        "id": "1zHFhmehGdgt",
        "outputId": "db36190a-508c-482a-da2b-ea5fef19b4f4"
      },
      "execution_count": 45,
      "outputs": [
        {
          "output_type": "stream",
          "name": "stdout",
          "text": [
            "{'science', 'social', 'english', 'maths', 'tamil'}\n"
          ]
        }
      ]
    },
    {
      "cell_type": "code",
      "source": [],
      "metadata": {
        "id": "C7k7ypoMGmBH"
      },
      "execution_count": null,
      "outputs": []
    }
  ]
}